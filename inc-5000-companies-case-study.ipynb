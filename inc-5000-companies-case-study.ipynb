{
 "cells": [
  {
   "cell_type": "markdown",
   "id": "134e7006",
   "metadata": {
    "papermill": {
     "duration": 0.018943,
     "end_time": "2024-01-30T11:03:57.326478",
     "exception": false,
     "start_time": "2024-01-30T11:03:57.307535",
     "status": "completed"
    },
    "tags": []
   },
   "source": [
    "A dataset containing information about each company on the INC 5000 list in 2019. Fields include the company name, industry, founding year, website, and location, as well as 2019 revenue, % growth, number of workers (year-over-year), and the number of years on the list.\n",
    "\n",
    "# Recommended Analysis\n",
    "\n",
    "1. What's the average revenue among companies on the list? Broken down by industry?\n",
    "\n",
    "2. Which industries are most and least represented in the list?\n",
    "\n",
    "3. Do you notice any interesting geographic trends?\n",
    "\n",
    "**Divide the whole data of states into zones and then find out the trends**\n",
    "\n",
    "4. Which industries saw the largest average growth rate?\n",
    "\n",
    "5. Which companies had the largest increase in staff/new hires?\n",
    "\n",
    "**Top 5 and Bottom 5 - Companies**\n",
    "\n",
    "6. Did any companies increase revenue while reducing staff?\n",
    "\n",
    "7. Top 1000 - Winner State \n",
    "\n",
    "**The most frequent state appearing in the Top 1000 values of companies**\n",
    "\n",
    "8. Do we have any company which was founded last year and Ranked under Top 100\n"
   ]
  },
  {
   "cell_type": "code",
   "execution_count": 1,
   "id": "28f27f49",
   "metadata": {
    "execution": {
     "iopub.execute_input": "2024-01-30T11:03:57.365988Z",
     "iopub.status.busy": "2024-01-30T11:03:57.365264Z",
     "iopub.status.idle": "2024-01-30T11:04:00.675553Z",
     "shell.execute_reply": "2024-01-30T11:04:00.674347Z"
    },
    "papermill": {
     "duration": 3.333662,
     "end_time": "2024-01-30T11:04:00.678570",
     "exception": false,
     "start_time": "2024-01-30T11:03:57.344908",
     "status": "completed"
    },
    "tags": []
   },
   "outputs": [],
   "source": [
    "#importing necessary libraries for analysis\n",
    "\n",
    "import numpy as np\n",
    "import pandas as pd\n",
    "import matplotlib.pyplot as plt\n",
    "import seaborn as sns\n",
    "import plotly.express as px\n",
    "import datetime as dt"
   ]
  },
  {
   "cell_type": "code",
   "execution_count": 2,
   "id": "54d36457",
   "metadata": {
    "execution": {
     "iopub.execute_input": "2024-01-30T11:04:00.717843Z",
     "iopub.status.busy": "2024-01-30T11:04:00.717264Z",
     "iopub.status.idle": "2024-01-30T11:04:00.803339Z",
     "shell.execute_reply": "2024-01-30T11:04:00.801814Z"
    },
    "papermill": {
     "duration": 0.108658,
     "end_time": "2024-01-30T11:04:00.806321",
     "exception": false,
     "start_time": "2024-01-30T11:04:00.697663",
     "status": "completed"
    },
    "tags": []
   },
   "outputs": [
    {
     "data": {
      "text/html": [
       "<div>\n",
       "<style scoped>\n",
       "    .dataframe tbody tr th:only-of-type {\n",
       "        vertical-align: middle;\n",
       "    }\n",
       "\n",
       "    .dataframe tbody tr th {\n",
       "        vertical-align: top;\n",
       "    }\n",
       "\n",
       "    .dataframe thead th {\n",
       "        text-align: right;\n",
       "    }\n",
       "</style>\n",
       "<table border=\"1\" class=\"dataframe\">\n",
       "  <thead>\n",
       "    <tr style=\"text-align: right;\">\n",
       "      <th></th>\n",
       "      <th>rank</th>\n",
       "      <th>profile</th>\n",
       "      <th>name</th>\n",
       "      <th>url</th>\n",
       "      <th>state</th>\n",
       "      <th>revenue</th>\n",
       "      <th>growth_%</th>\n",
       "      <th>industry</th>\n",
       "      <th>workers</th>\n",
       "      <th>previous_workers</th>\n",
       "      <th>founded</th>\n",
       "      <th>yrs_on_list</th>\n",
       "      <th>metro</th>\n",
       "      <th>city</th>\n",
       "    </tr>\n",
       "  </thead>\n",
       "  <tbody>\n",
       "    <tr>\n",
       "      <th>0</th>\n",
       "      <td>1</td>\n",
       "      <td>https://www.inc.com/profile/freestar</td>\n",
       "      <td>Freestar</td>\n",
       "      <td>http://freestar.com</td>\n",
       "      <td>AZ</td>\n",
       "      <td>36.9 Million</td>\n",
       "      <td>36680.3882</td>\n",
       "      <td>Advertising &amp; Marketing</td>\n",
       "      <td>40.0</td>\n",
       "      <td>5</td>\n",
       "      <td>2015</td>\n",
       "      <td>1</td>\n",
       "      <td>Phoenix</td>\n",
       "      <td>Phoenix</td>\n",
       "    </tr>\n",
       "    <tr>\n",
       "      <th>1</th>\n",
       "      <td>2</td>\n",
       "      <td>https://www.inc.com/profile/freightwise</td>\n",
       "      <td>FreightWise</td>\n",
       "      <td>http://freightwisellc.com</td>\n",
       "      <td>TN</td>\n",
       "      <td>33.6 Million</td>\n",
       "      <td>30547.9317</td>\n",
       "      <td>Logistics &amp; Transportation</td>\n",
       "      <td>39.0</td>\n",
       "      <td>8</td>\n",
       "      <td>2015</td>\n",
       "      <td>1</td>\n",
       "      <td>Nashville</td>\n",
       "      <td>Brentwood</td>\n",
       "    </tr>\n",
       "    <tr>\n",
       "      <th>2</th>\n",
       "      <td>3</td>\n",
       "      <td>https://www.inc.com/profile/ceces-veggie</td>\n",
       "      <td>Cece's Veggie Co.</td>\n",
       "      <td>http://cecesveggieco.com</td>\n",
       "      <td>TX</td>\n",
       "      <td>24.9 Million</td>\n",
       "      <td>23880.4852</td>\n",
       "      <td>Food &amp; Beverage</td>\n",
       "      <td>190.0</td>\n",
       "      <td>10</td>\n",
       "      <td>2015</td>\n",
       "      <td>1</td>\n",
       "      <td>Austin</td>\n",
       "      <td>Austin</td>\n",
       "    </tr>\n",
       "    <tr>\n",
       "      <th>3</th>\n",
       "      <td>4</td>\n",
       "      <td>https://www.inc.com/profile/ladyboss</td>\n",
       "      <td>LadyBoss</td>\n",
       "      <td>http://ladyboss.com</td>\n",
       "      <td>NM</td>\n",
       "      <td>32.4 Million</td>\n",
       "      <td>21849.8925</td>\n",
       "      <td>Consumer Products &amp; Services</td>\n",
       "      <td>57.0</td>\n",
       "      <td>2</td>\n",
       "      <td>2014</td>\n",
       "      <td>1</td>\n",
       "      <td>NaN</td>\n",
       "      <td>Albuquerque</td>\n",
       "    </tr>\n",
       "    <tr>\n",
       "      <th>4</th>\n",
       "      <td>5</td>\n",
       "      <td>https://www.inc.com/profile/perpay</td>\n",
       "      <td>Perpay</td>\n",
       "      <td>http://perpay.com</td>\n",
       "      <td>PA</td>\n",
       "      <td>22.5 Million</td>\n",
       "      <td>18166.4070</td>\n",
       "      <td>Retail</td>\n",
       "      <td>25.0</td>\n",
       "      <td>6</td>\n",
       "      <td>2014</td>\n",
       "      <td>1</td>\n",
       "      <td>Philadelphia</td>\n",
       "      <td>Philadelphia</td>\n",
       "    </tr>\n",
       "    <tr>\n",
       "      <th>...</th>\n",
       "      <td>...</td>\n",
       "      <td>...</td>\n",
       "      <td>...</td>\n",
       "      <td>...</td>\n",
       "      <td>...</td>\n",
       "      <td>...</td>\n",
       "      <td>...</td>\n",
       "      <td>...</td>\n",
       "      <td>...</td>\n",
       "      <td>...</td>\n",
       "      <td>...</td>\n",
       "      <td>...</td>\n",
       "      <td>...</td>\n",
       "      <td>...</td>\n",
       "    </tr>\n",
       "    <tr>\n",
       "      <th>5007</th>\n",
       "      <td>4996</td>\n",
       "      <td>https://www.inc.com/profile/village-plumbing-air</td>\n",
       "      <td>Village Plumbing &amp; Air</td>\n",
       "      <td>villageplumbing.com</td>\n",
       "      <td>TX</td>\n",
       "      <td>15.8 Million</td>\n",
       "      <td>52.2377</td>\n",
       "      <td>Consumer Products &amp; Services</td>\n",
       "      <td>88.0</td>\n",
       "      <td>62</td>\n",
       "      <td>1946</td>\n",
       "      <td>3</td>\n",
       "      <td>Houston</td>\n",
       "      <td>Houston</td>\n",
       "    </tr>\n",
       "    <tr>\n",
       "      <th>5008</th>\n",
       "      <td>4997</td>\n",
       "      <td>https://www.inc.com/profile/real-restoration-g...</td>\n",
       "      <td>Real Restoration Group</td>\n",
       "      <td>realrestoration.com</td>\n",
       "      <td>IL</td>\n",
       "      <td>11.6 Million</td>\n",
       "      <td>52.2127</td>\n",
       "      <td>Construction</td>\n",
       "      <td>380.0</td>\n",
       "      <td>220</td>\n",
       "      <td>2011</td>\n",
       "      <td>1</td>\n",
       "      <td>Chicago</td>\n",
       "      <td>Chicago</td>\n",
       "    </tr>\n",
       "    <tr>\n",
       "      <th>5009</th>\n",
       "      <td>4998</td>\n",
       "      <td>https://www.inc.com/profile/naval-systems</td>\n",
       "      <td>Naval Systems</td>\n",
       "      <td>n-s-i.us</td>\n",
       "      <td>MD</td>\n",
       "      <td>29.7 Million</td>\n",
       "      <td>52.2037</td>\n",
       "      <td>Government Services</td>\n",
       "      <td>187.0</td>\n",
       "      <td>127</td>\n",
       "      <td>2004</td>\n",
       "      <td>1</td>\n",
       "      <td>NaN</td>\n",
       "      <td>LEXINGTON PARK</td>\n",
       "    </tr>\n",
       "    <tr>\n",
       "      <th>5010</th>\n",
       "      <td>4999</td>\n",
       "      <td>https://www.inc.com/profile/hnm-systems</td>\n",
       "      <td>HNM Systems</td>\n",
       "      <td>hnmsystems.com</td>\n",
       "      <td>CA</td>\n",
       "      <td>8.8 Million</td>\n",
       "      <td>52.1919</td>\n",
       "      <td>Telecommunications</td>\n",
       "      <td>132.0</td>\n",
       "      <td>47</td>\n",
       "      <td>2011</td>\n",
       "      <td>1</td>\n",
       "      <td>San Diego</td>\n",
       "      <td>Solana Beach</td>\n",
       "    </tr>\n",
       "    <tr>\n",
       "      <th>5011</th>\n",
       "      <td>5000</td>\n",
       "      <td>https://www.inc.com/profile/vivayic</td>\n",
       "      <td>Vivayic</td>\n",
       "      <td>vivayic.com</td>\n",
       "      <td>NE</td>\n",
       "      <td>4.5 Million</td>\n",
       "      <td>52.1691</td>\n",
       "      <td>Business Products &amp; Services</td>\n",
       "      <td>27.0</td>\n",
       "      <td>22</td>\n",
       "      <td>2006</td>\n",
       "      <td>4</td>\n",
       "      <td>NaN</td>\n",
       "      <td>Lincoln</td>\n",
       "    </tr>\n",
       "  </tbody>\n",
       "</table>\n",
       "<p>5012 rows × 14 columns</p>\n",
       "</div>"
      ],
      "text/plain": [
       "      rank                                            profile  \\\n",
       "0        1               https://www.inc.com/profile/freestar   \n",
       "1        2            https://www.inc.com/profile/freightwise   \n",
       "2        3           https://www.inc.com/profile/ceces-veggie   \n",
       "3        4               https://www.inc.com/profile/ladyboss   \n",
       "4        5                 https://www.inc.com/profile/perpay   \n",
       "...    ...                                                ...   \n",
       "5007  4996   https://www.inc.com/profile/village-plumbing-air   \n",
       "5008  4997  https://www.inc.com/profile/real-restoration-g...   \n",
       "5009  4998          https://www.inc.com/profile/naval-systems   \n",
       "5010  4999            https://www.inc.com/profile/hnm-systems   \n",
       "5011  5000                https://www.inc.com/profile/vivayic   \n",
       "\n",
       "                        name                        url state       revenue  \\\n",
       "0                   Freestar        http://freestar.com    AZ  36.9 Million   \n",
       "1                FreightWise  http://freightwisellc.com    TN  33.6 Million   \n",
       "2          Cece's Veggie Co.   http://cecesveggieco.com    TX  24.9 Million   \n",
       "3                   LadyBoss        http://ladyboss.com    NM  32.4 Million   \n",
       "4                     Perpay          http://perpay.com    PA  22.5 Million   \n",
       "...                      ...                        ...   ...           ...   \n",
       "5007  Village Plumbing & Air        villageplumbing.com    TX  15.8 Million   \n",
       "5008  Real Restoration Group        realrestoration.com    IL  11.6 Million   \n",
       "5009           Naval Systems                   n-s-i.us    MD  29.7 Million   \n",
       "5010             HNM Systems             hnmsystems.com    CA   8.8 Million   \n",
       "5011                 Vivayic                vivayic.com    NE   4.5 Million   \n",
       "\n",
       "        growth_%                      industry  workers  previous_workers  \\\n",
       "0     36680.3882       Advertising & Marketing     40.0                 5   \n",
       "1     30547.9317    Logistics & Transportation     39.0                 8   \n",
       "2     23880.4852               Food & Beverage    190.0                10   \n",
       "3     21849.8925  Consumer Products & Services     57.0                 2   \n",
       "4     18166.4070                        Retail     25.0                 6   \n",
       "...          ...                           ...      ...               ...   \n",
       "5007     52.2377  Consumer Products & Services     88.0                62   \n",
       "5008     52.2127                  Construction    380.0               220   \n",
       "5009     52.2037           Government Services    187.0               127   \n",
       "5010     52.1919            Telecommunications    132.0                47   \n",
       "5011     52.1691  Business Products & Services     27.0                22   \n",
       "\n",
       "      founded  yrs_on_list         metro            city  \n",
       "0        2015            1       Phoenix         Phoenix  \n",
       "1        2015            1     Nashville       Brentwood  \n",
       "2        2015            1        Austin          Austin  \n",
       "3        2014            1           NaN     Albuquerque  \n",
       "4        2014            1  Philadelphia    Philadelphia  \n",
       "...       ...          ...           ...             ...  \n",
       "5007     1946            3       Houston         Houston  \n",
       "5008     2011            1       Chicago         Chicago  \n",
       "5009     2004            1           NaN  LEXINGTON PARK  \n",
       "5010     2011            1     San Diego    Solana Beach  \n",
       "5011     2006            4           NaN         Lincoln  \n",
       "\n",
       "[5012 rows x 14 columns]"
      ]
     },
     "execution_count": 2,
     "metadata": {},
     "output_type": "execute_result"
    }
   ],
   "source": [
    "#Reading the dataset \n",
    "\n",
    "df = pd.read_csv('/kaggle/input/inc-5000-companies/INC 5000 Companies 2019.csv')\n",
    "df"
   ]
  },
  {
   "cell_type": "code",
   "execution_count": 3,
   "id": "a6ad9d3d",
   "metadata": {
    "execution": {
     "iopub.execute_input": "2024-01-30T11:04:00.847141Z",
     "iopub.status.busy": "2024-01-30T11:04:00.846757Z",
     "iopub.status.idle": "2024-01-30T11:04:00.866476Z",
     "shell.execute_reply": "2024-01-30T11:04:00.865139Z"
    },
    "papermill": {
     "duration": 0.042632,
     "end_time": "2024-01-30T11:04:00.869063",
     "exception": false,
     "start_time": "2024-01-30T11:04:00.826431",
     "status": "completed"
    },
    "tags": []
   },
   "outputs": [
    {
     "data": {
      "text/html": [
       "<div>\n",
       "<style scoped>\n",
       "    .dataframe tbody tr th:only-of-type {\n",
       "        vertical-align: middle;\n",
       "    }\n",
       "\n",
       "    .dataframe tbody tr th {\n",
       "        vertical-align: top;\n",
       "    }\n",
       "\n",
       "    .dataframe thead th {\n",
       "        text-align: right;\n",
       "    }\n",
       "</style>\n",
       "<table border=\"1\" class=\"dataframe\">\n",
       "  <thead>\n",
       "    <tr style=\"text-align: right;\">\n",
       "      <th></th>\n",
       "      <th>rank</th>\n",
       "      <th>profile</th>\n",
       "      <th>name</th>\n",
       "      <th>url</th>\n",
       "      <th>state</th>\n",
       "      <th>revenue</th>\n",
       "      <th>growth_%</th>\n",
       "      <th>industry</th>\n",
       "      <th>workers</th>\n",
       "      <th>previous_workers</th>\n",
       "      <th>founded</th>\n",
       "      <th>yrs_on_list</th>\n",
       "      <th>metro</th>\n",
       "      <th>city</th>\n",
       "    </tr>\n",
       "  </thead>\n",
       "  <tbody>\n",
       "    <tr>\n",
       "      <th>0</th>\n",
       "      <td>1</td>\n",
       "      <td>https://www.inc.com/profile/freestar</td>\n",
       "      <td>Freestar</td>\n",
       "      <td>http://freestar.com</td>\n",
       "      <td>AZ</td>\n",
       "      <td>36.9 Million</td>\n",
       "      <td>36680.3882</td>\n",
       "      <td>Advertising &amp; Marketing</td>\n",
       "      <td>40.0</td>\n",
       "      <td>5</td>\n",
       "      <td>2015</td>\n",
       "      <td>1</td>\n",
       "      <td>Phoenix</td>\n",
       "      <td>Phoenix</td>\n",
       "    </tr>\n",
       "    <tr>\n",
       "      <th>1</th>\n",
       "      <td>2</td>\n",
       "      <td>https://www.inc.com/profile/freightwise</td>\n",
       "      <td>FreightWise</td>\n",
       "      <td>http://freightwisellc.com</td>\n",
       "      <td>TN</td>\n",
       "      <td>33.6 Million</td>\n",
       "      <td>30547.9317</td>\n",
       "      <td>Logistics &amp; Transportation</td>\n",
       "      <td>39.0</td>\n",
       "      <td>8</td>\n",
       "      <td>2015</td>\n",
       "      <td>1</td>\n",
       "      <td>Nashville</td>\n",
       "      <td>Brentwood</td>\n",
       "    </tr>\n",
       "    <tr>\n",
       "      <th>2</th>\n",
       "      <td>3</td>\n",
       "      <td>https://www.inc.com/profile/ceces-veggie</td>\n",
       "      <td>Cece's Veggie Co.</td>\n",
       "      <td>http://cecesveggieco.com</td>\n",
       "      <td>TX</td>\n",
       "      <td>24.9 Million</td>\n",
       "      <td>23880.4852</td>\n",
       "      <td>Food &amp; Beverage</td>\n",
       "      <td>190.0</td>\n",
       "      <td>10</td>\n",
       "      <td>2015</td>\n",
       "      <td>1</td>\n",
       "      <td>Austin</td>\n",
       "      <td>Austin</td>\n",
       "    </tr>\n",
       "    <tr>\n",
       "      <th>3</th>\n",
       "      <td>4</td>\n",
       "      <td>https://www.inc.com/profile/ladyboss</td>\n",
       "      <td>LadyBoss</td>\n",
       "      <td>http://ladyboss.com</td>\n",
       "      <td>NM</td>\n",
       "      <td>32.4 Million</td>\n",
       "      <td>21849.8925</td>\n",
       "      <td>Consumer Products &amp; Services</td>\n",
       "      <td>57.0</td>\n",
       "      <td>2</td>\n",
       "      <td>2014</td>\n",
       "      <td>1</td>\n",
       "      <td>NaN</td>\n",
       "      <td>Albuquerque</td>\n",
       "    </tr>\n",
       "    <tr>\n",
       "      <th>4</th>\n",
       "      <td>5</td>\n",
       "      <td>https://www.inc.com/profile/perpay</td>\n",
       "      <td>Perpay</td>\n",
       "      <td>http://perpay.com</td>\n",
       "      <td>PA</td>\n",
       "      <td>22.5 Million</td>\n",
       "      <td>18166.4070</td>\n",
       "      <td>Retail</td>\n",
       "      <td>25.0</td>\n",
       "      <td>6</td>\n",
       "      <td>2014</td>\n",
       "      <td>1</td>\n",
       "      <td>Philadelphia</td>\n",
       "      <td>Philadelphia</td>\n",
       "    </tr>\n",
       "  </tbody>\n",
       "</table>\n",
       "</div>"
      ],
      "text/plain": [
       "   rank                                   profile               name  \\\n",
       "0     1      https://www.inc.com/profile/freestar           Freestar   \n",
       "1     2   https://www.inc.com/profile/freightwise        FreightWise   \n",
       "2     3  https://www.inc.com/profile/ceces-veggie  Cece's Veggie Co.   \n",
       "3     4      https://www.inc.com/profile/ladyboss           LadyBoss   \n",
       "4     5        https://www.inc.com/profile/perpay             Perpay   \n",
       "\n",
       "                         url state       revenue    growth_%  \\\n",
       "0        http://freestar.com    AZ  36.9 Million  36680.3882   \n",
       "1  http://freightwisellc.com    TN  33.6 Million  30547.9317   \n",
       "2   http://cecesveggieco.com    TX  24.9 Million  23880.4852   \n",
       "3        http://ladyboss.com    NM  32.4 Million  21849.8925   \n",
       "4          http://perpay.com    PA  22.5 Million  18166.4070   \n",
       "\n",
       "                       industry  workers  previous_workers  founded  \\\n",
       "0       Advertising & Marketing     40.0                 5     2015   \n",
       "1    Logistics & Transportation     39.0                 8     2015   \n",
       "2               Food & Beverage    190.0                10     2015   \n",
       "3  Consumer Products & Services     57.0                 2     2014   \n",
       "4                        Retail     25.0                 6     2014   \n",
       "\n",
       "   yrs_on_list         metro          city  \n",
       "0            1       Phoenix       Phoenix  \n",
       "1            1     Nashville     Brentwood  \n",
       "2            1        Austin        Austin  \n",
       "3            1           NaN   Albuquerque  \n",
       "4            1  Philadelphia  Philadelphia  "
      ]
     },
     "execution_count": 3,
     "metadata": {},
     "output_type": "execute_result"
    }
   ],
   "source": [
    "#To see the only top 5 records\n",
    "\n",
    "df.head()"
   ]
  },
  {
   "cell_type": "code",
   "execution_count": 4,
   "id": "34c9e5a8",
   "metadata": {
    "execution": {
     "iopub.execute_input": "2024-01-30T11:04:00.910330Z",
     "iopub.status.busy": "2024-01-30T11:04:00.909871Z",
     "iopub.status.idle": "2024-01-30T11:04:00.944024Z",
     "shell.execute_reply": "2024-01-30T11:04:00.943076Z"
    },
    "papermill": {
     "duration": 0.057561,
     "end_time": "2024-01-30T11:04:00.946378",
     "exception": false,
     "start_time": "2024-01-30T11:04:00.888817",
     "status": "completed"
    },
    "tags": []
   },
   "outputs": [
    {
     "data": {
      "text/html": [
       "<div>\n",
       "<style scoped>\n",
       "    .dataframe tbody tr th:only-of-type {\n",
       "        vertical-align: middle;\n",
       "    }\n",
       "\n",
       "    .dataframe tbody tr th {\n",
       "        vertical-align: top;\n",
       "    }\n",
       "\n",
       "    .dataframe thead th {\n",
       "        text-align: right;\n",
       "    }\n",
       "</style>\n",
       "<table border=\"1\" class=\"dataframe\">\n",
       "  <thead>\n",
       "    <tr style=\"text-align: right;\">\n",
       "      <th></th>\n",
       "      <th>rank</th>\n",
       "      <th>growth_%</th>\n",
       "      <th>workers</th>\n",
       "      <th>previous_workers</th>\n",
       "      <th>founded</th>\n",
       "      <th>yrs_on_list</th>\n",
       "    </tr>\n",
       "  </thead>\n",
       "  <tbody>\n",
       "    <tr>\n",
       "      <th>count</th>\n",
       "      <td>5012.000000</td>\n",
       "      <td>5012.000000</td>\n",
       "      <td>5011.000000</td>\n",
       "      <td>5012.000000</td>\n",
       "      <td>5012.000000</td>\n",
       "      <td>5012.000000</td>\n",
       "    </tr>\n",
       "    <tr>\n",
       "      <th>mean</th>\n",
       "      <td>2499.628292</td>\n",
       "      <td>454.680059</td>\n",
       "      <td>242.783077</td>\n",
       "      <td>111.687151</td>\n",
       "      <td>2005.445531</td>\n",
       "      <td>2.813647</td>\n",
       "    </tr>\n",
       "    <tr>\n",
       "      <th>std</th>\n",
       "      <td>1443.232009</td>\n",
       "      <td>1284.288709</td>\n",
       "      <td>2800.165478</td>\n",
       "      <td>1073.878175</td>\n",
       "      <td>30.310632</td>\n",
       "      <td>2.265986</td>\n",
       "    </tr>\n",
       "    <tr>\n",
       "      <th>min</th>\n",
       "      <td>1.000000</td>\n",
       "      <td>52.169100</td>\n",
       "      <td>0.000000</td>\n",
       "      <td>1.000000</td>\n",
       "      <td>0.000000</td>\n",
       "      <td>1.000000</td>\n",
       "    </tr>\n",
       "    <tr>\n",
       "      <th>25%</th>\n",
       "      <td>1249.750000</td>\n",
       "      <td>90.562500</td>\n",
       "      <td>22.000000</td>\n",
       "      <td>8.000000</td>\n",
       "      <td>2003.000000</td>\n",
       "      <td>1.000000</td>\n",
       "    </tr>\n",
       "    <tr>\n",
       "      <th>50%</th>\n",
       "      <td>2497.500000</td>\n",
       "      <td>157.530650</td>\n",
       "      <td>48.000000</td>\n",
       "      <td>20.000000</td>\n",
       "      <td>2009.000000</td>\n",
       "      <td>2.000000</td>\n",
       "    </tr>\n",
       "    <tr>\n",
       "      <th>75%</th>\n",
       "      <td>3749.250000</td>\n",
       "      <td>330.427250</td>\n",
       "      <td>116.000000</td>\n",
       "      <td>50.000000</td>\n",
       "      <td>2012.000000</td>\n",
       "      <td>4.000000</td>\n",
       "    </tr>\n",
       "    <tr>\n",
       "      <th>max</th>\n",
       "      <td>5000.000000</td>\n",
       "      <td>36680.388200</td>\n",
       "      <td>155000.000000</td>\n",
       "      <td>53000.000000</td>\n",
       "      <td>2016.000000</td>\n",
       "      <td>14.000000</td>\n",
       "    </tr>\n",
       "  </tbody>\n",
       "</table>\n",
       "</div>"
      ],
      "text/plain": [
       "              rank      growth_%        workers  previous_workers  \\\n",
       "count  5012.000000   5012.000000    5011.000000       5012.000000   \n",
       "mean   2499.628292    454.680059     242.783077        111.687151   \n",
       "std    1443.232009   1284.288709    2800.165478       1073.878175   \n",
       "min       1.000000     52.169100       0.000000          1.000000   \n",
       "25%    1249.750000     90.562500      22.000000          8.000000   \n",
       "50%    2497.500000    157.530650      48.000000         20.000000   \n",
       "75%    3749.250000    330.427250     116.000000         50.000000   \n",
       "max    5000.000000  36680.388200  155000.000000      53000.000000   \n",
       "\n",
       "           founded  yrs_on_list  \n",
       "count  5012.000000  5012.000000  \n",
       "mean   2005.445531     2.813647  \n",
       "std      30.310632     2.265986  \n",
       "min       0.000000     1.000000  \n",
       "25%    2003.000000     1.000000  \n",
       "50%    2009.000000     2.000000  \n",
       "75%    2012.000000     4.000000  \n",
       "max    2016.000000    14.000000  "
      ]
     },
     "execution_count": 4,
     "metadata": {},
     "output_type": "execute_result"
    }
   ],
   "source": [
    "#To get mathmetical values like min, max, count, stdv, average etc.\n",
    "\n",
    "df.describe()"
   ]
  },
  {
   "cell_type": "code",
   "execution_count": 5,
   "id": "0fda2b86",
   "metadata": {
    "execution": {
     "iopub.execute_input": "2024-01-30T11:04:00.987632Z",
     "iopub.status.busy": "2024-01-30T11:04:00.987196Z",
     "iopub.status.idle": "2024-01-30T11:04:00.994101Z",
     "shell.execute_reply": "2024-01-30T11:04:00.992987Z"
    },
    "papermill": {
     "duration": 0.030246,
     "end_time": "2024-01-30T11:04:00.996399",
     "exception": false,
     "start_time": "2024-01-30T11:04:00.966153",
     "status": "completed"
    },
    "tags": []
   },
   "outputs": [
    {
     "data": {
      "text/plain": [
       "(5012, 14)"
      ]
     },
     "execution_count": 5,
     "metadata": {},
     "output_type": "execute_result"
    }
   ],
   "source": [
    "#To get dimensional shape of the dataset\n",
    "\n",
    "df.shape"
   ]
  },
  {
   "cell_type": "code",
   "execution_count": 6,
   "id": "5f163ed5",
   "metadata": {
    "execution": {
     "iopub.execute_input": "2024-01-30T11:04:01.037474Z",
     "iopub.status.busy": "2024-01-30T11:04:01.037062Z",
     "iopub.status.idle": "2024-01-30T11:04:01.043500Z",
     "shell.execute_reply": "2024-01-30T11:04:01.042384Z"
    },
    "papermill": {
     "duration": 0.029882,
     "end_time": "2024-01-30T11:04:01.045925",
     "exception": false,
     "start_time": "2024-01-30T11:04:01.016043",
     "status": "completed"
    },
    "tags": []
   },
   "outputs": [
    {
     "data": {
      "text/plain": [
       "Index(['rank', 'profile', 'name', 'url', 'state', 'revenue', 'growth_%',\n",
       "       'industry', 'workers', 'previous_workers', 'founded', 'yrs_on_list',\n",
       "       'metro', 'city'],\n",
       "      dtype='object')"
      ]
     },
     "execution_count": 6,
     "metadata": {},
     "output_type": "execute_result"
    }
   ],
   "source": [
    "#To get the name of all columns \n",
    "\n",
    "df.columns"
   ]
  },
  {
   "cell_type": "code",
   "execution_count": 7,
   "id": "d95ebb73",
   "metadata": {
    "execution": {
     "iopub.execute_input": "2024-01-30T11:04:01.088721Z",
     "iopub.status.busy": "2024-01-30T11:04:01.087773Z",
     "iopub.status.idle": "2024-01-30T11:04:01.117961Z",
     "shell.execute_reply": "2024-01-30T11:04:01.116575Z"
    },
    "papermill": {
     "duration": 0.053958,
     "end_time": "2024-01-30T11:04:01.120348",
     "exception": false,
     "start_time": "2024-01-30T11:04:01.066390",
     "status": "completed"
    },
    "tags": []
   },
   "outputs": [
    {
     "name": "stdout",
     "output_type": "stream",
     "text": [
      "<class 'pandas.core.frame.DataFrame'>\n",
      "RangeIndex: 5012 entries, 0 to 5011\n",
      "Data columns (total 14 columns):\n",
      " #   Column            Non-Null Count  Dtype  \n",
      "---  ------            --------------  -----  \n",
      " 0   rank              5012 non-null   int64  \n",
      " 1   profile           5012 non-null   object \n",
      " 2   name              5012 non-null   object \n",
      " 3   url               5012 non-null   object \n",
      " 4   state             5012 non-null   object \n",
      " 5   revenue           5012 non-null   object \n",
      " 6   growth_%          5012 non-null   float64\n",
      " 7   industry          5012 non-null   object \n",
      " 8   workers           5011 non-null   float64\n",
      " 9   previous_workers  5012 non-null   int64  \n",
      " 10  founded           5012 non-null   int64  \n",
      " 11  yrs_on_list       5012 non-null   int64  \n",
      " 12  metro             4199 non-null   object \n",
      " 13  city              5012 non-null   object \n",
      "dtypes: float64(2), int64(4), object(8)\n",
      "memory usage: 548.3+ KB\n"
     ]
    }
   ],
   "source": [
    "#Showing all the information of the dataset; like non-null count, datatype etc.\n",
    "\n",
    "df.info()"
   ]
  },
  {
   "cell_type": "code",
   "execution_count": 8,
   "id": "414bcf3a",
   "metadata": {
    "execution": {
     "iopub.execute_input": "2024-01-30T11:04:01.162525Z",
     "iopub.status.busy": "2024-01-30T11:04:01.162122Z",
     "iopub.status.idle": "2024-01-30T11:04:01.176207Z",
     "shell.execute_reply": "2024-01-30T11:04:01.174700Z"
    },
    "papermill": {
     "duration": 0.038532,
     "end_time": "2024-01-30T11:04:01.178869",
     "exception": false,
     "start_time": "2024-01-30T11:04:01.140337",
     "status": "completed"
    },
    "tags": []
   },
   "outputs": [
    {
     "data": {
      "text/plain": [
       "rank                  0\n",
       "profile               0\n",
       "name                  0\n",
       "url                   0\n",
       "state                 0\n",
       "revenue               0\n",
       "growth_%              0\n",
       "industry              0\n",
       "workers               1\n",
       "previous_workers      0\n",
       "founded               0\n",
       "yrs_on_list           0\n",
       "metro               813\n",
       "city                  0\n",
       "dtype: int64"
      ]
     },
     "execution_count": 8,
     "metadata": {},
     "output_type": "execute_result"
    }
   ],
   "source": [
    "#Getting the sum of null values in each column\n",
    "\n",
    "df.isnull().sum()"
   ]
  },
  {
   "cell_type": "markdown",
   "id": "dedc9ffe",
   "metadata": {
    "papermill": {
     "duration": 0.021315,
     "end_time": "2024-01-30T11:04:01.220585",
     "exception": false,
     "start_time": "2024-01-30T11:04:01.199270",
     "status": "completed"
    },
    "tags": []
   },
   "source": [
    "As, we can see there are 813 null values in \"metro\" column."
   ]
  },
  {
   "cell_type": "code",
   "execution_count": 9,
   "id": "bf5fd2b3",
   "metadata": {
    "execution": {
     "iopub.execute_input": "2024-01-30T11:04:01.266061Z",
     "iopub.status.busy": "2024-01-30T11:04:01.265607Z",
     "iopub.status.idle": "2024-01-30T11:04:01.273723Z",
     "shell.execute_reply": "2024-01-30T11:04:01.272473Z"
    },
    "papermill": {
     "duration": 0.034143,
     "end_time": "2024-01-30T11:04:01.276513",
     "exception": false,
     "start_time": "2024-01-30T11:04:01.242370",
     "status": "completed"
    },
    "tags": []
   },
   "outputs": [],
   "source": [
    "#Filling the empty spaces\n",
    "\n",
    "df['metro'] = df['metro'].fillna(df['city'])"
   ]
  },
  {
   "cell_type": "code",
   "execution_count": 10,
   "id": "69988352",
   "metadata": {
    "execution": {
     "iopub.execute_input": "2024-01-30T11:04:01.320768Z",
     "iopub.status.busy": "2024-01-30T11:04:01.320298Z",
     "iopub.status.idle": "2024-01-30T11:04:01.328431Z",
     "shell.execute_reply": "2024-01-30T11:04:01.327182Z"
    },
    "papermill": {
     "duration": 0.032994,
     "end_time": "2024-01-30T11:04:01.331000",
     "exception": false,
     "start_time": "2024-01-30T11:04:01.298006",
     "status": "completed"
    },
    "tags": []
   },
   "outputs": [
    {
     "data": {
      "text/plain": [
       "0"
      ]
     },
     "execution_count": 10,
     "metadata": {},
     "output_type": "execute_result"
    }
   ],
   "source": [
    "#Checking again just to be sure\n",
    "\n",
    "df['metro'].isna().sum()"
   ]
  },
  {
   "cell_type": "markdown",
   "id": "27807946",
   "metadata": {
    "papermill": {
     "duration": 0.020246,
     "end_time": "2024-01-30T11:04:01.372458",
     "exception": false,
     "start_time": "2024-01-30T11:04:01.352212",
     "status": "completed"
    },
    "tags": []
   },
   "source": [
    "Now, no null values are present in column \"metro\"."
   ]
  },
  {
   "cell_type": "code",
   "execution_count": 11,
   "id": "cac90cfc",
   "metadata": {
    "execution": {
     "iopub.execute_input": "2024-01-30T11:04:01.415215Z",
     "iopub.status.busy": "2024-01-30T11:04:01.414823Z",
     "iopub.status.idle": "2024-01-30T11:04:01.427943Z",
     "shell.execute_reply": "2024-01-30T11:04:01.426926Z"
    },
    "papermill": {
     "duration": 0.037539,
     "end_time": "2024-01-30T11:04:01.430297",
     "exception": false,
     "start_time": "2024-01-30T11:04:01.392758",
     "status": "completed"
    },
    "tags": []
   },
   "outputs": [],
   "source": [
    "#In column \"worker\" there is one null value, hence dropping that\n",
    "\n",
    "df.dropna(axis = 0, inplace = True)"
   ]
  },
  {
   "cell_type": "code",
   "execution_count": 12,
   "id": "1942ea06",
   "metadata": {
    "execution": {
     "iopub.execute_input": "2024-01-30T11:04:01.474409Z",
     "iopub.status.busy": "2024-01-30T11:04:01.473079Z",
     "iopub.status.idle": "2024-01-30T11:04:01.493581Z",
     "shell.execute_reply": "2024-01-30T11:04:01.492409Z"
    },
    "papermill": {
     "duration": 0.045138,
     "end_time": "2024-01-30T11:04:01.496144",
     "exception": false,
     "start_time": "2024-01-30T11:04:01.451006",
     "status": "completed"
    },
    "tags": []
   },
   "outputs": [
    {
     "data": {
      "text/html": [
       "<div>\n",
       "<style scoped>\n",
       "    .dataframe tbody tr th:only-of-type {\n",
       "        vertical-align: middle;\n",
       "    }\n",
       "\n",
       "    .dataframe tbody tr th {\n",
       "        vertical-align: top;\n",
       "    }\n",
       "\n",
       "    .dataframe thead th {\n",
       "        text-align: right;\n",
       "    }\n",
       "</style>\n",
       "<table border=\"1\" class=\"dataframe\">\n",
       "  <thead>\n",
       "    <tr style=\"text-align: right;\">\n",
       "      <th></th>\n",
       "      <th>rank</th>\n",
       "      <th>name</th>\n",
       "      <th>state</th>\n",
       "      <th>revenue</th>\n",
       "      <th>growth_%</th>\n",
       "      <th>industry</th>\n",
       "      <th>workers</th>\n",
       "      <th>previous_workers</th>\n",
       "      <th>founded</th>\n",
       "      <th>yrs_on_list</th>\n",
       "      <th>metro</th>\n",
       "      <th>city</th>\n",
       "    </tr>\n",
       "  </thead>\n",
       "  <tbody>\n",
       "    <tr>\n",
       "      <th>0</th>\n",
       "      <td>1</td>\n",
       "      <td>Freestar</td>\n",
       "      <td>AZ</td>\n",
       "      <td>36.9 Million</td>\n",
       "      <td>36680.3882</td>\n",
       "      <td>Advertising &amp; Marketing</td>\n",
       "      <td>40.0</td>\n",
       "      <td>5</td>\n",
       "      <td>2015</td>\n",
       "      <td>1</td>\n",
       "      <td>Phoenix</td>\n",
       "      <td>Phoenix</td>\n",
       "    </tr>\n",
       "    <tr>\n",
       "      <th>1</th>\n",
       "      <td>2</td>\n",
       "      <td>FreightWise</td>\n",
       "      <td>TN</td>\n",
       "      <td>33.6 Million</td>\n",
       "      <td>30547.9317</td>\n",
       "      <td>Logistics &amp; Transportation</td>\n",
       "      <td>39.0</td>\n",
       "      <td>8</td>\n",
       "      <td>2015</td>\n",
       "      <td>1</td>\n",
       "      <td>Nashville</td>\n",
       "      <td>Brentwood</td>\n",
       "    </tr>\n",
       "    <tr>\n",
       "      <th>2</th>\n",
       "      <td>3</td>\n",
       "      <td>Cece's Veggie Co.</td>\n",
       "      <td>TX</td>\n",
       "      <td>24.9 Million</td>\n",
       "      <td>23880.4852</td>\n",
       "      <td>Food &amp; Beverage</td>\n",
       "      <td>190.0</td>\n",
       "      <td>10</td>\n",
       "      <td>2015</td>\n",
       "      <td>1</td>\n",
       "      <td>Austin</td>\n",
       "      <td>Austin</td>\n",
       "    </tr>\n",
       "    <tr>\n",
       "      <th>3</th>\n",
       "      <td>4</td>\n",
       "      <td>LadyBoss</td>\n",
       "      <td>NM</td>\n",
       "      <td>32.4 Million</td>\n",
       "      <td>21849.8925</td>\n",
       "      <td>Consumer Products &amp; Services</td>\n",
       "      <td>57.0</td>\n",
       "      <td>2</td>\n",
       "      <td>2014</td>\n",
       "      <td>1</td>\n",
       "      <td>Albuquerque</td>\n",
       "      <td>Albuquerque</td>\n",
       "    </tr>\n",
       "    <tr>\n",
       "      <th>4</th>\n",
       "      <td>5</td>\n",
       "      <td>Perpay</td>\n",
       "      <td>PA</td>\n",
       "      <td>22.5 Million</td>\n",
       "      <td>18166.4070</td>\n",
       "      <td>Retail</td>\n",
       "      <td>25.0</td>\n",
       "      <td>6</td>\n",
       "      <td>2014</td>\n",
       "      <td>1</td>\n",
       "      <td>Philadelphia</td>\n",
       "      <td>Philadelphia</td>\n",
       "    </tr>\n",
       "  </tbody>\n",
       "</table>\n",
       "</div>"
      ],
      "text/plain": [
       "   rank               name state       revenue    growth_%  \\\n",
       "0     1           Freestar    AZ  36.9 Million  36680.3882   \n",
       "1     2        FreightWise    TN  33.6 Million  30547.9317   \n",
       "2     3  Cece's Veggie Co.    TX  24.9 Million  23880.4852   \n",
       "3     4           LadyBoss    NM  32.4 Million  21849.8925   \n",
       "4     5             Perpay    PA  22.5 Million  18166.4070   \n",
       "\n",
       "                       industry  workers  previous_workers  founded  \\\n",
       "0       Advertising & Marketing     40.0                 5     2015   \n",
       "1    Logistics & Transportation     39.0                 8     2015   \n",
       "2               Food & Beverage    190.0                10     2015   \n",
       "3  Consumer Products & Services     57.0                 2     2014   \n",
       "4                        Retail     25.0                 6     2014   \n",
       "\n",
       "   yrs_on_list         metro          city  \n",
       "0            1       Phoenix       Phoenix  \n",
       "1            1     Nashville     Brentwood  \n",
       "2            1        Austin        Austin  \n",
       "3            1   Albuquerque   Albuquerque  \n",
       "4            1  Philadelphia  Philadelphia  "
      ]
     },
     "execution_count": 12,
     "metadata": {},
     "output_type": "execute_result"
    }
   ],
   "source": [
    "#Dropping the columns 'profile' and 'url' that is because these columns are not useful\n",
    "\n",
    "df.drop(['profile','url'],axis = 1, inplace = True)\n",
    "\n",
    "#Only fetching top 5 records\n",
    "\n",
    "df.head()"
   ]
  },
  {
   "cell_type": "code",
   "execution_count": 13,
   "id": "7795d7bf",
   "metadata": {
    "execution": {
     "iopub.execute_input": "2024-01-30T11:04:01.540471Z",
     "iopub.status.busy": "2024-01-30T11:04:01.540009Z",
     "iopub.status.idle": "2024-01-30T11:04:01.557095Z",
     "shell.execute_reply": "2024-01-30T11:04:01.555699Z"
    },
    "papermill": {
     "duration": 0.043288,
     "end_time": "2024-01-30T11:04:01.559992",
     "exception": false,
     "start_time": "2024-01-30T11:04:01.516704",
     "status": "completed"
    },
    "tags": []
   },
   "outputs": [
    {
     "name": "stdout",
     "output_type": "stream",
     "text": [
      "<class 'pandas.core.frame.DataFrame'>\n",
      "Index: 5011 entries, 0 to 5011\n",
      "Data columns (total 12 columns):\n",
      " #   Column            Non-Null Count  Dtype  \n",
      "---  ------            --------------  -----  \n",
      " 0   rank              5011 non-null   int64  \n",
      " 1   name              5011 non-null   object \n",
      " 2   state             5011 non-null   object \n",
      " 3   revenue           5011 non-null   object \n",
      " 4   growth_%          5011 non-null   float64\n",
      " 5   industry          5011 non-null   object \n",
      " 6   workers           5011 non-null   float64\n",
      " 7   previous_workers  5011 non-null   int64  \n",
      " 8   founded           5011 non-null   int64  \n",
      " 9   yrs_on_list       5011 non-null   int64  \n",
      " 10  metro             5011 non-null   object \n",
      " 11  city              5011 non-null   object \n",
      "dtypes: float64(2), int64(4), object(6)\n",
      "memory usage: 508.9+ KB\n"
     ]
    }
   ],
   "source": [
    "#Now we can see that null values and unwanted columns has been removed\n",
    "\n",
    "df.info()"
   ]
  },
  {
   "cell_type": "code",
   "execution_count": 14,
   "id": "7e14a58f",
   "metadata": {
    "execution": {
     "iopub.execute_input": "2024-01-30T11:04:01.604825Z",
     "iopub.status.busy": "2024-01-30T11:04:01.604381Z",
     "iopub.status.idle": "2024-01-30T11:04:01.613691Z",
     "shell.execute_reply": "2024-01-30T11:04:01.612530Z"
    },
    "papermill": {
     "duration": 0.034408,
     "end_time": "2024-01-30T11:04:01.616163",
     "exception": false,
     "start_time": "2024-01-30T11:04:01.581755",
     "status": "completed"
    },
    "tags": []
   },
   "outputs": [
    {
     "data": {
      "text/plain": [
       "0"
      ]
     },
     "execution_count": 14,
     "metadata": {},
     "output_type": "execute_result"
    }
   ],
   "source": [
    "#Checking for duplicate records\n",
    "\n",
    "df['name'].duplicated().sum()"
   ]
  },
  {
   "cell_type": "code",
   "execution_count": 15,
   "id": "96a6a547",
   "metadata": {
    "execution": {
     "iopub.execute_input": "2024-01-30T11:04:01.660072Z",
     "iopub.status.busy": "2024-01-30T11:04:01.659687Z",
     "iopub.status.idle": "2024-01-30T11:04:01.672329Z",
     "shell.execute_reply": "2024-01-30T11:04:01.671186Z"
    },
    "papermill": {
     "duration": 0.037861,
     "end_time": "2024-01-30T11:04:01.674875",
     "exception": false,
     "start_time": "2024-01-30T11:04:01.637014",
     "status": "completed"
    },
    "tags": []
   },
   "outputs": [
    {
     "data": {
      "text/plain": [
       "array([2015, 2014, 2009, 2008, 2013, 2006, 2010, 2012, 2004, 2011, 2007,\n",
       "       2000, 2002, 2005, 1999, 1995, 1994, 2003, 1988, 1985, 1984, 1909,\n",
       "       2001, 1993, 1996, 1998, 1989, 1974, 1992, 1991, 1945, 1979, 1987,\n",
       "       1982, 1997, 1962, 1978, 1976, 1899, 1957, 1990, 1977, 1986, 1981,\n",
       "       1946, 1956, 1980, 1939, 1949, 1929, 1902, 1917, 1975, 1970, 1983,\n",
       "       1923, 1965, 2016, 1955, 1953, 1959, 1969, 1948, 1925, 1973, 1928,\n",
       "       1963, 1972, 1914, 1884, 1910, 1932, 1941, 1967, 1951, 1869, 1968,\n",
       "       1964, 1897, 1895,    0, 1961, 1927])"
      ]
     },
     "execution_count": 15,
     "metadata": {},
     "output_type": "execute_result"
    }
   ],
   "source": [
    "#Checking the unique values of column'founded'\n",
    "\n",
    "df['founded'].unique()"
   ]
  },
  {
   "cell_type": "markdown",
   "id": "cf0954cd",
   "metadata": {
    "papermill": {
     "duration": 0.020663,
     "end_time": "2024-01-30T11:04:01.716590",
     "exception": false,
     "start_time": "2024-01-30T11:04:01.695927",
     "status": "completed"
    },
    "tags": []
   },
   "source": [
    "As we can see there is '0' at one place. Practically it shoud \n",
    "not be because how can a company can be founded in year '0'. Hence, we need to replace it with '1960'. Because, after verifying from above data we can understand that 'Nassau National Cable' company was founded in year \"1960\"."
   ]
  },
  {
   "cell_type": "code",
   "execution_count": 16,
   "id": "54ae1b11",
   "metadata": {
    "execution": {
     "iopub.execute_input": "2024-01-30T11:04:01.760453Z",
     "iopub.status.busy": "2024-01-30T11:04:01.760035Z",
     "iopub.status.idle": "2024-01-30T11:04:01.766267Z",
     "shell.execute_reply": "2024-01-30T11:04:01.765399Z"
    },
    "papermill": {
     "duration": 0.031022,
     "end_time": "2024-01-30T11:04:01.768546",
     "exception": false,
     "start_time": "2024-01-30T11:04:01.737524",
     "status": "completed"
    },
    "tags": []
   },
   "outputs": [],
   "source": [
    "#Replacing \"0\" by \"1960\"\n",
    "\n",
    "df['founded'] = df['founded'].replace(0, 1960)"
   ]
  },
  {
   "cell_type": "code",
   "execution_count": 17,
   "id": "57e3f3cc",
   "metadata": {
    "execution": {
     "iopub.execute_input": "2024-01-30T11:04:01.814336Z",
     "iopub.status.busy": "2024-01-30T11:04:01.813953Z",
     "iopub.status.idle": "2024-01-30T11:04:03.461046Z",
     "shell.execute_reply": "2024-01-30T11:04:03.459904Z"
    },
    "papermill": {
     "duration": 1.673584,
     "end_time": "2024-01-30T11:04:03.463453",
     "exception": false,
     "start_time": "2024-01-30T11:04:01.789869",
     "status": "completed"
    },
    "tags": []
   },
   "outputs": [
    {
     "data": {
      "text/plain": [
       "dtype('float64')"
      ]
     },
     "execution_count": 17,
     "metadata": {},
     "output_type": "execute_result"
    }
   ],
   "source": [
    "#One more change we have to make that is, to change the dtype of \"revenue\" column from object to float because revenue/turnover of a company may be in decimal digits\n",
    "\n",
    "df['revenue'] = df['revenue'].replace({'Million':\"\",\"Billion\":\"*1000\"},regex = True).map(pd.eval)\n",
    "df['revenue'].dtype"
   ]
  },
  {
   "cell_type": "code",
   "execution_count": 18,
   "id": "b2323797",
   "metadata": {
    "execution": {
     "iopub.execute_input": "2024-01-30T11:04:03.579463Z",
     "iopub.status.busy": "2024-01-30T11:04:03.578928Z",
     "iopub.status.idle": "2024-01-30T11:04:03.586127Z",
     "shell.execute_reply": "2024-01-30T11:04:03.584902Z"
    },
    "papermill": {
     "duration": 0.104401,
     "end_time": "2024-01-30T11:04:03.589457",
     "exception": false,
     "start_time": "2024-01-30T11:04:03.485056",
     "status": "completed"
    },
    "tags": []
   },
   "outputs": [],
   "source": [
    "#Now, renaming the column\n",
    "\n",
    "df.rename(columns = {'revenue':'revenue_in_millions'}, inplace = True)"
   ]
  },
  {
   "cell_type": "code",
   "execution_count": 19,
   "id": "633e8bd3",
   "metadata": {
    "execution": {
     "iopub.execute_input": "2024-01-30T11:04:03.640166Z",
     "iopub.status.busy": "2024-01-30T11:04:03.638714Z",
     "iopub.status.idle": "2024-01-30T11:04:03.656914Z",
     "shell.execute_reply": "2024-01-30T11:04:03.655729Z"
    },
    "papermill": {
     "duration": 0.047329,
     "end_time": "2024-01-30T11:04:03.659394",
     "exception": false,
     "start_time": "2024-01-30T11:04:03.612065",
     "status": "completed"
    },
    "tags": []
   },
   "outputs": [
    {
     "data": {
      "text/html": [
       "<div>\n",
       "<style scoped>\n",
       "    .dataframe tbody tr th:only-of-type {\n",
       "        vertical-align: middle;\n",
       "    }\n",
       "\n",
       "    .dataframe tbody tr th {\n",
       "        vertical-align: top;\n",
       "    }\n",
       "\n",
       "    .dataframe thead th {\n",
       "        text-align: right;\n",
       "    }\n",
       "</style>\n",
       "<table border=\"1\" class=\"dataframe\">\n",
       "  <thead>\n",
       "    <tr style=\"text-align: right;\">\n",
       "      <th></th>\n",
       "      <th>rank</th>\n",
       "      <th>name</th>\n",
       "      <th>state</th>\n",
       "      <th>revenue_in_millions</th>\n",
       "      <th>growth_%</th>\n",
       "      <th>industry</th>\n",
       "      <th>workers</th>\n",
       "      <th>previous_workers</th>\n",
       "      <th>founded</th>\n",
       "      <th>yrs_on_list</th>\n",
       "      <th>metro</th>\n",
       "      <th>city</th>\n",
       "    </tr>\n",
       "  </thead>\n",
       "  <tbody>\n",
       "    <tr>\n",
       "      <th>0</th>\n",
       "      <td>1</td>\n",
       "      <td>Freestar</td>\n",
       "      <td>AZ</td>\n",
       "      <td>36.9</td>\n",
       "      <td>36680.3882</td>\n",
       "      <td>Advertising &amp; Marketing</td>\n",
       "      <td>40.0</td>\n",
       "      <td>5</td>\n",
       "      <td>2015</td>\n",
       "      <td>1</td>\n",
       "      <td>Phoenix</td>\n",
       "      <td>Phoenix</td>\n",
       "    </tr>\n",
       "    <tr>\n",
       "      <th>1</th>\n",
       "      <td>2</td>\n",
       "      <td>FreightWise</td>\n",
       "      <td>TN</td>\n",
       "      <td>33.6</td>\n",
       "      <td>30547.9317</td>\n",
       "      <td>Logistics &amp; Transportation</td>\n",
       "      <td>39.0</td>\n",
       "      <td>8</td>\n",
       "      <td>2015</td>\n",
       "      <td>1</td>\n",
       "      <td>Nashville</td>\n",
       "      <td>Brentwood</td>\n",
       "    </tr>\n",
       "  </tbody>\n",
       "</table>\n",
       "</div>"
      ],
      "text/plain": [
       "   rank         name state  revenue_in_millions    growth_%  \\\n",
       "0     1     Freestar    AZ                 36.9  36680.3882   \n",
       "1     2  FreightWise    TN                 33.6  30547.9317   \n",
       "\n",
       "                     industry  workers  previous_workers  founded  \\\n",
       "0     Advertising & Marketing     40.0                 5     2015   \n",
       "1  Logistics & Transportation     39.0                 8     2015   \n",
       "\n",
       "   yrs_on_list      metro       city  \n",
       "0            1    Phoenix    Phoenix  \n",
       "1            1  Nashville  Brentwood  "
      ]
     },
     "execution_count": 19,
     "metadata": {},
     "output_type": "execute_result"
    }
   ],
   "source": [
    "#Checking whether made changes executed or not\n",
    "\n",
    "df.head(2)"
   ]
  },
  {
   "cell_type": "code",
   "execution_count": 20,
   "id": "0a56b7bb",
   "metadata": {
    "execution": {
     "iopub.execute_input": "2024-01-30T11:04:03.704421Z",
     "iopub.status.busy": "2024-01-30T11:04:03.704009Z",
     "iopub.status.idle": "2024-01-30T11:04:03.713947Z",
     "shell.execute_reply": "2024-01-30T11:04:03.712759Z"
    },
    "papermill": {
     "duration": 0.035678,
     "end_time": "2024-01-30T11:04:03.716601",
     "exception": false,
     "start_time": "2024-01-30T11:04:03.680923",
     "status": "completed"
    },
    "tags": []
   },
   "outputs": [
    {
     "data": {
      "text/plain": [
       "industry\n",
       "Business Products & Services    492\n",
       "Advertising & Marketing         489\n",
       "Software                        461\n",
       "Health                          356\n",
       "Construction                    350\n",
       "Consumer Products & Services    314\n",
       "IT Management                   276\n",
       "Financial Services              239\n",
       "Government Services             236\n",
       "Real Estate                     198\n",
       "Logistics & Transportation      186\n",
       "Manufacturing                   181\n",
       "Retail                          163\n",
       "Human Resources                 157\n",
       "Food & Beverage                 127\n",
       "IT System Development           120\n",
       "Engineering                      81\n",
       "Telecommunications               79\n",
       "Energy                           78\n",
       "Insurance                        70\n",
       "Education                        70\n",
       "Security                         67\n",
       "Travel & Hospitality             57\n",
       "Media                            46\n",
       "Environmental Services           43\n",
       "IT Services                      43\n",
       "Computer Hardware                32\n",
       "Name: count, dtype: int64"
      ]
     },
     "execution_count": 20,
     "metadata": {},
     "output_type": "execute_result"
    }
   ],
   "source": [
    "#Getting the value count of 'industry' column\n",
    "\n",
    "df['industry'].value_counts()"
   ]
  },
  {
   "cell_type": "code",
   "execution_count": 21,
   "id": "50c6c466",
   "metadata": {
    "execution": {
     "iopub.execute_input": "2024-01-30T11:04:03.762419Z",
     "iopub.status.busy": "2024-01-30T11:04:03.761973Z",
     "iopub.status.idle": "2024-01-30T11:04:03.773887Z",
     "shell.execute_reply": "2024-01-30T11:04:03.772708Z"
    },
    "papermill": {
     "duration": 0.037575,
     "end_time": "2024-01-30T11:04:03.776384",
     "exception": false,
     "start_time": "2024-01-30T11:04:03.738809",
     "status": "completed"
    },
    "tags": []
   },
   "outputs": [
    {
     "data": {
      "text/plain": [
       "city\n",
       "New York         165\n",
       "Chicago          110\n",
       "Atlanta          101\n",
       "Austin            87\n",
       "Houston           84\n",
       "Dallas            74\n",
       "San Diego         71\n",
       "San Francisco     52\n",
       "Los Angeles       51\n",
       "Denver            48\n",
       "Name: count, dtype: int64"
      ]
     },
     "execution_count": 21,
     "metadata": {},
     "output_type": "execute_result"
    }
   ],
   "source": [
    "#Same as above, getting the count of 'city' column\n",
    "\n",
    "df['city'].value_counts().head(10)"
   ]
  },
  {
   "cell_type": "markdown",
   "id": "7923ffe4",
   "metadata": {
    "papermill": {
     "duration": 0.021558,
     "end_time": "2024-01-30T11:04:03.820025",
     "exception": false,
     "start_time": "2024-01-30T11:04:03.798467",
     "status": "completed"
    },
    "tags": []
   },
   "source": [
    "# 1. What's the average revenue among companies on the list? Broken down by industry?"
   ]
  },
  {
   "cell_type": "code",
   "execution_count": 22,
   "id": "68ef1f1c",
   "metadata": {
    "execution": {
     "iopub.execute_input": "2024-01-30T11:04:03.865837Z",
     "iopub.status.busy": "2024-01-30T11:04:03.865417Z",
     "iopub.status.idle": "2024-01-30T11:04:03.879306Z",
     "shell.execute_reply": "2024-01-30T11:04:03.878355Z"
    },
    "papermill": {
     "duration": 0.042074,
     "end_time": "2024-01-30T11:04:03.884177",
     "exception": false,
     "start_time": "2024-01-30T11:04:03.842103",
     "status": "completed"
    },
    "tags": []
   },
   "outputs": [
    {
     "data": {
      "text/plain": [
       "industry\n",
       "Media                            16.708696\n",
       "Advertising & Marketing          18.908384\n",
       "IT Services                      19.130233\n",
       "Education                        20.835714\n",
       "IT System Development            21.088333\n",
       "Software                         21.573970\n",
       "Environmental Services           22.506977\n",
       "IT Management                    22.577536\n",
       "Travel & Hospitality             26.736842\n",
       "Business Products & Services     28.601829\n",
       "Computer Hardware                31.178125\n",
       "Engineering                      32.954321\n",
       "Manufacturing                    33.303315\n",
       "Real Estate                      34.061111\n",
       "Food & Beverage                  39.855906\n",
       "Financial Services               40.004184\n",
       "Telecommunications               41.825316\n",
       "Construction                     58.422571\n",
       "Insurance                        58.742857\n",
       "Government Services              59.391949\n",
       "Retail                           66.552761\n",
       "Consumer Products & Services     72.295223\n",
       "Human Resources                  73.582166\n",
       "Energy                           80.221795\n",
       "Logistics & Transportation      101.293011\n",
       "Health                          109.330056\n",
       "Security                        123.747761\n",
       "Name: revenue_in_millions, dtype: float64"
      ]
     },
     "execution_count": 22,
     "metadata": {},
     "output_type": "execute_result"
    }
   ],
   "source": [
    "#Grouping the 'revenue_in_millions' with industry and finding the mean value\n",
    "#Sorted the values in ascending manner\n",
    "\n",
    "df.groupby('industry')['revenue_in_millions'].mean().sort_values(ascending = True)"
   ]
  },
  {
   "cell_type": "code",
   "execution_count": 23,
   "id": "07ffc15c",
   "metadata": {
    "execution": {
     "iopub.execute_input": "2024-01-30T11:04:03.937241Z",
     "iopub.status.busy": "2024-01-30T11:04:03.936370Z",
     "iopub.status.idle": "2024-01-30T11:04:04.510355Z",
     "shell.execute_reply": "2024-01-30T11:04:04.509455Z"
    },
    "papermill": {
     "duration": 0.603192,
     "end_time": "2024-01-30T11:04:04.514582",
     "exception": false,
     "start_time": "2024-01-30T11:04:03.911390",
     "status": "completed"
    },
    "tags": []
   },
   "outputs": [
    {
     "data": {
      "image/png": "[encoded data removed]",
      "text/plain": [
       "<Figure size 1000x700 with 1 Axes>"
      ]
     },
     "metadata": {},
     "output_type": "display_data"
    }
   ],
   "source": [
    "#Same thing can be seen betterly through plot. Hence, plotting a column chart\n",
    "#Calculating average revenue by industry\n",
    "\n",
    "industry_revenue = df.groupby('industry')['revenue_in_millions'].mean().sort_values()\n",
    "plt.figure(figsize = (10,7))\n",
    "sns.barplot(x = industry_revenue.index, y = industry_revenue.values, palette = \"coolwarm\")\n",
    "plt.title('Average Revenue by Industry', fontsize = 17)\n",
    "plt.xlabel('Type of Industry', fontsize = 14)\n",
    "plt.ylabel('Average Revenue (in millions (USD))', fontsize = 14)\n",
    "plt.xticks(rotation = 45, ha = 'right', fontsize = 12)\n",
    "plt.yticks(fontsize = 12)\n",
    "plt.show()"
   ]
  },
  {
   "cell_type": "markdown",
   "id": "407e3b42",
   "metadata": {
    "papermill": {
     "duration": 0.024503,
     "end_time": "2024-01-30T11:04:04.564371",
     "exception": false,
     "start_time": "2024-01-30T11:04:04.539868",
     "status": "completed"
    },
    "tags": []
   },
   "source": [
    "The highest average revenue is in the Security industry followed by Health and Logistics & Transportation. On the other hand, Advertising & Marketing has the lowest average revenue followed by Education and Media."
   ]
  },
  {
   "cell_type": "markdown",
   "id": "40a89804",
   "metadata": {
    "papermill": {
     "duration": 0.024075,
     "end_time": "2024-01-30T11:04:04.613071",
     "exception": false,
     "start_time": "2024-01-30T11:04:04.588996",
     "status": "completed"
    },
    "tags": []
   },
   "source": [
    "# 2. Which industries are most and least represented in the list?"
   ]
  },
  {
   "cell_type": "code",
   "execution_count": 24,
   "id": "9dc8849b",
   "metadata": {
    "execution": {
     "iopub.execute_input": "2024-01-30T11:04:04.664296Z",
     "iopub.status.busy": "2024-01-30T11:04:04.663922Z",
     "iopub.status.idle": "2024-01-30T11:04:04.674434Z",
     "shell.execute_reply": "2024-01-30T11:04:04.673221Z"
    },
    "papermill": {
     "duration": 0.038791,
     "end_time": "2024-01-30T11:04:04.676717",
     "exception": false,
     "start_time": "2024-01-30T11:04:04.637926",
     "status": "completed"
    },
    "tags": []
   },
   "outputs": [
    {
     "data": {
      "text/plain": [
       "industry\n",
       "Business Products & Services    492\n",
       "Advertising & Marketing         489\n",
       "Software                        461\n",
       "Health                          356\n",
       "Construction                    350\n",
       "Consumer Products & Services    314\n",
       "IT Management                   276\n",
       "Financial Services              239\n",
       "Government Services             236\n",
       "Real Estate                     198\n",
       "Logistics & Transportation      186\n",
       "Manufacturing                   181\n",
       "Retail                          163\n",
       "Human Resources                 157\n",
       "Food & Beverage                 127\n",
       "IT System Development           120\n",
       "Engineering                      81\n",
       "Telecommunications               79\n",
       "Energy                           78\n",
       "Insurance                        70\n",
       "Education                        70\n",
       "Security                         67\n",
       "Travel & Hospitality             57\n",
       "Media                            46\n",
       "Environmental Services           43\n",
       "IT Services                      43\n",
       "Computer Hardware                32\n",
       "Name: count, dtype: int64"
      ]
     },
     "execution_count": 24,
     "metadata": {},
     "output_type": "execute_result"
    }
   ],
   "source": [
    "#Let's take a industry count first\n",
    "\n",
    "industry_counts = df['industry'].value_counts()\n",
    "industry_counts"
   ]
  },
  {
   "cell_type": "code",
   "execution_count": 25,
   "id": "40e03440",
   "metadata": {
    "execution": {
     "iopub.execute_input": "2024-01-30T11:04:04.728904Z",
     "iopub.status.busy": "2024-01-30T11:04:04.727676Z",
     "iopub.status.idle": "2024-01-30T11:04:05.188836Z",
     "shell.execute_reply": "2024-01-30T11:04:05.187708Z"
    },
    "papermill": {
     "duration": 0.490943,
     "end_time": "2024-01-30T11:04:05.192271",
     "exception": false,
     "start_time": "2024-01-30T11:04:04.701328",
     "status": "completed"
    },
    "tags": []
   },
   "outputs": [
    {
     "data": {
      "image/png": "[encoded data removed]",
      "text/plain": [
       "<Figure size 700x800 with 1 Axes>"
      ]
     },
     "metadata": {},
     "output_type": "display_data"
    }
   ],
   "source": [
    "#Let's understand the same thing through a bar plot\n",
    "\n",
    "plt.figure(figsize=(7, 8))\n",
    "sns.countplot(y='industry', data=df, order=df['industry'].value_counts().index, palette='coolwarm')\n",
    "plt.title('No. of Companies by Industry')\n",
    "plt.xlabel('No. of Companies')\n",
    "plt.ylabel('RType of Industry')\n",
    "plt.show()"
   ]
  },
  {
   "cell_type": "markdown",
   "id": "1aa13e96",
   "metadata": {
    "papermill": {
     "duration": 0.027631,
     "end_time": "2024-01-30T11:04:05.245594",
     "exception": false,
     "start_time": "2024-01-30T11:04:05.217963",
     "status": "completed"
    },
    "tags": []
   },
   "source": [
    "The most represented industries on the list are Business Products & Services and Advertising & Marketing. Whereas, the least represented industries on the list are Environmental Services and IT Services."
   ]
  },
  {
   "cell_type": "markdown",
   "id": "d690fbb3",
   "metadata": {
    "papermill": {
     "duration": 0.02567,
     "end_time": "2024-01-30T11:04:05.297313",
     "exception": false,
     "start_time": "2024-01-30T11:04:05.271643",
     "status": "completed"
    },
    "tags": []
   },
   "source": [
    "# 3. Do you notice any interesting geographic trends?"
   ]
  },
  {
   "cell_type": "code",
   "execution_count": 26,
   "id": "a64dc7e3",
   "metadata": {
    "execution": {
     "iopub.execute_input": "2024-01-30T11:04:05.353833Z",
     "iopub.status.busy": "2024-01-30T11:04:05.352691Z",
     "iopub.status.idle": "2024-01-30T11:04:05.363582Z",
     "shell.execute_reply": "2024-01-30T11:04:05.362395Z"
    },
    "papermill": {
     "duration": 0.041806,
     "end_time": "2024-01-30T11:04:05.366099",
     "exception": false,
     "start_time": "2024-01-30T11:04:05.324293",
     "status": "completed"
    },
    "tags": []
   },
   "outputs": [
    {
     "data": {
      "text/plain": [
       "state\n",
       "CA    712\n",
       "TX    467\n",
       "FL    384\n",
       "NY    300\n",
       "VA    288\n",
       "IL    241\n",
       "GA    219\n",
       "PA    172\n",
       "OH    160\n",
       "CO    156\n",
       "NC    135\n",
       "MA    133\n",
       "MD    130\n",
       "NJ    128\n",
       "UT    123\n",
       "AZ    104\n",
       "WA    101\n",
       "TN     84\n",
       "MI     82\n",
       "MN     81\n",
       "MO     75\n",
       "AL     64\n",
       "IN     63\n",
       "OR     59\n",
       "SC     56\n",
       "WI     49\n",
       "DC     43\n",
       "CT     37\n",
       "LA     37\n",
       "KY     34\n",
       "NV     33\n",
       "IA     31\n",
       "OK     28\n",
       "KS     27\n",
       "NE     27\n",
       "ID     21\n",
       "NH     20\n",
       "SD     14\n",
       "DE     11\n",
       "ME     11\n",
       "MT     11\n",
       "ND     10\n",
       "AR     10\n",
       "NM      7\n",
       "WV      7\n",
       "WY      6\n",
       "VT      5\n",
       "RI      5\n",
       "MS      4\n",
       "HI      4\n",
       "PR      2\n",
       "Name: count, dtype: int64"
      ]
     },
     "execution_count": 26,
     "metadata": {},
     "output_type": "execute_result"
    }
   ],
   "source": [
    "state_counts = df['state'].value_counts()\n",
    "state_counts"
   ]
  },
  {
   "cell_type": "markdown",
   "id": "2f9c20d0",
   "metadata": {
    "papermill": {
     "duration": 0.025998,
     "end_time": "2024-01-30T11:04:05.417866",
     "exception": false,
     "start_time": "2024-01-30T11:04:05.391868",
     "status": "completed"
    },
    "tags": []
   },
   "source": [
    "We noticed intresting geographic trend like  "
   ]
  },
  {
   "cell_type": "code",
   "execution_count": 27,
   "id": "250b5e9f",
   "metadata": {
    "execution": {
     "iopub.execute_input": "2024-01-30T11:04:05.473466Z",
     "iopub.status.busy": "2024-01-30T11:04:05.473023Z",
     "iopub.status.idle": "2024-01-30T11:04:05.779520Z",
     "shell.execute_reply": "2024-01-30T11:04:05.778347Z"
    },
    "papermill": {
     "duration": 0.337466,
     "end_time": "2024-01-30T11:04:05.782025",
     "exception": false,
     "start_time": "2024-01-30T11:04:05.444559",
     "status": "completed"
    },
    "tags": []
   },
   "outputs": [
    {
     "data": {
      "image/png": "[encoded data removed]",
      "text/plain": [
       "<Figure size 1200x600 with 1 Axes>"
      ]
     },
     "metadata": {},
     "output_type": "display_data"
    }
   ],
   "source": [
    "#Displaying above values through graph\n",
    "\n",
    "state_counts = df['state'].value_counts().head(15)\n",
    "plt.figure(figsize=(12,6))\n",
    "plt.bar(state_counts.index, state_counts.values, color='Orange')\n",
    "plt.title('Number of Companies by State')\n",
    "plt.xlabel('State')\n",
    "plt.ylabel('Number of Companies')\n",
    "plt.show()"
   ]
  },
  {
   "cell_type": "markdown",
   "id": "5043e0a6",
   "metadata": {
    "papermill": {
     "duration": 0.029576,
     "end_time": "2024-01-30T11:04:05.838672",
     "exception": false,
     "start_time": "2024-01-30T11:04:05.809096",
     "status": "completed"
    },
    "tags": []
   },
   "source": [
    "As a geographic trend, we saw that the top 5 states with the highest number of companies are as follows,\n",
    "California \n",
    "Texas\n",
    "Florida\n",
    "New York\n",
    "Virginia"
   ]
  },
  {
   "cell_type": "markdown",
   "id": "939bfc9b",
   "metadata": {
    "papermill": {
     "duration": 0.026235,
     "end_time": "2024-01-30T11:04:05.891814",
     "exception": false,
     "start_time": "2024-01-30T11:04:05.865579",
     "status": "completed"
    },
    "tags": []
   },
   "source": [
    "***Divide the whole data of states into zones and then find out the trends**"
   ]
  },
  {
   "cell_type": "code",
   "execution_count": 28,
   "id": "070c2a90",
   "metadata": {
    "execution": {
     "iopub.execute_input": "2024-01-30T11:04:05.947805Z",
     "iopub.status.busy": "2024-01-30T11:04:05.947353Z",
     "iopub.status.idle": "2024-01-30T11:04:08.041544Z",
     "shell.execute_reply": "2024-01-30T11:04:08.040334Z"
    },
    "papermill": {
     "duration": 2.12561,
     "end_time": "2024-01-30T11:04:08.044651",
     "exception": false,
     "start_time": "2024-01-30T11:04:05.919041",
     "status": "completed"
    },
    "tags": []
   },
   "outputs": [
    {
     "data": {
      "text/html": [
       "        <script type=\"text/javascript\">\n",
       "        window.PlotlyConfig = {MathJaxConfig: 'local'};\n",
       "        if (window.MathJax && window.MathJax.Hub && window.MathJax.Hub.Config) {window.MathJax.Hub.Config({SVG: {font: \"STIX-Web\"}});}\n",
       "        if (typeof require !== 'undefined') {\n",
       "        require.undef(\"plotly\");\n",
       "        requirejs.config({\n",
       "            paths: {\n",
       "                'plotly': ['https://cdn.plot.ly/plotly-2.27.0.min']\n",
       "            }\n",
       "        });\n",
       "        require(['plotly'], function(Plotly) {\n",
       "            window._Plotly = Plotly;\n",
       "        });\n",
       "        }\n",
       "        </script>\n",
       "        "
      ]
     },
     "metadata": {},
     "output_type": "display_data"
    },
    {
     "data": {
      "text/html": [
       "<div>                            <div id=\"6413b478-506a-4757-aaf3-72f6a575f89a\" class=\"plotly-graph-div\" style=\"height:525px; width:100%;\"></div>            <script type=\"text/javascript\">                require([\"plotly\"], function(Plotly) {                    window.PLOTLYENV=window.PLOTLYENV || {};                                    if (document.getElementById(\"6413b478-506a-4757-aaf3-72f6a575f89a\")) {                    Plotly.newPlot(                        \"6413b478-506a-4757-aaf3-72f6a575f89a\",                        [{\"coloraxis\":\"coloraxis\",\"geo\":\"geo\",\"hovertemplate\":\"state=%{location}\\u003cbr\\u003ecount=%{z}\\u003cextra\\u003e\\u003c\\u002fextra\\u003e\",\"locationmode\":\"USA-states\",\"locations\":[\"CA\",\"TX\",\"FL\",\"NY\",\"VA\",\"IL\",\"GA\",\"PA\",\"OH\",\"CO\",\"NC\",\"MA\",\"MD\",\"NJ\",\"UT\",\"AZ\",\"WA\",\"TN\",\"MI\",\"MN\",\"MO\",\"AL\",\"IN\",\"OR\",\"SC\",\"WI\",\"DC\",\"CT\",\"LA\",\"KY\",\"NV\",\"IA\",\"OK\",\"KS\",\"NE\",\"ID\",\"NH\",\"SD\",\"DE\",\"ME\",\"MT\",\"ND\",\"AR\",\"NM\",\"WV\",\"WY\",\"VT\",\"RI\",\"MS\",\"HI\",\"PR\"],\"name\":\"\",\"z\":[712,467,384,300,288,241,219,172,160,156,135,133,130,128,123,104,101,84,82,81,75,64,63,59,56,49,43,37,37,34,33,31,28,27,27,21,20,14,11,11,11,10,10,7,7,6,5,5,4,4,2],\"type\":\"choropleth\"}],                        {\"template\":{\"data\":{\"histogram2dcontour\":[{\"type\":\"histogram2dcontour\",\"colorbar\":{\"outlinewidth\":0,\"ticks\":\"\"},\"colorscale\":[[0.0,\"#0d0887\"],[0.1111111111111111,\"#46039f\"],[0.2222222222222222,\"#7201a8\"],[0.3333333333333333,\"#9c179e\"],[0.4444444444444444,\"#bd3786\"],[0.5555555555555556,\"#d8576b\"],[0.6666666666666666,\"#ed7953\"],[0.7777777777777778,\"#fb9f3a\"],[0.8888888888888888,\"#fdca26\"],[1.0,\"#f0f921\"]]}],\"choropleth\":[{\"type\":\"choropleth\",\"colorbar\":{\"outlinewidth\":0,\"ticks\":\"\"}}],\"histogram2d\":[{\"type\":\"histogram2d\",\"colorbar\":{\"outlinewidth\":0,\"ticks\":\"\"},\"colorscale\":[[0.0,\"#0d0887\"],[0.1111111111111111,\"#46039f\"],[0.2222222222222222,\"#7201a8\"],[0.3333333333333333,\"#9c179e\"],[0.4444444444444444,\"#bd3786\"],[0.5555555555555556,\"#d8576b\"],[0.6666666666666666,\"#ed7953\"],[0.7777777777777778,\"#fb9f3a\"],[0.8888888888888888,\"#fdca26\"],[1.0,\"#f0f921\"]]}],\"heatmap\":[{\"type\":\"heatmap\",\"colorbar\":{\"outlinewidth\":0,\"ticks\":\"\"},\"colorscale\":[[0.0,\"#0d0887\"],[0.1111111111111111,\"#46039f\"],[0.2222222222222222,\"#7201a8\"],[0.3333333333333333,\"#9c179e\"],[0.4444444444444444,\"#bd3786\"],[0.5555555555555556,\"#d8576b\"],[0.6666666666666666,\"#ed7953\"],[0.7777777777777778,\"#fb9f3a\"],[0.8888888888888888,\"#fdca26\"],[1.0,\"#f0f921\"]]}],\"heatmapgl\":[{\"type\":\"heatmapgl\",\"colorbar\":{\"outlinewidth\":0,\"ticks\":\"\"},\"colorscale\":[[0.0,\"#0d0887\"],[0.1111111111111111,\"#46039f\"],[0.2222222222222222,\"#7201a8\"],[0.3333333333333333,\"#9c179e\"],[0.4444444444444444,\"#bd3786\"],[0.5555555555555556,\"#d8576b\"],[0.6666666666666666,\"#ed7953\"],[0.7777777777777778,\"#fb9f3a\"],[0.8888888888888888,\"#fdca26\"],[1.0,\"#f0f921\"]]}],\"contourcarpet\":[{\"type\":\"contourcarpet\",\"colorbar\":{\"outlinewidth\":0,\"ticks\":\"\"}}],\"contour\":[{\"type\":\"contour\",\"colorbar\":{\"outlinewidth\":0,\"ticks\":\"\"},\"colorscale\":[[0.0,\"#0d0887\"],[0.1111111111111111,\"#46039f\"],[0.2222222222222222,\"#7201a8\"],[0.3333333333333333,\"#9c179e\"],[0.4444444444444444,\"#bd3786\"],[0.5555555555555556,\"#d8576b\"],[0.6666666666666666,\"#ed7953\"],[0.7777777777777778,\"#fb9f3a\"],[0.8888888888888888,\"#fdca26\"],[1.0,\"#f0f921\"]]}],\"surface\":[{\"type\":\"surface\",\"colorbar\":{\"outlinewidth\":0,\"ticks\":\"\"},\"colorscale\":[[0.0,\"#0d0887\"],[0.1111111111111111,\"#46039f\"],[0.2222222222222222,\"#7201a8\"],[0.3333333333333333,\"#9c179e\"],[0.4444444444444444,\"#bd3786\"],[0.5555555555555556,\"#d8576b\"],[0.6666666666666666,\"#ed7953\"],[0.7777777777777778,\"#fb9f3a\"],[0.8888888888888888,\"#fdca26\"],[1.0,\"#f0f921\"]]}],\"mesh3d\":[{\"type\":\"mesh3d\",\"colorbar\":{\"outlinewidth\":0,\"ticks\":\"\"}}],\"scatter\":[{\"fillpattern\":{\"fillmode\":\"overlay\",\"size\":10,\"solidity\":0.2},\"type\":\"scatter\"}],\"parcoords\":[{\"type\":\"parcoords\",\"line\":{\"colorbar\":{\"outlinewidth\":0,\"ticks\":\"\"}}}],\"scatterpolargl\":[{\"type\":\"scatterpolargl\",\"marker\":{\"colorbar\":{\"outlinewidth\":0,\"ticks\":\"\"}}}],\"bar\":[{\"error_x\":{\"color\":\"#2a3f5f\"},\"error_y\":{\"color\":\"#2a3f5f\"},\"marker\":{\"line\":{\"color\":\"#E5ECF6\",\"width\":0.5},\"pattern\":{\"fillmode\":\"overlay\",\"size\":10,\"solidity\":0.2}},\"type\":\"bar\"}],\"scattergeo\":[{\"type\":\"scattergeo\",\"marker\":{\"colorbar\":{\"outlinewidth\":0,\"ticks\":\"\"}}}],\"scatterpolar\":[{\"type\":\"scatterpolar\",\"marker\":{\"colorbar\":{\"outlinewidth\":0,\"ticks\":\"\"}}}],\"histogram\":[{\"marker\":{\"pattern\":{\"fillmode\":\"overlay\",\"size\":10,\"solidity\":0.2}},\"type\":\"histogram\"}],\"scattergl\":[{\"type\":\"scattergl\",\"marker\":{\"colorbar\":{\"outlinewidth\":0,\"ticks\":\"\"}}}],\"scatter3d\":[{\"type\":\"scatter3d\",\"line\":{\"colorbar\":{\"outlinewidth\":0,\"ticks\":\"\"}},\"marker\":{\"colorbar\":{\"outlinewidth\":0,\"ticks\":\"\"}}}],\"scattermapbox\":[{\"type\":\"scattermapbox\",\"marker\":{\"colorbar\":{\"outlinewidth\":0,\"ticks\":\"\"}}}],\"scatterternary\":[{\"type\":\"scatterternary\",\"marker\":{\"colorbar\":{\"outlinewidth\":0,\"ticks\":\"\"}}}],\"scattercarpet\":[{\"type\":\"scattercarpet\",\"marker\":{\"colorbar\":{\"outlinewidth\":0,\"ticks\":\"\"}}}],\"carpet\":[{\"aaxis\":{\"endlinecolor\":\"#2a3f5f\",\"gridcolor\":\"white\",\"linecolor\":\"white\",\"minorgridcolor\":\"white\",\"startlinecolor\":\"#2a3f5f\"},\"baxis\":{\"endlinecolor\":\"#2a3f5f\",\"gridcolor\":\"white\",\"linecolor\":\"white\",\"minorgridcolor\":\"white\",\"startlinecolor\":\"#2a3f5f\"},\"type\":\"carpet\"}],\"table\":[{\"cells\":{\"fill\":{\"color\":\"#EBF0F8\"},\"line\":{\"color\":\"white\"}},\"header\":{\"fill\":{\"color\":\"#C8D4E3\"},\"line\":{\"color\":\"white\"}},\"type\":\"table\"}],\"barpolar\":[{\"marker\":{\"line\":{\"color\":\"#E5ECF6\",\"width\":0.5},\"pattern\":{\"fillmode\":\"overlay\",\"size\":10,\"solidity\":0.2}},\"type\":\"barpolar\"}],\"pie\":[{\"automargin\":true,\"type\":\"pie\"}]},\"layout\":{\"autotypenumbers\":\"strict\",\"colorway\":[\"#636efa\",\"#EF553B\",\"#00cc96\",\"#ab63fa\",\"#FFA15A\",\"#19d3f3\",\"#FF6692\",\"#B6E880\",\"#FF97FF\",\"#FECB52\"],\"font\":{\"color\":\"#2a3f5f\"},\"hovermode\":\"closest\",\"hoverlabel\":{\"align\":\"left\"},\"paper_bgcolor\":\"white\",\"plot_bgcolor\":\"#E5ECF6\",\"polar\":{\"bgcolor\":\"#E5ECF6\",\"angularaxis\":{\"gridcolor\":\"white\",\"linecolor\":\"white\",\"ticks\":\"\"},\"radialaxis\":{\"gridcolor\":\"white\",\"linecolor\":\"white\",\"ticks\":\"\"}},\"ternary\":{\"bgcolor\":\"#E5ECF6\",\"aaxis\":{\"gridcolor\":\"white\",\"linecolor\":\"white\",\"ticks\":\"\"},\"baxis\":{\"gridcolor\":\"white\",\"linecolor\":\"white\",\"ticks\":\"\"},\"caxis\":{\"gridcolor\":\"white\",\"linecolor\":\"white\",\"ticks\":\"\"}},\"coloraxis\":{\"colorbar\":{\"outlinewidth\":0,\"ticks\":\"\"}},\"colorscale\":{\"sequential\":[[0.0,\"#0d0887\"],[0.1111111111111111,\"#46039f\"],[0.2222222222222222,\"#7201a8\"],[0.3333333333333333,\"#9c179e\"],[0.4444444444444444,\"#bd3786\"],[0.5555555555555556,\"#d8576b\"],[0.6666666666666666,\"#ed7953\"],[0.7777777777777778,\"#fb9f3a\"],[0.8888888888888888,\"#fdca26\"],[1.0,\"#f0f921\"]],\"sequentialminus\":[[0.0,\"#0d0887\"],[0.1111111111111111,\"#46039f\"],[0.2222222222222222,\"#7201a8\"],[0.3333333333333333,\"#9c179e\"],[0.4444444444444444,\"#bd3786\"],[0.5555555555555556,\"#d8576b\"],[0.6666666666666666,\"#ed7953\"],[0.7777777777777778,\"#fb9f3a\"],[0.8888888888888888,\"#fdca26\"],[1.0,\"#f0f921\"]],\"diverging\":[[0,\"#8e0152\"],[0.1,\"#c51b7d\"],[0.2,\"#de77ae\"],[0.3,\"#f1b6da\"],[0.4,\"#fde0ef\"],[0.5,\"#f7f7f7\"],[0.6,\"#e6f5d0\"],[0.7,\"#b8e186\"],[0.8,\"#7fbc41\"],[0.9,\"#4d9221\"],[1,\"#276419\"]]},\"xaxis\":{\"gridcolor\":\"white\",\"linecolor\":\"white\",\"ticks\":\"\",\"title\":{\"standoff\":15},\"zerolinecolor\":\"white\",\"automargin\":true,\"zerolinewidth\":2},\"yaxis\":{\"gridcolor\":\"white\",\"linecolor\":\"white\",\"ticks\":\"\",\"title\":{\"standoff\":15},\"zerolinecolor\":\"white\",\"automargin\":true,\"zerolinewidth\":2},\"scene\":{\"xaxis\":{\"backgroundcolor\":\"#E5ECF6\",\"gridcolor\":\"white\",\"linecolor\":\"white\",\"showbackground\":true,\"ticks\":\"\",\"zerolinecolor\":\"white\",\"gridwidth\":2},\"yaxis\":{\"backgroundcolor\":\"#E5ECF6\",\"gridcolor\":\"white\",\"linecolor\":\"white\",\"showbackground\":true,\"ticks\":\"\",\"zerolinecolor\":\"white\",\"gridwidth\":2},\"zaxis\":{\"backgroundcolor\":\"#E5ECF6\",\"gridcolor\":\"white\",\"linecolor\":\"white\",\"showbackground\":true,\"ticks\":\"\",\"zerolinecolor\":\"white\",\"gridwidth\":2}},\"shapedefaults\":{\"line\":{\"color\":\"#2a3f5f\"}},\"annotationdefaults\":{\"arrowcolor\":\"#2a3f5f\",\"arrowhead\":0,\"arrowwidth\":1},\"geo\":{\"bgcolor\":\"white\",\"landcolor\":\"#E5ECF6\",\"subunitcolor\":\"white\",\"showland\":true,\"showlakes\":true,\"lakecolor\":\"white\"},\"title\":{\"x\":0.05},\"mapbox\":{\"style\":\"light\"}}},\"geo\":{\"domain\":{\"x\":[0.0,1.0],\"y\":[0.0,1.0]},\"center\":{},\"scope\":\"usa\"},\"coloraxis\":{\"colorbar\":{\"title\":{\"text\":\"count\"}},\"colorscale\":[[0.0,\"#0d0887\"],[0.1111111111111111,\"#46039f\"],[0.2222222222222222,\"#7201a8\"],[0.3333333333333333,\"#9c179e\"],[0.4444444444444444,\"#bd3786\"],[0.5555555555555556,\"#d8576b\"],[0.6666666666666666,\"#ed7953\"],[0.7777777777777778,\"#fb9f3a\"],[0.8888888888888888,\"#fdca26\"],[1.0,\"#f0f921\"]]},\"legend\":{\"tracegroupgap\":0},\"title\":{\"text\":\"Number of Companies by State\"}},                        {\"responsive\": true}                    ).then(function(){\n",
       "                            \n",
       "var gd = document.getElementById('6413b478-506a-4757-aaf3-72f6a575f89a');\n",
       "var x = new MutationObserver(function (mutations, observer) {{\n",
       "        var display = window.getComputedStyle(gd).display;\n",
       "        if (!display || display === 'none') {{\n",
       "            console.log([gd, 'removed!']);\n",
       "            Plotly.purge(gd);\n",
       "            observer.disconnect();\n",
       "        }}\n",
       "}});\n",
       "\n",
       "// Listen for the removal of the full notebook cells\n",
       "var notebookContainer = gd.closest('#notebook-container');\n",
       "if (notebookContainer) {{\n",
       "    x.observe(notebookContainer, {childList: true});\n",
       "}}\n",
       "\n",
       "// Listen for the clearing of the current output cell\n",
       "var outputEl = gd.closest('.output');\n",
       "if (outputEl) {{\n",
       "    x.observe(outputEl, {childList: true});\n",
       "}}\n",
       "\n",
       "                        })                };                });            </script>        </div>"
      ]
     },
     "metadata": {},
     "output_type": "display_data"
    }
   ],
   "source": [
    "#Displaying the above value with map; dividing into zones\n",
    "\n",
    "state_counts = df['state'].value_counts().reset_index()\n",
    "state_counts.columns = ['state', 'count']\n",
    "fig = px.choropleth(state_counts, locationmode = \"USA-states\", locations = \"state\", color = \"count\", scope = \"usa\", title = 'Number of Companies by State')\n",
    "fig.show()"
   ]
  },
  {
   "cell_type": "markdown",
   "id": "42966972",
   "metadata": {
    "papermill": {
     "duration": 0.027539,
     "end_time": "2024-01-30T11:04:08.099827",
     "exception": false,
     "start_time": "2024-01-30T11:04:08.072288",
     "status": "completed"
    },
    "tags": []
   },
   "source": [
    "# 4. Which industries saw the largest average growth rate?"
   ]
  },
  {
   "cell_type": "code",
   "execution_count": 29,
   "id": "7050c5fd",
   "metadata": {
    "execution": {
     "iopub.execute_input": "2024-01-30T11:04:08.157728Z",
     "iopub.status.busy": "2024-01-30T11:04:08.156863Z",
     "iopub.status.idle": "2024-01-30T11:04:08.169495Z",
     "shell.execute_reply": "2024-01-30T11:04:08.168016Z"
    },
    "papermill": {
     "duration": 0.045263,
     "end_time": "2024-01-30T11:04:08.172235",
     "exception": false,
     "start_time": "2024-01-30T11:04:08.126972",
     "status": "completed"
    },
    "tags": []
   },
   "outputs": [
    {
     "data": {
      "text/plain": [
       "industry\n",
       "Logistics & Transportation      717.563346\n",
       "Consumer Products & Services    687.534860\n",
       "Food & Beverage                 668.225534\n",
       "Computer Hardware               651.975244\n",
       "Energy                          592.075591\n",
       "Retail                          584.823802\n",
       "Health                          546.911881\n",
       "Software                        524.673761\n",
       "Telecommunications              515.411890\n",
       "Security                        490.193593\n",
       "Name: growth_%, dtype: float64"
      ]
     },
     "execution_count": 29,
     "metadata": {},
     "output_type": "execute_result"
    }
   ],
   "source": [
    "industry_growth = df.groupby('industry')['growth_%'].mean().sort_values(ascending=False)\n",
    "top_industries = industry_growth.head(10)\n",
    "top_industries"
   ]
  },
  {
   "cell_type": "code",
   "execution_count": 30,
   "id": "0ea8d499",
   "metadata": {
    "execution": {
     "iopub.execute_input": "2024-01-30T11:04:08.232729Z",
     "iopub.status.busy": "2024-01-30T11:04:08.231871Z",
     "iopub.status.idle": "2024-01-30T11:04:08.705445Z",
     "shell.execute_reply": "2024-01-30T11:04:08.704253Z"
    },
    "papermill": {
     "duration": 0.50772,
     "end_time": "2024-01-30T11:04:08.709673",
     "exception": false,
     "start_time": "2024-01-30T11:04:08.201953",
     "status": "completed"
    },
    "tags": []
   },
   "outputs": [
    {
     "data": {
      "image/png": "[encoded data removed]",
      "text/plain": [
       "<Figure size 700x800 with 1 Axes>"
      ]
     },
     "metadata": {},
     "output_type": "display_data"
    }
   ],
   "source": [
    "#Plotting same thing by using bar graph\n",
    "\n",
    "industry_growth = df.groupby('industry')['growth_%'].mean().sort_values()\n",
    "plt.figure(figsize = (7,8))\n",
    "plt.barh(industry_growth.index, industry_growth.values)\n",
    "plt.title('Average Growth Rate by Industry', fontsize = 17)\n",
    "plt.xlabel('Average Growth Rate (%)', fontsize = 17)\n",
    "plt.ylabel('Type of Industry', fontsize = 17)\n",
    "plt.show()"
   ]
  },
  {
   "cell_type": "markdown",
   "id": "bd8d084c",
   "metadata": {
    "papermill": {
     "duration": 0.028282,
     "end_time": "2024-01-30T11:04:08.773034",
     "exception": false,
     "start_time": "2024-01-30T11:04:08.744752",
     "status": "completed"
    },
    "tags": []
   },
   "source": [
    "From the top 10 industries with the largest average growth rate, we can see that logistics and transportation, food and beverage, and consumer products and services had the largest average growth rates. "
   ]
  },
  {
   "cell_type": "markdown",
   "id": "89ec9e74",
   "metadata": {
    "papermill": {
     "duration": 0.028216,
     "end_time": "2024-01-30T11:04:08.829765",
     "exception": false,
     "start_time": "2024-01-30T11:04:08.801549",
     "status": "completed"
    },
    "tags": []
   },
   "source": [
    "# 5. Which companies had the largest increase in staff/new hires?"
   ]
  },
  {
   "cell_type": "code",
   "execution_count": 31,
   "id": "0ce00eb6",
   "metadata": {
    "execution": {
     "iopub.execute_input": "2024-01-30T11:04:08.889732Z",
     "iopub.status.busy": "2024-01-30T11:04:08.889067Z",
     "iopub.status.idle": "2024-01-30T11:04:08.906667Z",
     "shell.execute_reply": "2024-01-30T11:04:08.905513Z"
    },
    "papermill": {
     "duration": 0.050706,
     "end_time": "2024-01-30T11:04:08.909113",
     "exception": false,
     "start_time": "2024-01-30T11:04:08.858407",
     "status": "completed"
    },
    "tags": []
   },
   "outputs": [
    {
     "data": {
      "text/html": [
       "<div>\n",
       "<style scoped>\n",
       "    .dataframe tbody tr th:only-of-type {\n",
       "        vertical-align: middle;\n",
       "    }\n",
       "\n",
       "    .dataframe tbody tr th {\n",
       "        vertical-align: top;\n",
       "    }\n",
       "\n",
       "    .dataframe thead th {\n",
       "        text-align: right;\n",
       "    }\n",
       "</style>\n",
       "<table border=\"1\" class=\"dataframe\">\n",
       "  <thead>\n",
       "    <tr style=\"text-align: right;\">\n",
       "      <th></th>\n",
       "      <th>name</th>\n",
       "      <th>industry</th>\n",
       "      <th>new_hires</th>\n",
       "    </tr>\n",
       "  </thead>\n",
       "  <tbody>\n",
       "    <tr>\n",
       "      <th>1621</th>\n",
       "      <td>Allied Universal</td>\n",
       "      <td>Security</td>\n",
       "      <td>118531.0</td>\n",
       "    </tr>\n",
       "    <tr>\n",
       "      <th>3752</th>\n",
       "      <td>Alorica</td>\n",
       "      <td>Business Products &amp; Services</td>\n",
       "      <td>43000.0</td>\n",
       "    </tr>\n",
       "    <tr>\n",
       "      <th>3403</th>\n",
       "      <td>Infiniti HR</td>\n",
       "      <td>Human Resources</td>\n",
       "      <td>37145.0</td>\n",
       "    </tr>\n",
       "    <tr>\n",
       "      <th>1336</th>\n",
       "      <td>CircusTrix</td>\n",
       "      <td>Advertising &amp; Marketing</td>\n",
       "      <td>13739.0</td>\n",
       "    </tr>\n",
       "    <tr>\n",
       "      <th>3172</th>\n",
       "      <td>ScribeAmerica</td>\n",
       "      <td>Health</td>\n",
       "      <td>11641.0</td>\n",
       "    </tr>\n",
       "    <tr>\n",
       "      <th>1118</th>\n",
       "      <td>TaskUs</td>\n",
       "      <td>Business Products &amp; Services</td>\n",
       "      <td>9198.0</td>\n",
       "    </tr>\n",
       "    <tr>\n",
       "      <th>4110</th>\n",
       "      <td>Freddy's Frozen Custard</td>\n",
       "      <td>Food &amp; Beverage</td>\n",
       "      <td>6494.0</td>\n",
       "    </tr>\n",
       "    <tr>\n",
       "      <th>427</th>\n",
       "      <td>Pathway Vet Alliance</td>\n",
       "      <td>Health</td>\n",
       "      <td>4174.0</td>\n",
       "    </tr>\n",
       "    <tr>\n",
       "      <th>2927</th>\n",
       "      <td>Four Foods Group</td>\n",
       "      <td>Food &amp; Beverage</td>\n",
       "      <td>3500.0</td>\n",
       "    </tr>\n",
       "    <tr>\n",
       "      <th>4985</th>\n",
       "      <td>Pacific Dental Services</td>\n",
       "      <td>Health</td>\n",
       "      <td>3356.0</td>\n",
       "    </tr>\n",
       "  </tbody>\n",
       "</table>\n",
       "</div>"
      ],
      "text/plain": [
       "                         name                      industry  new_hires\n",
       "1621         Allied Universal                      Security   118531.0\n",
       "3752                  Alorica  Business Products & Services    43000.0\n",
       "3403              Infiniti HR               Human Resources    37145.0\n",
       "1336               CircusTrix       Advertising & Marketing    13739.0\n",
       "3172            ScribeAmerica                        Health    11641.0\n",
       "1118                   TaskUs  Business Products & Services     9198.0\n",
       "4110  Freddy's Frozen Custard               Food & Beverage     6494.0\n",
       "427      Pathway Vet Alliance                        Health     4174.0\n",
       "2927         Four Foods Group               Food & Beverage     3500.0\n",
       "4985  Pacific Dental Services                        Health     3356.0"
      ]
     },
     "execution_count": 31,
     "metadata": {},
     "output_type": "execute_result"
    }
   ],
   "source": [
    "df['new_hires'] = df['workers'] - df['previous_workers']\n",
    "largest_new_hires = df[['name', 'industry', 'new_hires']].sort_values(by='new_hires', ascending=False).head(10)\n",
    "largest_new_hires"
   ]
  },
  {
   "cell_type": "code",
   "execution_count": 32,
   "id": "5bb280a7",
   "metadata": {
    "execution": {
     "iopub.execute_input": "2024-01-30T11:04:08.969003Z",
     "iopub.status.busy": "2024-01-30T11:04:08.968210Z",
     "iopub.status.idle": "2024-01-30T11:04:09.265358Z",
     "shell.execute_reply": "2024-01-30T11:04:09.264113Z"
    },
    "papermill": {
     "duration": 0.330503,
     "end_time": "2024-01-30T11:04:09.268269",
     "exception": false,
     "start_time": "2024-01-30T11:04:08.937766",
     "status": "completed"
    },
    "tags": []
   },
   "outputs": [
    {
     "data": {
      "image/png": "[encoded data removed]",
      "text/plain": [
       "<Figure size 640x480 with 1 Axes>"
      ]
     },
     "metadata": {},
     "output_type": "display_data"
    }
   ],
   "source": [
    "#Same data can be presented by chart for better understanding\n",
    "#Grouping data by company and calculating change in workers \n",
    "\n",
    "worker_changes = df.groupby('name')['workers'].max() - df.groupby('name')['previous_workers'].max()\n",
    "worker_changes = worker_changes.sort_values(ascending=False)[:10]\n",
    "plt.bar(worker_changes.index, worker_changes.values)\n",
    "plt.xticks(rotation=90)\n",
    "plt.xlabel('Company')\n",
    "plt.ylabel('Increase in Workers')\n",
    "plt.title('Top 10 Companies with Largest Increase in Staff/New Hires')\n",
    "plt.show()"
   ]
  },
  {
   "cell_type": "markdown",
   "id": "7c53203e",
   "metadata": {
    "papermill": {
     "duration": 0.029897,
     "end_time": "2024-01-30T11:04:09.329249",
     "exception": false,
     "start_time": "2024-01-30T11:04:09.299352",
     "status": "completed"
    },
    "tags": []
   },
   "source": [
    "The Allied Universal had the largest increase in staff/new hires among all the companies in the dataset with 118531 new hires."
   ]
  },
  {
   "cell_type": "markdown",
   "id": "95a13570",
   "metadata": {
    "papermill": {
     "duration": 0.029509,
     "end_time": "2024-01-30T11:04:09.389564",
     "exception": false,
     "start_time": "2024-01-30T11:04:09.360055",
     "status": "completed"
    },
    "tags": []
   },
   "source": [
    "***Top 5 and Bottom 5 - Companies**"
   ]
  },
  {
   "cell_type": "code",
   "execution_count": 33,
   "id": "a62d6c18",
   "metadata": {
    "execution": {
     "iopub.execute_input": "2024-01-30T11:04:09.451618Z",
     "iopub.status.busy": "2024-01-30T11:04:09.450966Z",
     "iopub.status.idle": "2024-01-30T11:04:09.463372Z",
     "shell.execute_reply": "2024-01-30T11:04:09.462052Z"
    },
    "papermill": {
     "duration": 0.046449,
     "end_time": "2024-01-30T11:04:09.466126",
     "exception": false,
     "start_time": "2024-01-30T11:04:09.419677",
     "status": "completed"
    },
    "tags": []
   },
   "outputs": [],
   "source": [
    "#Creating top & bottom  \n",
    "\n",
    "df_top_bottom = df.sort_values(by=['revenue_in_millions', 'new_hires'], ascending = [False, False])\n",
    "top_5_companies = df_top_bottom.head(5)\n",
    "bottom_5_companies = df_top_bottom.tail(5)"
   ]
  },
  {
   "cell_type": "code",
   "execution_count": 34,
   "id": "76e85d62",
   "metadata": {
    "execution": {
     "iopub.execute_input": "2024-01-30T11:04:09.527418Z",
     "iopub.status.busy": "2024-01-30T11:04:09.527012Z",
     "iopub.status.idle": "2024-01-30T11:04:09.548103Z",
     "shell.execute_reply": "2024-01-30T11:04:09.546650Z"
    },
    "papermill": {
     "duration": 0.054861,
     "end_time": "2024-01-30T11:04:09.550723",
     "exception": false,
     "start_time": "2024-01-30T11:04:09.495862",
     "status": "completed"
    },
    "tags": []
   },
   "outputs": [
    {
     "data": {
      "text/html": [
       "<div>\n",
       "<style scoped>\n",
       "    .dataframe tbody tr th:only-of-type {\n",
       "        vertical-align: middle;\n",
       "    }\n",
       "\n",
       "    .dataframe tbody tr th {\n",
       "        vertical-align: top;\n",
       "    }\n",
       "\n",
       "    .dataframe thead th {\n",
       "        text-align: right;\n",
       "    }\n",
       "</style>\n",
       "<table border=\"1\" class=\"dataframe\">\n",
       "  <thead>\n",
       "    <tr style=\"text-align: right;\">\n",
       "      <th></th>\n",
       "      <th>rank</th>\n",
       "      <th>name</th>\n",
       "      <th>state</th>\n",
       "      <th>revenue_in_millions</th>\n",
       "      <th>growth_%</th>\n",
       "      <th>industry</th>\n",
       "      <th>workers</th>\n",
       "      <th>previous_workers</th>\n",
       "      <th>founded</th>\n",
       "      <th>yrs_on_list</th>\n",
       "      <th>metro</th>\n",
       "      <th>city</th>\n",
       "      <th>new_hires</th>\n",
       "    </tr>\n",
       "  </thead>\n",
       "  <tbody>\n",
       "    <tr>\n",
       "      <th>1076</th>\n",
       "      <td>1073</td>\n",
       "      <td>Prime Therapeutics</td>\n",
       "      <td>MN</td>\n",
       "      <td>21400.0</td>\n",
       "      <td>390.5654</td>\n",
       "      <td>Health</td>\n",
       "      <td>3300.0</td>\n",
       "      <td>3900</td>\n",
       "      <td>1998</td>\n",
       "      <td>8</td>\n",
       "      <td>Minneapolis</td>\n",
       "      <td>Eagan</td>\n",
       "      <td>-600.0</td>\n",
       "    </tr>\n",
       "    <tr>\n",
       "      <th>914</th>\n",
       "      <td>913</td>\n",
       "      <td>Uber Technologies</td>\n",
       "      <td>CA</td>\n",
       "      <td>11300.0</td>\n",
       "      <td>464.9123</td>\n",
       "      <td>Consumer Products &amp; Services</td>\n",
       "      <td>22263.0</td>\n",
       "      <td>22263</td>\n",
       "      <td>2009</td>\n",
       "      <td>1</td>\n",
       "      <td>San Francisco</td>\n",
       "      <td>San Francisco</td>\n",
       "      <td>0.0</td>\n",
       "    </tr>\n",
       "    <tr>\n",
       "      <th>1621</th>\n",
       "      <td>1617</td>\n",
       "      <td>Allied Universal</td>\n",
       "      <td>CA</td>\n",
       "      <td>5800.0</td>\n",
       "      <td>255.1902</td>\n",
       "      <td>Security</td>\n",
       "      <td>155000.0</td>\n",
       "      <td>36469</td>\n",
       "      <td>1957</td>\n",
       "      <td>10</td>\n",
       "      <td>Los Angeles</td>\n",
       "      <td>Santa Ana</td>\n",
       "      <td>118531.0</td>\n",
       "    </tr>\n",
       "    <tr>\n",
       "      <th>3856</th>\n",
       "      <td>3847</td>\n",
       "      <td>Carahsoft Technology</td>\n",
       "      <td>VA</td>\n",
       "      <td>5400.0</td>\n",
       "      <td>86.5174</td>\n",
       "      <td>Government Services</td>\n",
       "      <td>1000.0</td>\n",
       "      <td>538</td>\n",
       "      <td>2004</td>\n",
       "      <td>12</td>\n",
       "      <td>Washington, DC</td>\n",
       "      <td>Reston</td>\n",
       "      <td>462.0</td>\n",
       "    </tr>\n",
       "    <tr>\n",
       "      <th>3781</th>\n",
       "      <td>3772</td>\n",
       "      <td>CoAdvantage</td>\n",
       "      <td>FL</td>\n",
       "      <td>4600.0</td>\n",
       "      <td>89.1728</td>\n",
       "      <td>Human Resources</td>\n",
       "      <td>410.0</td>\n",
       "      <td>332</td>\n",
       "      <td>1997</td>\n",
       "      <td>4</td>\n",
       "      <td>Tampa</td>\n",
       "      <td>Tampa</td>\n",
       "      <td>78.0</td>\n",
       "    </tr>\n",
       "  </tbody>\n",
       "</table>\n",
       "</div>"
      ],
      "text/plain": [
       "      rank                  name state  revenue_in_millions  growth_%  \\\n",
       "1076  1073    Prime Therapeutics    MN              21400.0  390.5654   \n",
       "914    913     Uber Technologies    CA              11300.0  464.9123   \n",
       "1621  1617      Allied Universal    CA               5800.0  255.1902   \n",
       "3856  3847  Carahsoft Technology    VA               5400.0   86.5174   \n",
       "3781  3772           CoAdvantage    FL               4600.0   89.1728   \n",
       "\n",
       "                          industry   workers  previous_workers  founded  \\\n",
       "1076                        Health    3300.0              3900     1998   \n",
       "914   Consumer Products & Services   22263.0             22263     2009   \n",
       "1621                      Security  155000.0             36469     1957   \n",
       "3856           Government Services    1000.0               538     2004   \n",
       "3781               Human Resources     410.0               332     1997   \n",
       "\n",
       "      yrs_on_list           metro           city  new_hires  \n",
       "1076            8     Minneapolis          Eagan     -600.0  \n",
       "914             1   San Francisco  San Francisco        0.0  \n",
       "1621           10     Los Angeles      Santa Ana   118531.0  \n",
       "3856           12  Washington, DC         Reston      462.0  \n",
       "3781            4           Tampa          Tampa       78.0  "
      ]
     },
     "execution_count": 34,
     "metadata": {},
     "output_type": "execute_result"
    }
   ],
   "source": [
    "#Top 5 companies\n",
    "\n",
    "df_top_bottom.head(5)"
   ]
  },
  {
   "cell_type": "code",
   "execution_count": 35,
   "id": "3239b04a",
   "metadata": {
    "execution": {
     "iopub.execute_input": "2024-01-30T11:04:09.614479Z",
     "iopub.status.busy": "2024-01-30T11:04:09.613879Z",
     "iopub.status.idle": "2024-01-30T11:04:09.633352Z",
     "shell.execute_reply": "2024-01-30T11:04:09.631735Z"
    },
    "papermill": {
     "duration": 0.055992,
     "end_time": "2024-01-30T11:04:09.637028",
     "exception": false,
     "start_time": "2024-01-30T11:04:09.581036",
     "status": "completed"
    },
    "tags": []
   },
   "outputs": [
    {
     "data": {
      "text/html": [
       "<div>\n",
       "<style scoped>\n",
       "    .dataframe tbody tr th:only-of-type {\n",
       "        vertical-align: middle;\n",
       "    }\n",
       "\n",
       "    .dataframe tbody tr th {\n",
       "        vertical-align: top;\n",
       "    }\n",
       "\n",
       "    .dataframe thead th {\n",
       "        text-align: right;\n",
       "    }\n",
       "</style>\n",
       "<table border=\"1\" class=\"dataframe\">\n",
       "  <thead>\n",
       "    <tr style=\"text-align: right;\">\n",
       "      <th></th>\n",
       "      <th>rank</th>\n",
       "      <th>name</th>\n",
       "      <th>state</th>\n",
       "      <th>revenue_in_millions</th>\n",
       "      <th>growth_%</th>\n",
       "      <th>industry</th>\n",
       "      <th>workers</th>\n",
       "      <th>previous_workers</th>\n",
       "      <th>founded</th>\n",
       "      <th>yrs_on_list</th>\n",
       "      <th>metro</th>\n",
       "      <th>city</th>\n",
       "      <th>new_hires</th>\n",
       "    </tr>\n",
       "  </thead>\n",
       "  <tbody>\n",
       "    <tr>\n",
       "      <th>3188</th>\n",
       "      <td>3180</td>\n",
       "      <td>Precision Measurement Engineering</td>\n",
       "      <td>CA</td>\n",
       "      <td>2.0</td>\n",
       "      <td>115.2009</td>\n",
       "      <td>Environmental Services</td>\n",
       "      <td>11.0</td>\n",
       "      <td>9</td>\n",
       "      <td>1982</td>\n",
       "      <td>1</td>\n",
       "      <td>San Diego</td>\n",
       "      <td>Vista</td>\n",
       "      <td>2.0</td>\n",
       "    </tr>\n",
       "    <tr>\n",
       "      <th>3297</th>\n",
       "      <td>3289</td>\n",
       "      <td>Women Rocking Business</td>\n",
       "      <td>CA</td>\n",
       "      <td>2.0</td>\n",
       "      <td>109.8185</td>\n",
       "      <td>Business Products &amp; Services</td>\n",
       "      <td>3.0</td>\n",
       "      <td>1</td>\n",
       "      <td>2012</td>\n",
       "      <td>1</td>\n",
       "      <td>Santa Cruz</td>\n",
       "      <td>Santa Cruz</td>\n",
       "      <td>2.0</td>\n",
       "    </tr>\n",
       "    <tr>\n",
       "      <th>4601</th>\n",
       "      <td>4590</td>\n",
       "      <td>SBC Contractors</td>\n",
       "      <td>CA</td>\n",
       "      <td>2.0</td>\n",
       "      <td>63.1469</td>\n",
       "      <td>Construction</td>\n",
       "      <td>5.0</td>\n",
       "      <td>4</td>\n",
       "      <td>2003</td>\n",
       "      <td>1</td>\n",
       "      <td>Roseville</td>\n",
       "      <td>Roseville</td>\n",
       "      <td>1.0</td>\n",
       "    </tr>\n",
       "    <tr>\n",
       "      <th>475</th>\n",
       "      <td>475</td>\n",
       "      <td>Powerful Professionals</td>\n",
       "      <td>GA</td>\n",
       "      <td>2.0</td>\n",
       "      <td>935.0348</td>\n",
       "      <td>Business Products &amp; Services</td>\n",
       "      <td>5.0</td>\n",
       "      <td>13</td>\n",
       "      <td>2001</td>\n",
       "      <td>1</td>\n",
       "      <td>Atlanta</td>\n",
       "      <td>Alpharetta</td>\n",
       "      <td>-8.0</td>\n",
       "    </tr>\n",
       "    <tr>\n",
       "      <th>3302</th>\n",
       "      <td>3294</td>\n",
       "      <td>Vennli</td>\n",
       "      <td>IN</td>\n",
       "      <td>2.0</td>\n",
       "      <td>109.6291</td>\n",
       "      <td>Software</td>\n",
       "      <td>12.0</td>\n",
       "      <td>21</td>\n",
       "      <td>2013</td>\n",
       "      <td>1</td>\n",
       "      <td>South Bend</td>\n",
       "      <td>South Bend</td>\n",
       "      <td>-9.0</td>\n",
       "    </tr>\n",
       "  </tbody>\n",
       "</table>\n",
       "</div>"
      ],
      "text/plain": [
       "      rank                               name state  revenue_in_millions  \\\n",
       "3188  3180  Precision Measurement Engineering    CA                  2.0   \n",
       "3297  3289             Women Rocking Business    CA                  2.0   \n",
       "4601  4590                    SBC Contractors    CA                  2.0   \n",
       "475    475             Powerful Professionals    GA                  2.0   \n",
       "3302  3294                             Vennli    IN                  2.0   \n",
       "\n",
       "      growth_%                      industry  workers  previous_workers  \\\n",
       "3188  115.2009        Environmental Services     11.0                 9   \n",
       "3297  109.8185  Business Products & Services      3.0                 1   \n",
       "4601   63.1469                  Construction      5.0                 4   \n",
       "475   935.0348  Business Products & Services      5.0                13   \n",
       "3302  109.6291                      Software     12.0                21   \n",
       "\n",
       "      founded  yrs_on_list       metro        city  new_hires  \n",
       "3188     1982            1   San Diego       Vista        2.0  \n",
       "3297     2012            1  Santa Cruz  Santa Cruz        2.0  \n",
       "4601     2003            1   Roseville   Roseville        1.0  \n",
       "475      2001            1     Atlanta  Alpharetta       -8.0  \n",
       "3302     2013            1  South Bend  South Bend       -9.0  "
      ]
     },
     "execution_count": 35,
     "metadata": {},
     "output_type": "execute_result"
    }
   ],
   "source": [
    "#Bottom 5 companies\n",
    "\n",
    "df_top_bottom.tail(5)"
   ]
  },
  {
   "cell_type": "markdown",
   "id": "bb42d3a6",
   "metadata": {
    "papermill": {
     "duration": 0.030872,
     "end_time": "2024-01-30T11:04:09.699866",
     "exception": false,
     "start_time": "2024-01-30T11:04:09.668994",
     "status": "completed"
    },
    "tags": []
   },
   "source": [
    "# 6. Did any companies increase revenue while reducing staff?"
   ]
  },
  {
   "cell_type": "code",
   "execution_count": 36,
   "id": "7f70498b",
   "metadata": {
    "execution": {
     "iopub.execute_input": "2024-01-30T11:04:09.763254Z",
     "iopub.status.busy": "2024-01-30T11:04:09.762863Z",
     "iopub.status.idle": "2024-01-30T11:04:09.799665Z",
     "shell.execute_reply": "2024-01-30T11:04:09.798599Z"
    },
    "papermill": {
     "duration": 0.072074,
     "end_time": "2024-01-30T11:04:09.802721",
     "exception": false,
     "start_time": "2024-01-30T11:04:09.730647",
     "status": "completed"
    },
    "tags": []
   },
   "outputs": [
    {
     "data": {
      "text/html": [
       "<div>\n",
       "<style scoped>\n",
       "    .dataframe tbody tr th:only-of-type {\n",
       "        vertical-align: middle;\n",
       "    }\n",
       "\n",
       "    .dataframe tbody tr th {\n",
       "        vertical-align: top;\n",
       "    }\n",
       "\n",
       "    .dataframe thead th {\n",
       "        text-align: right;\n",
       "    }\n",
       "</style>\n",
       "<table border=\"1\" class=\"dataframe\">\n",
       "  <thead>\n",
       "    <tr style=\"text-align: right;\">\n",
       "      <th></th>\n",
       "      <th>name</th>\n",
       "      <th>industry</th>\n",
       "      <th>revenue_difference</th>\n",
       "      <th>worker_difference</th>\n",
       "    </tr>\n",
       "  </thead>\n",
       "  <tbody>\n",
       "    <tr>\n",
       "      <th>361</th>\n",
       "      <td>AdFicient</td>\n",
       "      <td>Advertising &amp; Marketing</td>\n",
       "      <td>3.8</td>\n",
       "      <td>-1.0</td>\n",
       "    </tr>\n",
       "    <tr>\n",
       "      <th>525</th>\n",
       "      <td>Quantico Tactical</td>\n",
       "      <td>Government Services</td>\n",
       "      <td>475.0</td>\n",
       "      <td>-43.0</td>\n",
       "    </tr>\n",
       "    <tr>\n",
       "      <th>1076</th>\n",
       "      <td>Prime Therapeutics</td>\n",
       "      <td>Health</td>\n",
       "      <td>21385.5</td>\n",
       "      <td>-600.0</td>\n",
       "    </tr>\n",
       "    <tr>\n",
       "      <th>1159</th>\n",
       "      <td>WealthForge</td>\n",
       "      <td>Financial Services</td>\n",
       "      <td>13.3</td>\n",
       "      <td>-15.0</td>\n",
       "    </tr>\n",
       "    <tr>\n",
       "      <th>1163</th>\n",
       "      <td>Catalyst Outdoor</td>\n",
       "      <td>Advertising &amp; Marketing</td>\n",
       "      <td>13.6</td>\n",
       "      <td>-5.0</td>\n",
       "    </tr>\n",
       "    <tr>\n",
       "      <th>1602</th>\n",
       "      <td>Taulia</td>\n",
       "      <td>Software</td>\n",
       "      <td>39.9</td>\n",
       "      <td>-22.0</td>\n",
       "    </tr>\n",
       "    <tr>\n",
       "      <th>1671</th>\n",
       "      <td>IT Authorities</td>\n",
       "      <td>IT Management</td>\n",
       "      <td>5.8</td>\n",
       "      <td>-10.0</td>\n",
       "    </tr>\n",
       "    <tr>\n",
       "      <th>1732</th>\n",
       "      <td>Zentra</td>\n",
       "      <td>Retail</td>\n",
       "      <td>19.6</td>\n",
       "      <td>-6.0</td>\n",
       "    </tr>\n",
       "    <tr>\n",
       "      <th>1741</th>\n",
       "      <td>Worth Clark Realty</td>\n",
       "      <td>Real Estate</td>\n",
       "      <td>14.9</td>\n",
       "      <td>-2.0</td>\n",
       "    </tr>\n",
       "    <tr>\n",
       "      <th>1833</th>\n",
       "      <td>Perfect Snacks</td>\n",
       "      <td>Food &amp; Beverage</td>\n",
       "      <td>57.6</td>\n",
       "      <td>-16.0</td>\n",
       "    </tr>\n",
       "    <tr>\n",
       "      <th>1973</th>\n",
       "      <td>Synapse Business Systems</td>\n",
       "      <td>IT Management</td>\n",
       "      <td>0.3</td>\n",
       "      <td>-4.0</td>\n",
       "    </tr>\n",
       "    <tr>\n",
       "      <th>2026</th>\n",
       "      <td>CloudSmartz</td>\n",
       "      <td>IT Management</td>\n",
       "      <td>10.6</td>\n",
       "      <td>-1.0</td>\n",
       "    </tr>\n",
       "    <tr>\n",
       "      <th>2054</th>\n",
       "      <td>Benton Roofing</td>\n",
       "      <td>Construction</td>\n",
       "      <td>19.1</td>\n",
       "      <td>-1.0</td>\n",
       "    </tr>\n",
       "    <tr>\n",
       "      <th>2715</th>\n",
       "      <td>NCWC</td>\n",
       "      <td>Advertising &amp; Marketing</td>\n",
       "      <td>193.1</td>\n",
       "      <td>-71.0</td>\n",
       "    </tr>\n",
       "    <tr>\n",
       "      <th>2759</th>\n",
       "      <td>Touchstone Merchandise Group</td>\n",
       "      <td>Consumer Products &amp; Services</td>\n",
       "      <td>39.6</td>\n",
       "      <td>-3.0</td>\n",
       "    </tr>\n",
       "    <tr>\n",
       "      <th>2955</th>\n",
       "      <td>Buzz Franchise Brands</td>\n",
       "      <td>Consumer Products &amp; Services</td>\n",
       "      <td>12.5</td>\n",
       "      <td>-28.0</td>\n",
       "    </tr>\n",
       "    <tr>\n",
       "      <th>3180</th>\n",
       "      <td>Systems Integration</td>\n",
       "      <td>IT Management</td>\n",
       "      <td>21.0</td>\n",
       "      <td>-6.0</td>\n",
       "    </tr>\n",
       "    <tr>\n",
       "      <th>3533</th>\n",
       "      <td>Metronome</td>\n",
       "      <td>Government Services</td>\n",
       "      <td>15.0</td>\n",
       "      <td>-8.0</td>\n",
       "    </tr>\n",
       "    <tr>\n",
       "      <th>3541</th>\n",
       "      <td>49er Communications</td>\n",
       "      <td>Telecommunications</td>\n",
       "      <td>2.2</td>\n",
       "      <td>-2.0</td>\n",
       "    </tr>\n",
       "    <tr>\n",
       "      <th>3573</th>\n",
       "      <td>Enhanced Veterans Solutions</td>\n",
       "      <td>Government Services</td>\n",
       "      <td>6.0</td>\n",
       "      <td>-8.0</td>\n",
       "    </tr>\n",
       "    <tr>\n",
       "      <th>3579</th>\n",
       "      <td>Coranet</td>\n",
       "      <td>Telecommunications</td>\n",
       "      <td>79.6</td>\n",
       "      <td>-7.0</td>\n",
       "    </tr>\n",
       "    <tr>\n",
       "      <th>3611</th>\n",
       "      <td>5</td>\n",
       "      <td>Energy</td>\n",
       "      <td>3.4</td>\n",
       "      <td>-3.0</td>\n",
       "    </tr>\n",
       "    <tr>\n",
       "      <th>3622</th>\n",
       "      <td>FNB Merchants</td>\n",
       "      <td>Financial Services</td>\n",
       "      <td>6.1</td>\n",
       "      <td>-4.0</td>\n",
       "    </tr>\n",
       "    <tr>\n",
       "      <th>3627</th>\n",
       "      <td>Zefr</td>\n",
       "      <td>Advertising &amp; Marketing</td>\n",
       "      <td>60.5</td>\n",
       "      <td>-86.0</td>\n",
       "    </tr>\n",
       "    <tr>\n",
       "      <th>3799</th>\n",
       "      <td>Cuddle Clones</td>\n",
       "      <td>Consumer Products &amp; Services</td>\n",
       "      <td>1.2</td>\n",
       "      <td>-1.0</td>\n",
       "    </tr>\n",
       "    <tr>\n",
       "      <th>3992</th>\n",
       "      <td>Adapture</td>\n",
       "      <td>IT Services</td>\n",
       "      <td>35.8</td>\n",
       "      <td>-2.0</td>\n",
       "    </tr>\n",
       "    <tr>\n",
       "      <th>4059</th>\n",
       "      <td>AEC Group</td>\n",
       "      <td>IT Services</td>\n",
       "      <td>93.1</td>\n",
       "      <td>-4.0</td>\n",
       "    </tr>\n",
       "    <tr>\n",
       "      <th>4136</th>\n",
       "      <td>First American Payment Systems</td>\n",
       "      <td>Financial Services</td>\n",
       "      <td>657.7</td>\n",
       "      <td>-243.0</td>\n",
       "    </tr>\n",
       "    <tr>\n",
       "      <th>4146</th>\n",
       "      <td>Creditsafe USA</td>\n",
       "      <td>Business Products &amp; Services</td>\n",
       "      <td>8.4</td>\n",
       "      <td>-11.0</td>\n",
       "    </tr>\n",
       "    <tr>\n",
       "      <th>4150</th>\n",
       "      <td>Blueberry Builders</td>\n",
       "      <td>Construction</td>\n",
       "      <td>5.5</td>\n",
       "      <td>-8.0</td>\n",
       "    </tr>\n",
       "    <tr>\n",
       "      <th>4153</th>\n",
       "      <td>Centrify</td>\n",
       "      <td>Software</td>\n",
       "      <td>110.5</td>\n",
       "      <td>-127.0</td>\n",
       "    </tr>\n",
       "    <tr>\n",
       "      <th>4167</th>\n",
       "      <td>CommerceIQ</td>\n",
       "      <td>Software</td>\n",
       "      <td>6.6</td>\n",
       "      <td>-22.0</td>\n",
       "    </tr>\n",
       "    <tr>\n",
       "      <th>4187</th>\n",
       "      <td>TapClassifieds Auto</td>\n",
       "      <td>Advertising &amp; Marketing</td>\n",
       "      <td>0.4</td>\n",
       "      <td>-5.0</td>\n",
       "    </tr>\n",
       "    <tr>\n",
       "      <th>4258</th>\n",
       "      <td>SBS CyberSecurity</td>\n",
       "      <td>Financial Services</td>\n",
       "      <td>6.9</td>\n",
       "      <td>-1.0</td>\n",
       "    </tr>\n",
       "    <tr>\n",
       "      <th>4265</th>\n",
       "      <td>GMF Steel Group</td>\n",
       "      <td>Construction</td>\n",
       "      <td>4.9</td>\n",
       "      <td>-4.0</td>\n",
       "    </tr>\n",
       "    <tr>\n",
       "      <th>4270</th>\n",
       "      <td>Integrity Services</td>\n",
       "      <td>Business Products &amp; Services</td>\n",
       "      <td>16.0</td>\n",
       "      <td>-150.0</td>\n",
       "    </tr>\n",
       "    <tr>\n",
       "      <th>4290</th>\n",
       "      <td>JazzHR</td>\n",
       "      <td>Software</td>\n",
       "      <td>3.5</td>\n",
       "      <td>-8.0</td>\n",
       "    </tr>\n",
       "    <tr>\n",
       "      <th>4367</th>\n",
       "      <td>Republic Bank of Chicago</td>\n",
       "      <td>Financial Services</td>\n",
       "      <td>97.3</td>\n",
       "      <td>-4.0</td>\n",
       "    </tr>\n",
       "    <tr>\n",
       "      <th>4409</th>\n",
       "      <td>Akorbi</td>\n",
       "      <td>Business Products &amp; Services</td>\n",
       "      <td>34.3</td>\n",
       "      <td>-300.0</td>\n",
       "    </tr>\n",
       "    <tr>\n",
       "      <th>4433</th>\n",
       "      <td>Momentum Telecom</td>\n",
       "      <td>Telecommunications</td>\n",
       "      <td>93.3</td>\n",
       "      <td>-11.0</td>\n",
       "    </tr>\n",
       "    <tr>\n",
       "      <th>4533</th>\n",
       "      <td>Right Height Manufacturing</td>\n",
       "      <td>Manufacturing</td>\n",
       "      <td>1.8</td>\n",
       "      <td>-3.0</td>\n",
       "    </tr>\n",
       "    <tr>\n",
       "      <th>4540</th>\n",
       "      <td>Myriad360</td>\n",
       "      <td>IT Management</td>\n",
       "      <td>132.5</td>\n",
       "      <td>-3.0</td>\n",
       "    </tr>\n",
       "    <tr>\n",
       "      <th>4567</th>\n",
       "      <td>IDS International Government Services</td>\n",
       "      <td>Government Services</td>\n",
       "      <td>27.5</td>\n",
       "      <td>-682.0</td>\n",
       "    </tr>\n",
       "    <tr>\n",
       "      <th>4571</th>\n",
       "      <td>Netsertive</td>\n",
       "      <td>Advertising &amp; Marketing</td>\n",
       "      <td>56.5</td>\n",
       "      <td>-54.0</td>\n",
       "    </tr>\n",
       "    <tr>\n",
       "      <th>4583</th>\n",
       "      <td>Ctems</td>\n",
       "      <td>Manufacturing</td>\n",
       "      <td>11.7</td>\n",
       "      <td>-80.0</td>\n",
       "    </tr>\n",
       "    <tr>\n",
       "      <th>4617</th>\n",
       "      <td>TargetX.com</td>\n",
       "      <td>Advertising &amp; Marketing</td>\n",
       "      <td>6.0</td>\n",
       "      <td>-8.0</td>\n",
       "    </tr>\n",
       "    <tr>\n",
       "      <th>4656</th>\n",
       "      <td>Secure Medical</td>\n",
       "      <td>Health</td>\n",
       "      <td>13.3</td>\n",
       "      <td>-7.0</td>\n",
       "    </tr>\n",
       "    <tr>\n",
       "      <th>4727</th>\n",
       "      <td>Leigh Marcus | @properties</td>\n",
       "      <td>Real Estate</td>\n",
       "      <td>0.2</td>\n",
       "      <td>-3.0</td>\n",
       "    </tr>\n",
       "    <tr>\n",
       "      <th>4839</th>\n",
       "      <td>Gantom Lighting</td>\n",
       "      <td>Manufacturing</td>\n",
       "      <td>0.4</td>\n",
       "      <td>-2.0</td>\n",
       "    </tr>\n",
       "    <tr>\n",
       "      <th>4979</th>\n",
       "      <td>Atlas Oil Company</td>\n",
       "      <td>Energy</td>\n",
       "      <td>1095.6</td>\n",
       "      <td>-73.0</td>\n",
       "    </tr>\n",
       "    <tr>\n",
       "      <th>5001</th>\n",
       "      <td>Smart Energy Today</td>\n",
       "      <td>Energy</td>\n",
       "      <td>16.9</td>\n",
       "      <td>-27.0</td>\n",
       "    </tr>\n",
       "  </tbody>\n",
       "</table>\n",
       "</div>"
      ],
      "text/plain": [
       "                                       name                      industry  \\\n",
       "361                               AdFicient       Advertising & Marketing   \n",
       "525                       Quantico Tactical           Government Services   \n",
       "1076                     Prime Therapeutics                        Health   \n",
       "1159                            WealthForge            Financial Services   \n",
       "1163                       Catalyst Outdoor       Advertising & Marketing   \n",
       "1602                                 Taulia                      Software   \n",
       "1671                         IT Authorities                 IT Management   \n",
       "1732                                 Zentra                        Retail   \n",
       "1741                     Worth Clark Realty                   Real Estate   \n",
       "1833                         Perfect Snacks               Food & Beverage   \n",
       "1973               Synapse Business Systems                 IT Management   \n",
       "2026                            CloudSmartz                 IT Management   \n",
       "2054                         Benton Roofing                  Construction   \n",
       "2715                                   NCWC       Advertising & Marketing   \n",
       "2759           Touchstone Merchandise Group  Consumer Products & Services   \n",
       "2955                  Buzz Franchise Brands  Consumer Products & Services   \n",
       "3180                    Systems Integration                 IT Management   \n",
       "3533                              Metronome           Government Services   \n",
       "3541                    49er Communications            Telecommunications   \n",
       "3573            Enhanced Veterans Solutions           Government Services   \n",
       "3579                                Coranet            Telecommunications   \n",
       "3611                                      5                        Energy   \n",
       "3622                          FNB Merchants            Financial Services   \n",
       "3627                                   Zefr       Advertising & Marketing   \n",
       "3799                          Cuddle Clones  Consumer Products & Services   \n",
       "3992                               Adapture                   IT Services   \n",
       "4059                              AEC Group                   IT Services   \n",
       "4136         First American Payment Systems            Financial Services   \n",
       "4146                         Creditsafe USA  Business Products & Services   \n",
       "4150                     Blueberry Builders                  Construction   \n",
       "4153                               Centrify                      Software   \n",
       "4167                             CommerceIQ                      Software   \n",
       "4187                    TapClassifieds Auto       Advertising & Marketing   \n",
       "4258                      SBS CyberSecurity            Financial Services   \n",
       "4265                        GMF Steel Group                  Construction   \n",
       "4270                     Integrity Services  Business Products & Services   \n",
       "4290                                 JazzHR                      Software   \n",
       "4367               Republic Bank of Chicago            Financial Services   \n",
       "4409                                 Akorbi  Business Products & Services   \n",
       "4433                       Momentum Telecom            Telecommunications   \n",
       "4533             Right Height Manufacturing                 Manufacturing   \n",
       "4540                              Myriad360                 IT Management   \n",
       "4567  IDS International Government Services           Government Services   \n",
       "4571                             Netsertive       Advertising & Marketing   \n",
       "4583                                  Ctems                 Manufacturing   \n",
       "4617                            TargetX.com       Advertising & Marketing   \n",
       "4656                         Secure Medical                        Health   \n",
       "4727             Leigh Marcus | @properties                   Real Estate   \n",
       "4839                        Gantom Lighting                 Manufacturing   \n",
       "4979                      Atlas Oil Company                        Energy   \n",
       "5001                     Smart Energy Today                        Energy   \n",
       "\n",
       "      revenue_difference  worker_difference  \n",
       "361                  3.8               -1.0  \n",
       "525                475.0              -43.0  \n",
       "1076             21385.5             -600.0  \n",
       "1159                13.3              -15.0  \n",
       "1163                13.6               -5.0  \n",
       "1602                39.9              -22.0  \n",
       "1671                 5.8              -10.0  \n",
       "1732                19.6               -6.0  \n",
       "1741                14.9               -2.0  \n",
       "1833                57.6              -16.0  \n",
       "1973                 0.3               -4.0  \n",
       "2026                10.6               -1.0  \n",
       "2054                19.1               -1.0  \n",
       "2715               193.1              -71.0  \n",
       "2759                39.6               -3.0  \n",
       "2955                12.5              -28.0  \n",
       "3180                21.0               -6.0  \n",
       "3533                15.0               -8.0  \n",
       "3541                 2.2               -2.0  \n",
       "3573                 6.0               -8.0  \n",
       "3579                79.6               -7.0  \n",
       "3611                 3.4               -3.0  \n",
       "3622                 6.1               -4.0  \n",
       "3627                60.5              -86.0  \n",
       "3799                 1.2               -1.0  \n",
       "3992                35.8               -2.0  \n",
       "4059                93.1               -4.0  \n",
       "4136               657.7             -243.0  \n",
       "4146                 8.4              -11.0  \n",
       "4150                 5.5               -8.0  \n",
       "4153               110.5             -127.0  \n",
       "4167                 6.6              -22.0  \n",
       "4187                 0.4               -5.0  \n",
       "4258                 6.9               -1.0  \n",
       "4265                 4.9               -4.0  \n",
       "4270                16.0             -150.0  \n",
       "4290                 3.5               -8.0  \n",
       "4367                97.3               -4.0  \n",
       "4409                34.3             -300.0  \n",
       "4433                93.3              -11.0  \n",
       "4533                 1.8               -3.0  \n",
       "4540               132.5               -3.0  \n",
       "4567                27.5             -682.0  \n",
       "4571                56.5              -54.0  \n",
       "4583                11.7              -80.0  \n",
       "4617                 6.0               -8.0  \n",
       "4656                13.3               -7.0  \n",
       "4727                 0.2               -3.0  \n",
       "4839                 0.4               -2.0  \n",
       "4979              1095.6              -73.0  \n",
       "5001                16.9              -27.0  "
      ]
     },
     "execution_count": 36,
     "metadata": {},
     "output_type": "execute_result"
    }
   ],
   "source": [
    "df['worker_difference'] = df['workers'] - df['previous_workers']\n",
    "df['revenue_difference'] = df['revenue_in_millions'] - df['revenue_in_millions'].shift(1)\n",
    "revenue_and_staff = df[(df['worker_difference'] < 0) & (df['revenue_difference'] > 0)][['name', 'industry', 'revenue_difference', 'worker_difference']]\n",
    "revenue_and_staff"
   ]
  },
  {
   "cell_type": "code",
   "execution_count": 37,
   "id": "5a365ad5",
   "metadata": {
    "execution": {
     "iopub.execute_input": "2024-01-30T11:04:09.867668Z",
     "iopub.status.busy": "2024-01-30T11:04:09.867257Z",
     "iopub.status.idle": "2024-01-30T11:04:10.114209Z",
     "shell.execute_reply": "2024-01-30T11:04:10.113325Z"
    },
    "papermill": {
     "duration": 0.282758,
     "end_time": "2024-01-30T11:04:10.116733",
     "exception": false,
     "start_time": "2024-01-30T11:04:09.833975",
     "status": "completed"
    },
    "tags": []
   },
   "outputs": [
    {
     "data": {
      "image/png": "[encoded data removed]",
      "text/plain": [
       "<Figure size 640x480 with 1 Axes>"
      ]
     },
     "metadata": {},
     "output_type": "display_data"
    }
   ],
   "source": [
    "#To show relationship between them we must show the scatter plot\n",
    "\n",
    "plt.scatter(df['worker_difference'], df['revenue_difference'])\n",
    "plt.xlabel('Change in Staff')\n",
    "plt.ylabel('Change in Revenue')\n",
    "plt.title('Relationship between Change in Staff and Change in Revenue')\n",
    "plt.show()"
   ]
  },
  {
   "cell_type": "code",
   "execution_count": 38,
   "id": "2d1e9727",
   "metadata": {
    "execution": {
     "iopub.execute_input": "2024-01-30T11:04:10.183956Z",
     "iopub.status.busy": "2024-01-30T11:04:10.183553Z",
     "iopub.status.idle": "2024-01-30T11:04:10.900697Z",
     "shell.execute_reply": "2024-01-30T11:04:10.899576Z"
    },
    "papermill": {
     "duration": 0.755147,
     "end_time": "2024-01-30T11:04:10.903789",
     "exception": false,
     "start_time": "2024-01-30T11:04:10.148642",
     "status": "completed"
    },
    "tags": []
   },
   "outputs": [
    {
     "data": {
      "image/png": "[encoded data removed]",
      "text/plain": [
       "<Figure size 1000x800 with 1 Axes>"
      ]
     },
     "metadata": {},
     "output_type": "display_data"
    }
   ],
   "source": [
    "#Showing relationship between increased revenue while reducing staff\n",
    "\n",
    "plt.figure(figsize=(10, 8))\n",
    "sns.scatterplot(data=revenue_and_staff, x='revenue_difference', y='worker_difference', hue='industry', s=100, alpha=0.7)\n",
    "plt.title('Companies that increased revenue while reducing staff')\n",
    "plt.xlabel('Revenue difference')\n",
    "plt.ylabel('Worker difference')\n",
    "plt.show()"
   ]
  },
  {
   "cell_type": "markdown",
   "id": "3431cbc4",
   "metadata": {
    "papermill": {
     "duration": 0.037045,
     "end_time": "2024-01-30T11:04:10.975560",
     "exception": false,
     "start_time": "2024-01-30T11:04:10.938515",
     "status": "completed"
    },
    "tags": []
   },
   "source": [
    "There are many companies which have increased their revenue while reducing staff. The industries of these companies include Advertising & Marketing, Financial Services, Software, Construction, and Telecommunications etc."
   ]
  },
  {
   "cell_type": "markdown",
   "id": "0a6f803e",
   "metadata": {
    "papermill": {
     "duration": 0.03291,
     "end_time": "2024-01-30T11:04:11.041772",
     "exception": false,
     "start_time": "2024-01-30T11:04:11.008862",
     "status": "completed"
    },
    "tags": []
   },
   "source": [
    "# 7. Top 1000 - Winner State"
   ]
  },
  {
   "cell_type": "code",
   "execution_count": 39,
   "id": "6f6cf37d",
   "metadata": {
    "execution": {
     "iopub.execute_input": "2024-01-30T11:04:11.110491Z",
     "iopub.status.busy": "2024-01-30T11:04:11.109734Z",
     "iopub.status.idle": "2024-01-30T11:04:11.119392Z",
     "shell.execute_reply": "2024-01-30T11:04:11.118443Z"
    },
    "papermill": {
     "duration": 0.046773,
     "end_time": "2024-01-30T11:04:11.121737",
     "exception": false,
     "start_time": "2024-01-30T11:04:11.074964",
     "status": "completed"
    },
    "tags": []
   },
   "outputs": [
    {
     "data": {
      "text/plain": [
       "state\n",
       "CA    712\n",
       "TX    467\n",
       "FL    384\n",
       "NY    300\n",
       "VA    288\n",
       "IL    241\n",
       "GA    219\n",
       "PA    172\n",
       "OH    160\n",
       "CO    156\n",
       "NC    135\n",
       "MA    133\n",
       "MD    130\n",
       "NJ    128\n",
       "UT    123\n",
       "AZ    104\n",
       "WA    101\n",
       "TN     84\n",
       "MI     82\n",
       "MN     81\n",
       "MO     75\n",
       "AL     64\n",
       "IN     63\n",
       "OR     59\n",
       "SC     56\n",
       "WI     49\n",
       "DC     43\n",
       "CT     37\n",
       "LA     37\n",
       "KY     34\n",
       "NV     33\n",
       "IA     31\n",
       "OK     28\n",
       "KS     27\n",
       "NE     27\n",
       "ID     21\n",
       "NH     20\n",
       "SD     14\n",
       "DE     11\n",
       "ME     11\n",
       "MT     11\n",
       "ND     10\n",
       "AR     10\n",
       "NM      7\n",
       "WV      7\n",
       "WY      6\n",
       "VT      5\n",
       "RI      5\n",
       "MS      4\n",
       "HI      4\n",
       "PR      2\n",
       "Name: count, dtype: int64"
      ]
     },
     "execution_count": 39,
     "metadata": {},
     "output_type": "execute_result"
    }
   ],
   "source": [
    "#To get top winner state list\n",
    "\n",
    "df['state'].value_counts().head(1000)"
   ]
  },
  {
   "cell_type": "markdown",
   "id": "b250a89c",
   "metadata": {
    "papermill": {
     "duration": 0.033412,
     "end_time": "2024-01-30T11:04:11.188473",
     "exception": false,
     "start_time": "2024-01-30T11:04:11.155061",
     "status": "completed"
    },
    "tags": []
   },
   "source": [
    "***The most frequent state appearing in the Top 1000 values of companies**"
   ]
  },
  {
   "cell_type": "code",
   "execution_count": 40,
   "id": "343a878c",
   "metadata": {
    "execution": {
     "iopub.execute_input": "2024-01-30T11:04:11.257823Z",
     "iopub.status.busy": "2024-01-30T11:04:11.257358Z",
     "iopub.status.idle": "2024-01-30T11:04:11.270618Z",
     "shell.execute_reply": "2024-01-30T11:04:11.269383Z"
    },
    "papermill": {
     "duration": 0.05128,
     "end_time": "2024-01-30T11:04:11.273034",
     "exception": false,
     "start_time": "2024-01-30T11:04:11.221754",
     "status": "completed"
    },
    "tags": []
   },
   "outputs": [
    {
     "data": {
      "text/plain": [
       "'CA'"
      ]
     },
     "execution_count": 40,
     "metadata": {},
     "output_type": "execute_result"
    }
   ],
   "source": [
    "df_sorted = df.sort_values(by='revenue_in_millions', ascending=False)\n",
    "top_1000_companies = df_sorted.head(1000)\n",
    "most_frequent_state = top_1000_companies['state'].mode()[0]\n",
    "most_frequent_state"
   ]
  },
  {
   "cell_type": "markdown",
   "id": "21418f88",
   "metadata": {
    "papermill": {
     "duration": 0.033593,
     "end_time": "2024-01-30T11:04:11.339910",
     "exception": false,
     "start_time": "2024-01-30T11:04:11.306317",
     "status": "completed"
    },
    "tags": []
   },
   "source": [
    "The most frequent state among the top 1000 companies based on revenue is - CA"
   ]
  },
  {
   "cell_type": "markdown",
   "id": "39f32217",
   "metadata": {
    "papermill": {
     "duration": 0.033736,
     "end_time": "2024-01-30T11:04:11.408609",
     "exception": false,
     "start_time": "2024-01-30T11:04:11.374873",
     "status": "completed"
    },
    "tags": []
   },
   "source": [
    "# 8. Do we have any company which was founded last year and Ranked under Top 100"
   ]
  },
  {
   "cell_type": "code",
   "execution_count": 41,
   "id": "2f4bc6f8",
   "metadata": {
    "execution": {
     "iopub.execute_input": "2024-01-30T11:04:11.480050Z",
     "iopub.status.busy": "2024-01-30T11:04:11.479321Z",
     "iopub.status.idle": "2024-01-30T11:04:11.484250Z",
     "shell.execute_reply": "2024-01-30T11:04:11.483140Z"
    },
    "papermill": {
     "duration": 0.043774,
     "end_time": "2024-01-30T11:04:11.486865",
     "exception": false,
     "start_time": "2024-01-30T11:04:11.443091",
     "status": "completed"
    },
    "tags": []
   },
   "outputs": [],
   "source": [
    "#First we have to get the current year\n",
    "\n",
    "current_year = dt.datetime.now().year"
   ]
  },
  {
   "cell_type": "code",
   "execution_count": 42,
   "id": "b9cb68a9",
   "metadata": {
    "execution": {
     "iopub.execute_input": "2024-01-30T11:04:11.556152Z",
     "iopub.status.busy": "2024-01-30T11:04:11.555725Z",
     "iopub.status.idle": "2024-01-30T11:04:11.570993Z",
     "shell.execute_reply": "2024-01-30T11:04:11.569794Z"
    },
    "papermill": {
     "duration": 0.053068,
     "end_time": "2024-01-30T11:04:11.573537",
     "exception": false,
     "start_time": "2024-01-30T11:04:11.520469",
     "status": "completed"
    },
    "tags": []
   },
   "outputs": [
    {
     "data": {
      "text/html": [
       "<div>\n",
       "<style scoped>\n",
       "    .dataframe tbody tr th:only-of-type {\n",
       "        vertical-align: middle;\n",
       "    }\n",
       "\n",
       "    .dataframe tbody tr th {\n",
       "        vertical-align: top;\n",
       "    }\n",
       "\n",
       "    .dataframe thead th {\n",
       "        text-align: right;\n",
       "    }\n",
       "</style>\n",
       "<table border=\"1\" class=\"dataframe\">\n",
       "  <thead>\n",
       "    <tr style=\"text-align: right;\">\n",
       "      <th></th>\n",
       "      <th>rank</th>\n",
       "      <th>name</th>\n",
       "      <th>state</th>\n",
       "      <th>revenue_in_millions</th>\n",
       "      <th>growth_%</th>\n",
       "      <th>industry</th>\n",
       "      <th>workers</th>\n",
       "      <th>previous_workers</th>\n",
       "      <th>founded</th>\n",
       "      <th>yrs_on_list</th>\n",
       "      <th>metro</th>\n",
       "      <th>city</th>\n",
       "      <th>new_hires</th>\n",
       "      <th>worker_difference</th>\n",
       "      <th>revenue_difference</th>\n",
       "    </tr>\n",
       "  </thead>\n",
       "  <tbody>\n",
       "  </tbody>\n",
       "</table>\n",
       "</div>"
      ],
      "text/plain": [
       "Empty DataFrame\n",
       "Columns: [rank, name, state, revenue_in_millions, growth_%, industry, workers, previous_workers, founded, yrs_on_list, metro, city, new_hires, worker_difference, revenue_difference]\n",
       "Index: []"
      ]
     },
     "execution_count": 42,
     "metadata": {},
     "output_type": "execute_result"
    }
   ],
   "source": [
    "#To filter out the companies which was founded last year (current year - 1) and ranked in the top 100\n",
    "\n",
    "filtered_companies = df[(df['founded'] == current_year - 1) & (df['rank'] <= 100)]\n",
    "filtered_companies "
   ]
  },
  {
   "cell_type": "markdown",
   "id": "b04026da",
   "metadata": {
    "papermill": {
     "duration": 0.033813,
     "end_time": "2024-01-30T11:04:11.641503",
     "exception": false,
     "start_time": "2024-01-30T11:04:11.607690",
     "status": "completed"
    },
    "tags": []
   },
   "source": [
    "Above df is empty, it means no such company found."
   ]
  },
  {
   "cell_type": "code",
   "execution_count": 43,
   "id": "8bf8dba9",
   "metadata": {
    "execution": {
     "iopub.execute_input": "2024-01-30T11:04:11.711028Z",
     "iopub.status.busy": "2024-01-30T11:04:11.710248Z",
     "iopub.status.idle": "2024-01-30T11:04:11.717594Z",
     "shell.execute_reply": "2024-01-30T11:04:11.716440Z"
    },
    "papermill": {
     "duration": 0.044652,
     "end_time": "2024-01-30T11:04:11.719816",
     "exception": false,
     "start_time": "2024-01-30T11:04:11.675164",
     "status": "completed"
    },
    "tags": []
   },
   "outputs": [
    {
     "name": "stdout",
     "output_type": "stream",
     "text": [
      "No companies founded last year and ranked in the top 100.\n"
     ]
    }
   ],
   "source": [
    "#Another way to check the result.\n",
    "\n",
    "if not filtered_companies.empty:\n",
    "    print(\"Companies founded last year and ranked in the top 100:\")\n",
    "    print(filtered_companies)\n",
    "else:\n",
    "    print(\"No companies founded last year and ranked in the top 100.\")"
   ]
  }
 ],
 "metadata": {
  "kaggle": {
   "accelerator": "none",
   "dataSources": [
    {
     "datasetId": 2194578,
     "sourceId": 3666209,
     "sourceType": "datasetVersion"
    }
   ],
   "dockerImageVersionId": 30646,
   "isGpuEnabled": false,
   "isInternetEnabled": true,
   "language": "python",
   "sourceType": "notebook"
  },
  "kernelspec": {
   "display_name": "Python 3",
   "language": "python",
   "name": "python3"
  },
  "language_info": {
   "codemirror_mode": {
    "name": "ipython",
    "version": 3
   },
   "file_extension": ".py",
   "mimetype": "text/x-python",
   "name": "python",
   "nbconvert_exporter": "python",
   "pygments_lexer": "ipython3",
   "version": "3.10.13"
  },
  "papermill": {
   "default_parameters": {},
   "duration": 18.412062,
   "end_time": "2024-01-30T11:04:12.574535",
   "environment_variables": {},
   "exception": null,
   "input_path": "__notebook__.ipynb",
   "output_path": "__notebook__.ipynb",
   "parameters": {},
   "start_time": "2024-01-30T11:03:54.162473",
   "version": "2.5.0"
  }
 },
 "nbformat": 4,
 "nbformat_minor": 5
}
