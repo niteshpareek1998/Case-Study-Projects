{
 "cells": [
  {
   "cell_type": "markdown",
   "id": "fa31443e",
   "metadata": {
    "papermill": {
     "duration": 0.014734,
     "end_time": "2024-01-27T19:35:42.185432",
     "exception": false,
     "start_time": "2024-01-27T19:35:42.170698",
     "status": "completed"
    },
    "tags": []
   },
   "source": [
    "# Goal of this Analysis\n",
    "\n",
    "**1. How many customers do we have each day? Are there any peak hours?**\n",
    "\n",
    "**2. How many pizzas are typically in order? Fo we have any bestsellers?**\n",
    "\n",
    "**3. How much money did we make this year? Can we identify any seasonality in the sales?**\n",
    "\n",
    "**4. Are there any pizzas we should take off the menu, or any promotions we could leverage?**"
   ]
  },
  {
   "cell_type": "code",
   "execution_count": 1,
   "id": "639695f0",
   "metadata": {
    "execution": {
     "iopub.execute_input": "2024-01-27T19:35:42.215454Z",
     "iopub.status.busy": "2024-01-27T19:35:42.214941Z",
     "iopub.status.idle": "2024-01-27T19:35:42.728515Z",
     "shell.execute_reply": "2024-01-27T19:35:42.727069Z"
    },
    "papermill": {
     "duration": 0.532823,
     "end_time": "2024-01-27T19:35:42.731958",
     "exception": false,
     "start_time": "2024-01-27T19:35:42.199135",
     "status": "completed"
    },
    "tags": []
   },
   "outputs": [],
   "source": [
    "#Importing useful and essentials libraries\n",
    "\n",
    "import pandas as pd\n",
    "import numpy as np\n",
    "import datetime as dt\n",
    "import matplotlib.pyplot as plt"
   ]
  },
  {
   "cell_type": "code",
   "execution_count": 2,
   "id": "31712fa8",
   "metadata": {
    "execution": {
     "iopub.execute_input": "2024-01-27T19:35:42.762920Z",
     "iopub.status.busy": "2024-01-27T19:35:42.762196Z",
     "iopub.status.idle": "2024-01-27T19:35:42.866813Z",
     "shell.execute_reply": "2024-01-27T19:35:42.865407Z"
    },
    "papermill": {
     "duration": 0.123634,
     "end_time": "2024-01-27T19:35:42.870057",
     "exception": false,
     "start_time": "2024-01-27T19:35:42.746423",
     "status": "completed"
    },
    "tags": []
   },
   "outputs": [
    {
     "data": {
      "text/html": [
       "<div>\n",
       "<style scoped>\n",
       "    .dataframe tbody tr th:only-of-type {\n",
       "        vertical-align: middle;\n",
       "    }\n",
       "\n",
       "    .dataframe tbody tr th {\n",
       "        vertical-align: top;\n",
       "    }\n",
       "\n",
       "    .dataframe thead th {\n",
       "        text-align: right;\n",
       "    }\n",
       "</style>\n",
       "<table border=\"1\" class=\"dataframe\">\n",
       "  <thead>\n",
       "    <tr style=\"text-align: right;\">\n",
       "      <th></th>\n",
       "      <th>order_details_id</th>\n",
       "      <th>order_id</th>\n",
       "      <th>pizza_id</th>\n",
       "      <th>quantity</th>\n",
       "    </tr>\n",
       "  </thead>\n",
       "  <tbody>\n",
       "    <tr>\n",
       "      <th>0</th>\n",
       "      <td>1</td>\n",
       "      <td>1</td>\n",
       "      <td>hawaiian_m</td>\n",
       "      <td>1</td>\n",
       "    </tr>\n",
       "    <tr>\n",
       "      <th>1</th>\n",
       "      <td>2</td>\n",
       "      <td>2</td>\n",
       "      <td>classic_dlx_m</td>\n",
       "      <td>1</td>\n",
       "    </tr>\n",
       "    <tr>\n",
       "      <th>2</th>\n",
       "      <td>3</td>\n",
       "      <td>2</td>\n",
       "      <td>five_cheese_l</td>\n",
       "      <td>1</td>\n",
       "    </tr>\n",
       "    <tr>\n",
       "      <th>3</th>\n",
       "      <td>4</td>\n",
       "      <td>2</td>\n",
       "      <td>ital_supr_l</td>\n",
       "      <td>1</td>\n",
       "    </tr>\n",
       "    <tr>\n",
       "      <th>4</th>\n",
       "      <td>5</td>\n",
       "      <td>2</td>\n",
       "      <td>mexicana_m</td>\n",
       "      <td>1</td>\n",
       "    </tr>\n",
       "    <tr>\n",
       "      <th>...</th>\n",
       "      <td>...</td>\n",
       "      <td>...</td>\n",
       "      <td>...</td>\n",
       "      <td>...</td>\n",
       "    </tr>\n",
       "    <tr>\n",
       "      <th>48615</th>\n",
       "      <td>48616</td>\n",
       "      <td>21348</td>\n",
       "      <td>ckn_alfredo_m</td>\n",
       "      <td>1</td>\n",
       "    </tr>\n",
       "    <tr>\n",
       "      <th>48616</th>\n",
       "      <td>48617</td>\n",
       "      <td>21348</td>\n",
       "      <td>four_cheese_l</td>\n",
       "      <td>1</td>\n",
       "    </tr>\n",
       "    <tr>\n",
       "      <th>48617</th>\n",
       "      <td>48618</td>\n",
       "      <td>21348</td>\n",
       "      <td>napolitana_s</td>\n",
       "      <td>1</td>\n",
       "    </tr>\n",
       "    <tr>\n",
       "      <th>48618</th>\n",
       "      <td>48619</td>\n",
       "      <td>21349</td>\n",
       "      <td>mexicana_l</td>\n",
       "      <td>1</td>\n",
       "    </tr>\n",
       "    <tr>\n",
       "      <th>48619</th>\n",
       "      <td>48620</td>\n",
       "      <td>21350</td>\n",
       "      <td>bbq_ckn_s</td>\n",
       "      <td>1</td>\n",
       "    </tr>\n",
       "  </tbody>\n",
       "</table>\n",
       "<p>48620 rows × 4 columns</p>\n",
       "</div>"
      ],
      "text/plain": [
       "       order_details_id  order_id       pizza_id  quantity\n",
       "0                     1         1     hawaiian_m         1\n",
       "1                     2         2  classic_dlx_m         1\n",
       "2                     3         2  five_cheese_l         1\n",
       "3                     4         2    ital_supr_l         1\n",
       "4                     5         2     mexicana_m         1\n",
       "...                 ...       ...            ...       ...\n",
       "48615             48616     21348  ckn_alfredo_m         1\n",
       "48616             48617     21348  four_cheese_l         1\n",
       "48617             48618     21348   napolitana_s         1\n",
       "48618             48619     21349     mexicana_l         1\n",
       "48619             48620     21350      bbq_ckn_s         1\n",
       "\n",
       "[48620 rows x 4 columns]"
      ]
     },
     "execution_count": 2,
     "metadata": {},
     "output_type": "execute_result"
    }
   ],
   "source": [
    "#Reading \"order detail\" file from dataset by using read_csv method\n",
    "\n",
    "df1 = pd.read_csv(\"/kaggle/input/pizza-place-sales/order_details.csv\")\n",
    "df1"
   ]
  },
  {
   "cell_type": "code",
   "execution_count": 3,
   "id": "bff486a9",
   "metadata": {
    "execution": {
     "iopub.execute_input": "2024-01-27T19:35:42.900949Z",
     "iopub.status.busy": "2024-01-27T19:35:42.900095Z",
     "iopub.status.idle": "2024-01-27T19:35:42.914109Z",
     "shell.execute_reply": "2024-01-27T19:35:42.912805Z"
    },
    "papermill": {
     "duration": 0.033203,
     "end_time": "2024-01-27T19:35:42.917193",
     "exception": false,
     "start_time": "2024-01-27T19:35:42.883990",
     "status": "completed"
    },
    "tags": []
   },
   "outputs": [
    {
     "data": {
      "text/html": [
       "<div>\n",
       "<style scoped>\n",
       "    .dataframe tbody tr th:only-of-type {\n",
       "        vertical-align: middle;\n",
       "    }\n",
       "\n",
       "    .dataframe tbody tr th {\n",
       "        vertical-align: top;\n",
       "    }\n",
       "\n",
       "    .dataframe thead th {\n",
       "        text-align: right;\n",
       "    }\n",
       "</style>\n",
       "<table border=\"1\" class=\"dataframe\">\n",
       "  <thead>\n",
       "    <tr style=\"text-align: right;\">\n",
       "      <th></th>\n",
       "      <th>order_details_id</th>\n",
       "      <th>order_id</th>\n",
       "      <th>pizza_id</th>\n",
       "      <th>quantity</th>\n",
       "    </tr>\n",
       "  </thead>\n",
       "  <tbody>\n",
       "    <tr>\n",
       "      <th>0</th>\n",
       "      <td>1</td>\n",
       "      <td>1</td>\n",
       "      <td>hawaiian_m</td>\n",
       "      <td>1</td>\n",
       "    </tr>\n",
       "    <tr>\n",
       "      <th>1</th>\n",
       "      <td>2</td>\n",
       "      <td>2</td>\n",
       "      <td>classic_dlx_m</td>\n",
       "      <td>1</td>\n",
       "    </tr>\n",
       "    <tr>\n",
       "      <th>2</th>\n",
       "      <td>3</td>\n",
       "      <td>2</td>\n",
       "      <td>five_cheese_l</td>\n",
       "      <td>1</td>\n",
       "    </tr>\n",
       "    <tr>\n",
       "      <th>3</th>\n",
       "      <td>4</td>\n",
       "      <td>2</td>\n",
       "      <td>ital_supr_l</td>\n",
       "      <td>1</td>\n",
       "    </tr>\n",
       "    <tr>\n",
       "      <th>4</th>\n",
       "      <td>5</td>\n",
       "      <td>2</td>\n",
       "      <td>mexicana_m</td>\n",
       "      <td>1</td>\n",
       "    </tr>\n",
       "  </tbody>\n",
       "</table>\n",
       "</div>"
      ],
      "text/plain": [
       "   order_details_id  order_id       pizza_id  quantity\n",
       "0                 1         1     hawaiian_m         1\n",
       "1                 2         2  classic_dlx_m         1\n",
       "2                 3         2  five_cheese_l         1\n",
       "3                 4         2    ital_supr_l         1\n",
       "4                 5         2     mexicana_m         1"
      ]
     },
     "execution_count": 3,
     "metadata": {},
     "output_type": "execute_result"
    }
   ],
   "source": [
    "#To read only top 5 records \n",
    "\n",
    "df1.head()"
   ]
  },
  {
   "cell_type": "code",
   "execution_count": 4,
   "id": "943dbd11",
   "metadata": {
    "execution": {
     "iopub.execute_input": "2024-01-27T19:35:42.949101Z",
     "iopub.status.busy": "2024-01-27T19:35:42.948630Z",
     "iopub.status.idle": "2024-01-27T19:35:42.982817Z",
     "shell.execute_reply": "2024-01-27T19:35:42.981782Z"
    },
    "papermill": {
     "duration": 0.053856,
     "end_time": "2024-01-27T19:35:42.985396",
     "exception": false,
     "start_time": "2024-01-27T19:35:42.931540",
     "status": "completed"
    },
    "tags": []
   },
   "outputs": [
    {
     "name": "stdout",
     "output_type": "stream",
     "text": [
      "<class 'pandas.core.frame.DataFrame'>\n",
      "RangeIndex: 48620 entries, 0 to 48619\n",
      "Data columns (total 4 columns):\n",
      " #   Column            Non-Null Count  Dtype \n",
      "---  ------            --------------  ----- \n",
      " 0   order_details_id  48620 non-null  int64 \n",
      " 1   order_id          48620 non-null  int64 \n",
      " 2   pizza_id          48620 non-null  object\n",
      " 3   quantity          48620 non-null  int64 \n",
      "dtypes: int64(3), object(1)\n",
      "memory usage: 1.5+ MB\n"
     ]
    }
   ],
   "source": [
    "#To get details of dataset (like datatype, column name, non - null count etc.)\n",
    "\n",
    "df1.info()"
   ]
  },
  {
   "cell_type": "code",
   "execution_count": 5,
   "id": "0ac90dcd",
   "metadata": {
    "execution": {
     "iopub.execute_input": "2024-01-27T19:35:43.018331Z",
     "iopub.status.busy": "2024-01-27T19:35:43.017551Z",
     "iopub.status.idle": "2024-01-27T19:35:43.043918Z",
     "shell.execute_reply": "2024-01-27T19:35:43.042874Z"
    },
    "papermill": {
     "duration": 0.046673,
     "end_time": "2024-01-27T19:35:43.046441",
     "exception": false,
     "start_time": "2024-01-27T19:35:42.999768",
     "status": "completed"
    },
    "tags": []
   },
   "outputs": [
    {
     "data": {
      "text/html": [
       "<div>\n",
       "<style scoped>\n",
       "    .dataframe tbody tr th:only-of-type {\n",
       "        vertical-align: middle;\n",
       "    }\n",
       "\n",
       "    .dataframe tbody tr th {\n",
       "        vertical-align: top;\n",
       "    }\n",
       "\n",
       "    .dataframe thead th {\n",
       "        text-align: right;\n",
       "    }\n",
       "</style>\n",
       "<table border=\"1\" class=\"dataframe\">\n",
       "  <thead>\n",
       "    <tr style=\"text-align: right;\">\n",
       "      <th></th>\n",
       "      <th>pizza_id</th>\n",
       "      <th>pizza_type_id</th>\n",
       "      <th>size</th>\n",
       "      <th>price</th>\n",
       "    </tr>\n",
       "  </thead>\n",
       "  <tbody>\n",
       "    <tr>\n",
       "      <th>0</th>\n",
       "      <td>bbq_ckn_s</td>\n",
       "      <td>bbq_ckn</td>\n",
       "      <td>S</td>\n",
       "      <td>12.75</td>\n",
       "    </tr>\n",
       "    <tr>\n",
       "      <th>1</th>\n",
       "      <td>bbq_ckn_m</td>\n",
       "      <td>bbq_ckn</td>\n",
       "      <td>M</td>\n",
       "      <td>16.75</td>\n",
       "    </tr>\n",
       "    <tr>\n",
       "      <th>2</th>\n",
       "      <td>bbq_ckn_l</td>\n",
       "      <td>bbq_ckn</td>\n",
       "      <td>L</td>\n",
       "      <td>20.75</td>\n",
       "    </tr>\n",
       "    <tr>\n",
       "      <th>3</th>\n",
       "      <td>cali_ckn_s</td>\n",
       "      <td>cali_ckn</td>\n",
       "      <td>S</td>\n",
       "      <td>12.75</td>\n",
       "    </tr>\n",
       "    <tr>\n",
       "      <th>4</th>\n",
       "      <td>cali_ckn_m</td>\n",
       "      <td>cali_ckn</td>\n",
       "      <td>M</td>\n",
       "      <td>16.75</td>\n",
       "    </tr>\n",
       "    <tr>\n",
       "      <th>...</th>\n",
       "      <td>...</td>\n",
       "      <td>...</td>\n",
       "      <td>...</td>\n",
       "      <td>...</td>\n",
       "    </tr>\n",
       "    <tr>\n",
       "      <th>91</th>\n",
       "      <td>spinach_fet_m</td>\n",
       "      <td>spinach_fet</td>\n",
       "      <td>M</td>\n",
       "      <td>16.00</td>\n",
       "    </tr>\n",
       "    <tr>\n",
       "      <th>92</th>\n",
       "      <td>spinach_fet_l</td>\n",
       "      <td>spinach_fet</td>\n",
       "      <td>L</td>\n",
       "      <td>20.25</td>\n",
       "    </tr>\n",
       "    <tr>\n",
       "      <th>93</th>\n",
       "      <td>veggie_veg_s</td>\n",
       "      <td>veggie_veg</td>\n",
       "      <td>S</td>\n",
       "      <td>12.00</td>\n",
       "    </tr>\n",
       "    <tr>\n",
       "      <th>94</th>\n",
       "      <td>veggie_veg_m</td>\n",
       "      <td>veggie_veg</td>\n",
       "      <td>M</td>\n",
       "      <td>16.00</td>\n",
       "    </tr>\n",
       "    <tr>\n",
       "      <th>95</th>\n",
       "      <td>veggie_veg_l</td>\n",
       "      <td>veggie_veg</td>\n",
       "      <td>L</td>\n",
       "      <td>20.25</td>\n",
       "    </tr>\n",
       "  </tbody>\n",
       "</table>\n",
       "<p>96 rows × 4 columns</p>\n",
       "</div>"
      ],
      "text/plain": [
       "         pizza_id pizza_type_id size  price\n",
       "0       bbq_ckn_s       bbq_ckn    S  12.75\n",
       "1       bbq_ckn_m       bbq_ckn    M  16.75\n",
       "2       bbq_ckn_l       bbq_ckn    L  20.75\n",
       "3      cali_ckn_s      cali_ckn    S  12.75\n",
       "4      cali_ckn_m      cali_ckn    M  16.75\n",
       "..            ...           ...  ...    ...\n",
       "91  spinach_fet_m   spinach_fet    M  16.00\n",
       "92  spinach_fet_l   spinach_fet    L  20.25\n",
       "93   veggie_veg_s    veggie_veg    S  12.00\n",
       "94   veggie_veg_m    veggie_veg    M  16.00\n",
       "95   veggie_veg_l    veggie_veg    L  20.25\n",
       "\n",
       "[96 rows x 4 columns]"
      ]
     },
     "execution_count": 5,
     "metadata": {},
     "output_type": "execute_result"
    }
   ],
   "source": [
    "#Reading another file name as \"pizzas\" from the same dataset\n",
    "\n",
    "df2 = pd.read_csv(\"/kaggle/input/pizza-place-sales/pizzas.csv\")\n",
    "df2"
   ]
  },
  {
   "cell_type": "code",
   "execution_count": 6,
   "id": "bad7b325",
   "metadata": {
    "execution": {
     "iopub.execute_input": "2024-01-27T19:35:43.078734Z",
     "iopub.status.busy": "2024-01-27T19:35:43.077921Z",
     "iopub.status.idle": "2024-01-27T19:35:43.090178Z",
     "shell.execute_reply": "2024-01-27T19:35:43.089195Z"
    },
    "papermill": {
     "duration": 0.031949,
     "end_time": "2024-01-27T19:35:43.092992",
     "exception": false,
     "start_time": "2024-01-27T19:35:43.061043",
     "status": "completed"
    },
    "tags": []
   },
   "outputs": [
    {
     "name": "stdout",
     "output_type": "stream",
     "text": [
      "<class 'pandas.core.frame.DataFrame'>\n",
      "RangeIndex: 96 entries, 0 to 95\n",
      "Data columns (total 4 columns):\n",
      " #   Column         Non-Null Count  Dtype  \n",
      "---  ------         --------------  -----  \n",
      " 0   pizza_id       96 non-null     object \n",
      " 1   pizza_type_id  96 non-null     object \n",
      " 2   size           96 non-null     object \n",
      " 3   price          96 non-null     float64\n",
      "dtypes: float64(1), object(3)\n",
      "memory usage: 3.1+ KB\n"
     ]
    }
   ],
   "source": [
    "#To get details of dataset (like datatype, column name, non - null count etc.)\n",
    "\n",
    "df2.info()"
   ]
  },
  {
   "cell_type": "code",
   "execution_count": 7,
   "id": "0f21aff1",
   "metadata": {
    "execution": {
     "iopub.execute_input": "2024-01-27T19:35:43.125353Z",
     "iopub.status.busy": "2024-01-27T19:35:43.124478Z",
     "iopub.status.idle": "2024-01-27T19:35:43.138130Z",
     "shell.execute_reply": "2024-01-27T19:35:43.136900Z"
    },
    "papermill": {
     "duration": 0.033264,
     "end_time": "2024-01-27T19:35:43.141050",
     "exception": false,
     "start_time": "2024-01-27T19:35:43.107786",
     "status": "completed"
    },
    "tags": []
   },
   "outputs": [
    {
     "data": {
      "text/html": [
       "<div>\n",
       "<style scoped>\n",
       "    .dataframe tbody tr th:only-of-type {\n",
       "        vertical-align: middle;\n",
       "    }\n",
       "\n",
       "    .dataframe tbody tr th {\n",
       "        vertical-align: top;\n",
       "    }\n",
       "\n",
       "    .dataframe thead th {\n",
       "        text-align: right;\n",
       "    }\n",
       "</style>\n",
       "<table border=\"1\" class=\"dataframe\">\n",
       "  <thead>\n",
       "    <tr style=\"text-align: right;\">\n",
       "      <th></th>\n",
       "      <th>pizza_id</th>\n",
       "      <th>pizza_type_id</th>\n",
       "      <th>size</th>\n",
       "      <th>price</th>\n",
       "    </tr>\n",
       "  </thead>\n",
       "  <tbody>\n",
       "    <tr>\n",
       "      <th>0</th>\n",
       "      <td>bbq_ckn_s</td>\n",
       "      <td>bbq_ckn</td>\n",
       "      <td>S</td>\n",
       "      <td>12.75</td>\n",
       "    </tr>\n",
       "    <tr>\n",
       "      <th>1</th>\n",
       "      <td>bbq_ckn_m</td>\n",
       "      <td>bbq_ckn</td>\n",
       "      <td>M</td>\n",
       "      <td>16.75</td>\n",
       "    </tr>\n",
       "    <tr>\n",
       "      <th>2</th>\n",
       "      <td>bbq_ckn_l</td>\n",
       "      <td>bbq_ckn</td>\n",
       "      <td>L</td>\n",
       "      <td>20.75</td>\n",
       "    </tr>\n",
       "    <tr>\n",
       "      <th>3</th>\n",
       "      <td>cali_ckn_s</td>\n",
       "      <td>cali_ckn</td>\n",
       "      <td>S</td>\n",
       "      <td>12.75</td>\n",
       "    </tr>\n",
       "    <tr>\n",
       "      <th>4</th>\n",
       "      <td>cali_ckn_m</td>\n",
       "      <td>cali_ckn</td>\n",
       "      <td>M</td>\n",
       "      <td>16.75</td>\n",
       "    </tr>\n",
       "  </tbody>\n",
       "</table>\n",
       "</div>"
      ],
      "text/plain": [
       "     pizza_id pizza_type_id size  price\n",
       "0   bbq_ckn_s       bbq_ckn    S  12.75\n",
       "1   bbq_ckn_m       bbq_ckn    M  16.75\n",
       "2   bbq_ckn_l       bbq_ckn    L  20.75\n",
       "3  cali_ckn_s      cali_ckn    S  12.75\n",
       "4  cali_ckn_m      cali_ckn    M  16.75"
      ]
     },
     "execution_count": 7,
     "metadata": {},
     "output_type": "execute_result"
    }
   ],
   "source": [
    "#To read only top 5 records \n",
    "\n",
    "df2.head()"
   ]
  },
  {
   "cell_type": "code",
   "execution_count": 8,
   "id": "413a7009",
   "metadata": {
    "execution": {
     "iopub.execute_input": "2024-01-27T19:35:43.174244Z",
     "iopub.status.busy": "2024-01-27T19:35:43.173481Z",
     "iopub.status.idle": "2024-01-27T19:35:43.201037Z",
     "shell.execute_reply": "2024-01-27T19:35:43.199986Z"
    },
    "papermill": {
     "duration": 0.047585,
     "end_time": "2024-01-27T19:35:43.204163",
     "exception": false,
     "start_time": "2024-01-27T19:35:43.156578",
     "status": "completed"
    },
    "tags": []
   },
   "outputs": [
    {
     "data": {
      "text/html": [
       "<div>\n",
       "<style scoped>\n",
       "    .dataframe tbody tr th:only-of-type {\n",
       "        vertical-align: middle;\n",
       "    }\n",
       "\n",
       "    .dataframe tbody tr th {\n",
       "        vertical-align: top;\n",
       "    }\n",
       "\n",
       "    .dataframe thead th {\n",
       "        text-align: right;\n",
       "    }\n",
       "</style>\n",
       "<table border=\"1\" class=\"dataframe\">\n",
       "  <thead>\n",
       "    <tr style=\"text-align: right;\">\n",
       "      <th></th>\n",
       "      <th>pizza_type_id</th>\n",
       "      <th>name</th>\n",
       "      <th>category</th>\n",
       "      <th>ingredients</th>\n",
       "    </tr>\n",
       "  </thead>\n",
       "  <tbody>\n",
       "    <tr>\n",
       "      <th>0</th>\n",
       "      <td>bbq_ckn</td>\n",
       "      <td>The Barbecue Chicken Pizza</td>\n",
       "      <td>Chicken</td>\n",
       "      <td>Barbecued Chicken, Red Peppers, Green Peppers,...</td>\n",
       "    </tr>\n",
       "    <tr>\n",
       "      <th>1</th>\n",
       "      <td>cali_ckn</td>\n",
       "      <td>The California Chicken Pizza</td>\n",
       "      <td>Chicken</td>\n",
       "      <td>Chicken, Artichoke, Spinach, Garlic, Jalapeno ...</td>\n",
       "    </tr>\n",
       "    <tr>\n",
       "      <th>2</th>\n",
       "      <td>ckn_alfredo</td>\n",
       "      <td>The Chicken Alfredo Pizza</td>\n",
       "      <td>Chicken</td>\n",
       "      <td>Chicken, Red Onions, Red Peppers, Mushrooms, A...</td>\n",
       "    </tr>\n",
       "    <tr>\n",
       "      <th>3</th>\n",
       "      <td>ckn_pesto</td>\n",
       "      <td>The Chicken Pesto Pizza</td>\n",
       "      <td>Chicken</td>\n",
       "      <td>Chicken, Tomatoes, Red Peppers, Spinach, Garli...</td>\n",
       "    </tr>\n",
       "    <tr>\n",
       "      <th>4</th>\n",
       "      <td>southw_ckn</td>\n",
       "      <td>The Southwest Chicken Pizza</td>\n",
       "      <td>Chicken</td>\n",
       "      <td>Chicken, Tomatoes, Red Peppers, Red Onions, Ja...</td>\n",
       "    </tr>\n",
       "    <tr>\n",
       "      <th>5</th>\n",
       "      <td>thai_ckn</td>\n",
       "      <td>The Thai Chicken Pizza</td>\n",
       "      <td>Chicken</td>\n",
       "      <td>Chicken, Pineapple, Tomatoes, Red Peppers, Tha...</td>\n",
       "    </tr>\n",
       "    <tr>\n",
       "      <th>6</th>\n",
       "      <td>big_meat</td>\n",
       "      <td>The Big Meat Pizza</td>\n",
       "      <td>Classic</td>\n",
       "      <td>Bacon, Pepperoni, Italian Sausage, Chorizo Sau...</td>\n",
       "    </tr>\n",
       "    <tr>\n",
       "      <th>7</th>\n",
       "      <td>classic_dlx</td>\n",
       "      <td>The Classic Deluxe Pizza</td>\n",
       "      <td>Classic</td>\n",
       "      <td>Pepperoni, Mushrooms, Red Onions, Red Peppers,...</td>\n",
       "    </tr>\n",
       "    <tr>\n",
       "      <th>8</th>\n",
       "      <td>hawaiian</td>\n",
       "      <td>The Hawaiian Pizza</td>\n",
       "      <td>Classic</td>\n",
       "      <td>Sliced Ham, Pineapple, Mozzarella Cheese</td>\n",
       "    </tr>\n",
       "    <tr>\n",
       "      <th>9</th>\n",
       "      <td>ital_cpcllo</td>\n",
       "      <td>The Italian Capocollo Pizza</td>\n",
       "      <td>Classic</td>\n",
       "      <td>Capocollo, Red Peppers, Tomatoes, Goat Cheese,...</td>\n",
       "    </tr>\n",
       "    <tr>\n",
       "      <th>10</th>\n",
       "      <td>napolitana</td>\n",
       "      <td>The Napolitana Pizza</td>\n",
       "      <td>Classic</td>\n",
       "      <td>Tomatoes, Anchovies, Green Olives, Red Onions,...</td>\n",
       "    </tr>\n",
       "    <tr>\n",
       "      <th>11</th>\n",
       "      <td>pep_msh_pep</td>\n",
       "      <td>The Pepperoni, Mushroom, and Peppers Pizza</td>\n",
       "      <td>Classic</td>\n",
       "      <td>Pepperoni, Mushrooms, Green Peppers</td>\n",
       "    </tr>\n",
       "    <tr>\n",
       "      <th>12</th>\n",
       "      <td>pepperoni</td>\n",
       "      <td>The Pepperoni Pizza</td>\n",
       "      <td>Classic</td>\n",
       "      <td>Mozzarella Cheese, Pepperoni</td>\n",
       "    </tr>\n",
       "    <tr>\n",
       "      <th>13</th>\n",
       "      <td>the_greek</td>\n",
       "      <td>The Greek Pizza</td>\n",
       "      <td>Classic</td>\n",
       "      <td>Kalamata Olives, Feta Cheese, Tomatoes, Garlic...</td>\n",
       "    </tr>\n",
       "    <tr>\n",
       "      <th>14</th>\n",
       "      <td>brie_carre</td>\n",
       "      <td>The Brie Carre Pizza</td>\n",
       "      <td>Supreme</td>\n",
       "      <td>Brie Carre Cheese, Prosciutto, Caramelized Oni...</td>\n",
       "    </tr>\n",
       "    <tr>\n",
       "      <th>15</th>\n",
       "      <td>calabrese</td>\n",
       "      <td>The Calabrese Pizza</td>\n",
       "      <td>Supreme</td>\n",
       "      <td>Nduja Salami, Pancetta, Tomatoes, Red Onions,...</td>\n",
       "    </tr>\n",
       "    <tr>\n",
       "      <th>16</th>\n",
       "      <td>ital_supr</td>\n",
       "      <td>The Italian Supreme Pizza</td>\n",
       "      <td>Supreme</td>\n",
       "      <td>Calabrese Salami, Capocollo, Tomatoes, Red Oni...</td>\n",
       "    </tr>\n",
       "    <tr>\n",
       "      <th>17</th>\n",
       "      <td>peppr_salami</td>\n",
       "      <td>The Pepper Salami Pizza</td>\n",
       "      <td>Supreme</td>\n",
       "      <td>Genoa Salami, Capocollo, Pepperoni, Tomatoes, ...</td>\n",
       "    </tr>\n",
       "    <tr>\n",
       "      <th>18</th>\n",
       "      <td>prsc_argla</td>\n",
       "      <td>The Prosciutto and Arugula Pizza</td>\n",
       "      <td>Supreme</td>\n",
       "      <td>Prosciutto di San Daniele, Arugula, Mozzarella...</td>\n",
       "    </tr>\n",
       "    <tr>\n",
       "      <th>19</th>\n",
       "      <td>sicilian</td>\n",
       "      <td>The Sicilian Pizza</td>\n",
       "      <td>Supreme</td>\n",
       "      <td>Coarse Sicilian Salami, Tomatoes, Green Olives...</td>\n",
       "    </tr>\n",
       "    <tr>\n",
       "      <th>20</th>\n",
       "      <td>soppressata</td>\n",
       "      <td>The Soppressata Pizza</td>\n",
       "      <td>Supreme</td>\n",
       "      <td>Soppressata Salami, Fontina Cheese, Mozzarella...</td>\n",
       "    </tr>\n",
       "    <tr>\n",
       "      <th>21</th>\n",
       "      <td>spicy_ital</td>\n",
       "      <td>The Spicy Italian Pizza</td>\n",
       "      <td>Supreme</td>\n",
       "      <td>Capocollo, Tomatoes, Goat Cheese, Artichokes, ...</td>\n",
       "    </tr>\n",
       "    <tr>\n",
       "      <th>22</th>\n",
       "      <td>spinach_supr</td>\n",
       "      <td>The Spinach Supreme Pizza</td>\n",
       "      <td>Supreme</td>\n",
       "      <td>Spinach, Red Onions, Pepperoni, Tomatoes, Arti...</td>\n",
       "    </tr>\n",
       "    <tr>\n",
       "      <th>23</th>\n",
       "      <td>five_cheese</td>\n",
       "      <td>The Five Cheese Pizza</td>\n",
       "      <td>Veggie</td>\n",
       "      <td>Mozzarella Cheese, Provolone Cheese, Smoked Go...</td>\n",
       "    </tr>\n",
       "    <tr>\n",
       "      <th>24</th>\n",
       "      <td>four_cheese</td>\n",
       "      <td>The Four Cheese Pizza</td>\n",
       "      <td>Veggie</td>\n",
       "      <td>Ricotta Cheese, Gorgonzola Piccante Cheese, Mo...</td>\n",
       "    </tr>\n",
       "    <tr>\n",
       "      <th>25</th>\n",
       "      <td>green_garden</td>\n",
       "      <td>The Green Garden Pizza</td>\n",
       "      <td>Veggie</td>\n",
       "      <td>Spinach, Mushrooms, Tomatoes, Green Olives, Fe...</td>\n",
       "    </tr>\n",
       "    <tr>\n",
       "      <th>26</th>\n",
       "      <td>ital_veggie</td>\n",
       "      <td>The Italian Vegetables Pizza</td>\n",
       "      <td>Veggie</td>\n",
       "      <td>Eggplant, Artichokes, Tomatoes, Zucchini, Red ...</td>\n",
       "    </tr>\n",
       "    <tr>\n",
       "      <th>27</th>\n",
       "      <td>mediterraneo</td>\n",
       "      <td>The Mediterranean Pizza</td>\n",
       "      <td>Veggie</td>\n",
       "      <td>Spinach, Artichokes, Kalamata Olives, Sun-drie...</td>\n",
       "    </tr>\n",
       "    <tr>\n",
       "      <th>28</th>\n",
       "      <td>mexicana</td>\n",
       "      <td>The Mexicana Pizza</td>\n",
       "      <td>Veggie</td>\n",
       "      <td>Tomatoes, Red Peppers, Jalapeno Peppers, Red O...</td>\n",
       "    </tr>\n",
       "    <tr>\n",
       "      <th>29</th>\n",
       "      <td>spin_pesto</td>\n",
       "      <td>The Spinach Pesto Pizza</td>\n",
       "      <td>Veggie</td>\n",
       "      <td>Spinach, Artichokes, Tomatoes, Sun-dried Tomat...</td>\n",
       "    </tr>\n",
       "    <tr>\n",
       "      <th>30</th>\n",
       "      <td>spinach_fet</td>\n",
       "      <td>The Spinach and Feta Pizza</td>\n",
       "      <td>Veggie</td>\n",
       "      <td>Spinach, Mushrooms, Red Onions, Feta Cheese, G...</td>\n",
       "    </tr>\n",
       "    <tr>\n",
       "      <th>31</th>\n",
       "      <td>veggie_veg</td>\n",
       "      <td>The Vegetables + Vegetables Pizza</td>\n",
       "      <td>Veggie</td>\n",
       "      <td>Mushrooms, Tomatoes, Red Peppers, Green Pepper...</td>\n",
       "    </tr>\n",
       "  </tbody>\n",
       "</table>\n",
       "</div>"
      ],
      "text/plain": [
       "   pizza_type_id                                        name category  \\\n",
       "0        bbq_ckn                  The Barbecue Chicken Pizza  Chicken   \n",
       "1       cali_ckn                The California Chicken Pizza  Chicken   \n",
       "2    ckn_alfredo                   The Chicken Alfredo Pizza  Chicken   \n",
       "3      ckn_pesto                     The Chicken Pesto Pizza  Chicken   \n",
       "4     southw_ckn                 The Southwest Chicken Pizza  Chicken   \n",
       "5       thai_ckn                      The Thai Chicken Pizza  Chicken   \n",
       "6       big_meat                          The Big Meat Pizza  Classic   \n",
       "7    classic_dlx                    The Classic Deluxe Pizza  Classic   \n",
       "8       hawaiian                          The Hawaiian Pizza  Classic   \n",
       "9    ital_cpcllo                 The Italian Capocollo Pizza  Classic   \n",
       "10    napolitana                        The Napolitana Pizza  Classic   \n",
       "11   pep_msh_pep  The Pepperoni, Mushroom, and Peppers Pizza  Classic   \n",
       "12     pepperoni                         The Pepperoni Pizza  Classic   \n",
       "13     the_greek                             The Greek Pizza  Classic   \n",
       "14    brie_carre                        The Brie Carre Pizza  Supreme   \n",
       "15     calabrese                         The Calabrese Pizza  Supreme   \n",
       "16     ital_supr                   The Italian Supreme Pizza  Supreme   \n",
       "17  peppr_salami                     The Pepper Salami Pizza  Supreme   \n",
       "18    prsc_argla            The Prosciutto and Arugula Pizza  Supreme   \n",
       "19      sicilian                          The Sicilian Pizza  Supreme   \n",
       "20   soppressata                       The Soppressata Pizza  Supreme   \n",
       "21    spicy_ital                     The Spicy Italian Pizza  Supreme   \n",
       "22  spinach_supr                   The Spinach Supreme Pizza  Supreme   \n",
       "23   five_cheese                       The Five Cheese Pizza   Veggie   \n",
       "24   four_cheese                       The Four Cheese Pizza   Veggie   \n",
       "25  green_garden                      The Green Garden Pizza   Veggie   \n",
       "26   ital_veggie                The Italian Vegetables Pizza   Veggie   \n",
       "27  mediterraneo                     The Mediterranean Pizza   Veggie   \n",
       "28      mexicana                          The Mexicana Pizza   Veggie   \n",
       "29    spin_pesto                     The Spinach Pesto Pizza   Veggie   \n",
       "30   spinach_fet                  The Spinach and Feta Pizza   Veggie   \n",
       "31    veggie_veg           The Vegetables + Vegetables Pizza   Veggie   \n",
       "\n",
       "                                          ingredients  \n",
       "0   Barbecued Chicken, Red Peppers, Green Peppers,...  \n",
       "1   Chicken, Artichoke, Spinach, Garlic, Jalapeno ...  \n",
       "2   Chicken, Red Onions, Red Peppers, Mushrooms, A...  \n",
       "3   Chicken, Tomatoes, Red Peppers, Spinach, Garli...  \n",
       "4   Chicken, Tomatoes, Red Peppers, Red Onions, Ja...  \n",
       "5   Chicken, Pineapple, Tomatoes, Red Peppers, Tha...  \n",
       "6   Bacon, Pepperoni, Italian Sausage, Chorizo Sau...  \n",
       "7   Pepperoni, Mushrooms, Red Onions, Red Peppers,...  \n",
       "8            Sliced Ham, Pineapple, Mozzarella Cheese  \n",
       "9   Capocollo, Red Peppers, Tomatoes, Goat Cheese,...  \n",
       "10  Tomatoes, Anchovies, Green Olives, Red Onions,...  \n",
       "11                Pepperoni, Mushrooms, Green Peppers  \n",
       "12                       Mozzarella Cheese, Pepperoni  \n",
       "13  Kalamata Olives, Feta Cheese, Tomatoes, Garlic...  \n",
       "14  Brie Carre Cheese, Prosciutto, Caramelized Oni...  \n",
       "15  Nduja Salami, Pancetta, Tomatoes, Red Onions,...  \n",
       "16  Calabrese Salami, Capocollo, Tomatoes, Red Oni...  \n",
       "17  Genoa Salami, Capocollo, Pepperoni, Tomatoes, ...  \n",
       "18  Prosciutto di San Daniele, Arugula, Mozzarella...  \n",
       "19  Coarse Sicilian Salami, Tomatoes, Green Olives...  \n",
       "20  Soppressata Salami, Fontina Cheese, Mozzarella...  \n",
       "21  Capocollo, Tomatoes, Goat Cheese, Artichokes, ...  \n",
       "22  Spinach, Red Onions, Pepperoni, Tomatoes, Arti...  \n",
       "23  Mozzarella Cheese, Provolone Cheese, Smoked Go...  \n",
       "24  Ricotta Cheese, Gorgonzola Piccante Cheese, Mo...  \n",
       "25  Spinach, Mushrooms, Tomatoes, Green Olives, Fe...  \n",
       "26  Eggplant, Artichokes, Tomatoes, Zucchini, Red ...  \n",
       "27  Spinach, Artichokes, Kalamata Olives, Sun-drie...  \n",
       "28  Tomatoes, Red Peppers, Jalapeno Peppers, Red O...  \n",
       "29  Spinach, Artichokes, Tomatoes, Sun-dried Tomat...  \n",
       "30  Spinach, Mushrooms, Red Onions, Feta Cheese, G...  \n",
       "31  Mushrooms, Tomatoes, Red Peppers, Green Pepper...  "
      ]
     },
     "execution_count": 8,
     "metadata": {},
     "output_type": "execute_result"
    }
   ],
   "source": [
    "#Reading 3rd file \"pizza types\" from dataset by using same method\n",
    "\n",
    "df3 = pd.read_csv(\"/kaggle/input/pizza-place-sales/pizza_types.csv\", encoding='unicode_escape')\n",
    "df3"
   ]
  },
  {
   "cell_type": "code",
   "execution_count": 9,
   "id": "e4619249",
   "metadata": {
    "execution": {
     "iopub.execute_input": "2024-01-27T19:35:43.238908Z",
     "iopub.status.busy": "2024-01-27T19:35:43.238122Z",
     "iopub.status.idle": "2024-01-27T19:35:43.250871Z",
     "shell.execute_reply": "2024-01-27T19:35:43.249275Z"
    },
    "papermill": {
     "duration": 0.033469,
     "end_time": "2024-01-27T19:35:43.253955",
     "exception": false,
     "start_time": "2024-01-27T19:35:43.220486",
     "status": "completed"
    },
    "tags": []
   },
   "outputs": [
    {
     "name": "stdout",
     "output_type": "stream",
     "text": [
      "<class 'pandas.core.frame.DataFrame'>\n",
      "RangeIndex: 32 entries, 0 to 31\n",
      "Data columns (total 4 columns):\n",
      " #   Column         Non-Null Count  Dtype \n",
      "---  ------         --------------  ----- \n",
      " 0   pizza_type_id  32 non-null     object\n",
      " 1   name           32 non-null     object\n",
      " 2   category       32 non-null     object\n",
      " 3   ingredients    32 non-null     object\n",
      "dtypes: object(4)\n",
      "memory usage: 1.1+ KB\n"
     ]
    }
   ],
   "source": [
    "#To get details of dataset (like datatype, column name, non - null count etc.)\n",
    "\n",
    "df3.info()"
   ]
  },
  {
   "cell_type": "code",
   "execution_count": 10,
   "id": "cc043722",
   "metadata": {
    "execution": {
     "iopub.execute_input": "2024-01-27T19:35:43.288126Z",
     "iopub.status.busy": "2024-01-27T19:35:43.287644Z",
     "iopub.status.idle": "2024-01-27T19:35:43.299788Z",
     "shell.execute_reply": "2024-01-27T19:35:43.298875Z"
    },
    "papermill": {
     "duration": 0.033352,
     "end_time": "2024-01-27T19:35:43.303002",
     "exception": false,
     "start_time": "2024-01-27T19:35:43.269650",
     "status": "completed"
    },
    "tags": []
   },
   "outputs": [
    {
     "data": {
      "text/html": [
       "<div>\n",
       "<style scoped>\n",
       "    .dataframe tbody tr th:only-of-type {\n",
       "        vertical-align: middle;\n",
       "    }\n",
       "\n",
       "    .dataframe tbody tr th {\n",
       "        vertical-align: top;\n",
       "    }\n",
       "\n",
       "    .dataframe thead th {\n",
       "        text-align: right;\n",
       "    }\n",
       "</style>\n",
       "<table border=\"1\" class=\"dataframe\">\n",
       "  <thead>\n",
       "    <tr style=\"text-align: right;\">\n",
       "      <th></th>\n",
       "      <th>pizza_type_id</th>\n",
       "      <th>name</th>\n",
       "      <th>category</th>\n",
       "      <th>ingredients</th>\n",
       "    </tr>\n",
       "  </thead>\n",
       "  <tbody>\n",
       "    <tr>\n",
       "      <th>0</th>\n",
       "      <td>bbq_ckn</td>\n",
       "      <td>The Barbecue Chicken Pizza</td>\n",
       "      <td>Chicken</td>\n",
       "      <td>Barbecued Chicken, Red Peppers, Green Peppers,...</td>\n",
       "    </tr>\n",
       "    <tr>\n",
       "      <th>1</th>\n",
       "      <td>cali_ckn</td>\n",
       "      <td>The California Chicken Pizza</td>\n",
       "      <td>Chicken</td>\n",
       "      <td>Chicken, Artichoke, Spinach, Garlic, Jalapeno ...</td>\n",
       "    </tr>\n",
       "    <tr>\n",
       "      <th>2</th>\n",
       "      <td>ckn_alfredo</td>\n",
       "      <td>The Chicken Alfredo Pizza</td>\n",
       "      <td>Chicken</td>\n",
       "      <td>Chicken, Red Onions, Red Peppers, Mushrooms, A...</td>\n",
       "    </tr>\n",
       "    <tr>\n",
       "      <th>3</th>\n",
       "      <td>ckn_pesto</td>\n",
       "      <td>The Chicken Pesto Pizza</td>\n",
       "      <td>Chicken</td>\n",
       "      <td>Chicken, Tomatoes, Red Peppers, Spinach, Garli...</td>\n",
       "    </tr>\n",
       "    <tr>\n",
       "      <th>4</th>\n",
       "      <td>southw_ckn</td>\n",
       "      <td>The Southwest Chicken Pizza</td>\n",
       "      <td>Chicken</td>\n",
       "      <td>Chicken, Tomatoes, Red Peppers, Red Onions, Ja...</td>\n",
       "    </tr>\n",
       "  </tbody>\n",
       "</table>\n",
       "</div>"
      ],
      "text/plain": [
       "  pizza_type_id                          name category  \\\n",
       "0       bbq_ckn    The Barbecue Chicken Pizza  Chicken   \n",
       "1      cali_ckn  The California Chicken Pizza  Chicken   \n",
       "2   ckn_alfredo     The Chicken Alfredo Pizza  Chicken   \n",
       "3     ckn_pesto       The Chicken Pesto Pizza  Chicken   \n",
       "4    southw_ckn   The Southwest Chicken Pizza  Chicken   \n",
       "\n",
       "                                         ingredients  \n",
       "0  Barbecued Chicken, Red Peppers, Green Peppers,...  \n",
       "1  Chicken, Artichoke, Spinach, Garlic, Jalapeno ...  \n",
       "2  Chicken, Red Onions, Red Peppers, Mushrooms, A...  \n",
       "3  Chicken, Tomatoes, Red Peppers, Spinach, Garli...  \n",
       "4  Chicken, Tomatoes, Red Peppers, Red Onions, Ja...  "
      ]
     },
     "execution_count": 10,
     "metadata": {},
     "output_type": "execute_result"
    }
   ],
   "source": [
    "#To read only top 5 records \n",
    "\n",
    "df3.head()"
   ]
  },
  {
   "cell_type": "code",
   "execution_count": 11,
   "id": "a6831ff3",
   "metadata": {
    "execution": {
     "iopub.execute_input": "2024-01-27T19:35:43.337229Z",
     "iopub.status.busy": "2024-01-27T19:35:43.336462Z",
     "iopub.status.idle": "2024-01-27T19:35:43.386188Z",
     "shell.execute_reply": "2024-01-27T19:35:43.385169Z"
    },
    "papermill": {
     "duration": 0.069911,
     "end_time": "2024-01-27T19:35:43.388746",
     "exception": false,
     "start_time": "2024-01-27T19:35:43.318835",
     "status": "completed"
    },
    "tags": []
   },
   "outputs": [
    {
     "data": {
      "text/html": [
       "<div>\n",
       "<style scoped>\n",
       "    .dataframe tbody tr th:only-of-type {\n",
       "        vertical-align: middle;\n",
       "    }\n",
       "\n",
       "    .dataframe tbody tr th {\n",
       "        vertical-align: top;\n",
       "    }\n",
       "\n",
       "    .dataframe thead th {\n",
       "        text-align: right;\n",
       "    }\n",
       "</style>\n",
       "<table border=\"1\" class=\"dataframe\">\n",
       "  <thead>\n",
       "    <tr style=\"text-align: right;\">\n",
       "      <th></th>\n",
       "      <th>order_id</th>\n",
       "      <th>date</th>\n",
       "      <th>time</th>\n",
       "    </tr>\n",
       "  </thead>\n",
       "  <tbody>\n",
       "    <tr>\n",
       "      <th>0</th>\n",
       "      <td>1</td>\n",
       "      <td>2015-01-01</td>\n",
       "      <td>11:38:36</td>\n",
       "    </tr>\n",
       "    <tr>\n",
       "      <th>1</th>\n",
       "      <td>2</td>\n",
       "      <td>2015-01-01</td>\n",
       "      <td>11:57:40</td>\n",
       "    </tr>\n",
       "    <tr>\n",
       "      <th>2</th>\n",
       "      <td>3</td>\n",
       "      <td>2015-01-01</td>\n",
       "      <td>12:12:28</td>\n",
       "    </tr>\n",
       "    <tr>\n",
       "      <th>3</th>\n",
       "      <td>4</td>\n",
       "      <td>2015-01-01</td>\n",
       "      <td>12:16:31</td>\n",
       "    </tr>\n",
       "    <tr>\n",
       "      <th>4</th>\n",
       "      <td>5</td>\n",
       "      <td>2015-01-01</td>\n",
       "      <td>12:21:30</td>\n",
       "    </tr>\n",
       "    <tr>\n",
       "      <th>...</th>\n",
       "      <td>...</td>\n",
       "      <td>...</td>\n",
       "      <td>...</td>\n",
       "    </tr>\n",
       "    <tr>\n",
       "      <th>21345</th>\n",
       "      <td>21346</td>\n",
       "      <td>2015-12-31</td>\n",
       "      <td>20:51:07</td>\n",
       "    </tr>\n",
       "    <tr>\n",
       "      <th>21346</th>\n",
       "      <td>21347</td>\n",
       "      <td>2015-12-31</td>\n",
       "      <td>21:14:37</td>\n",
       "    </tr>\n",
       "    <tr>\n",
       "      <th>21347</th>\n",
       "      <td>21348</td>\n",
       "      <td>2015-12-31</td>\n",
       "      <td>21:23:10</td>\n",
       "    </tr>\n",
       "    <tr>\n",
       "      <th>21348</th>\n",
       "      <td>21349</td>\n",
       "      <td>2015-12-31</td>\n",
       "      <td>22:09:54</td>\n",
       "    </tr>\n",
       "    <tr>\n",
       "      <th>21349</th>\n",
       "      <td>21350</td>\n",
       "      <td>2015-12-31</td>\n",
       "      <td>23:02:05</td>\n",
       "    </tr>\n",
       "  </tbody>\n",
       "</table>\n",
       "<p>21350 rows × 3 columns</p>\n",
       "</div>"
      ],
      "text/plain": [
       "       order_id        date      time\n",
       "0             1  2015-01-01  11:38:36\n",
       "1             2  2015-01-01  11:57:40\n",
       "2             3  2015-01-01  12:12:28\n",
       "3             4  2015-01-01  12:16:31\n",
       "4             5  2015-01-01  12:21:30\n",
       "...         ...         ...       ...\n",
       "21345     21346  2015-12-31  20:51:07\n",
       "21346     21347  2015-12-31  21:14:37\n",
       "21347     21348  2015-12-31  21:23:10\n",
       "21348     21349  2015-12-31  22:09:54\n",
       "21349     21350  2015-12-31  23:02:05\n",
       "\n",
       "[21350 rows x 3 columns]"
      ]
     },
     "execution_count": 11,
     "metadata": {},
     "output_type": "execute_result"
    }
   ],
   "source": [
    "#Reading \"orders\" file from the same dataset by using same method\n",
    "\n",
    "df4 = pd.read_csv(\"/kaggle/input/pizza-place-sales/orders.csv\")\n",
    "df4"
   ]
  },
  {
   "cell_type": "code",
   "execution_count": 12,
   "id": "9449574f",
   "metadata": {
    "execution": {
     "iopub.execute_input": "2024-01-27T19:35:43.424886Z",
     "iopub.status.busy": "2024-01-27T19:35:43.424370Z",
     "iopub.status.idle": "2024-01-27T19:35:43.497333Z",
     "shell.execute_reply": "2024-01-27T19:35:43.494580Z"
    },
    "papermill": {
     "duration": 0.0951,
     "end_time": "2024-01-27T19:35:43.500721",
     "exception": false,
     "start_time": "2024-01-27T19:35:43.405621",
     "status": "completed"
    },
    "tags": []
   },
   "outputs": [
    {
     "data": {
      "text/html": [
       "<div>\n",
       "<style scoped>\n",
       "    .dataframe tbody tr th:only-of-type {\n",
       "        vertical-align: middle;\n",
       "    }\n",
       "\n",
       "    .dataframe tbody tr th {\n",
       "        vertical-align: top;\n",
       "    }\n",
       "\n",
       "    .dataframe thead th {\n",
       "        text-align: right;\n",
       "    }\n",
       "</style>\n",
       "<table border=\"1\" class=\"dataframe\">\n",
       "  <thead>\n",
       "    <tr style=\"text-align: right;\">\n",
       "      <th></th>\n",
       "      <th>order_details_id_x</th>\n",
       "      <th>order_id</th>\n",
       "      <th>pizza_id_x</th>\n",
       "      <th>quantity_x</th>\n",
       "      <th>order_details_id_y</th>\n",
       "      <th>pizza_id_y</th>\n",
       "      <th>quantity_y</th>\n",
       "    </tr>\n",
       "  </thead>\n",
       "  <tbody>\n",
       "    <tr>\n",
       "      <th>0</th>\n",
       "      <td>1</td>\n",
       "      <td>1</td>\n",
       "      <td>hawaiian_m</td>\n",
       "      <td>1</td>\n",
       "      <td>1</td>\n",
       "      <td>hawaiian_m</td>\n",
       "      <td>1</td>\n",
       "    </tr>\n",
       "    <tr>\n",
       "      <th>1</th>\n",
       "      <td>2</td>\n",
       "      <td>2</td>\n",
       "      <td>classic_dlx_m</td>\n",
       "      <td>1</td>\n",
       "      <td>2</td>\n",
       "      <td>classic_dlx_m</td>\n",
       "      <td>1</td>\n",
       "    </tr>\n",
       "    <tr>\n",
       "      <th>2</th>\n",
       "      <td>2</td>\n",
       "      <td>2</td>\n",
       "      <td>classic_dlx_m</td>\n",
       "      <td>1</td>\n",
       "      <td>3</td>\n",
       "      <td>five_cheese_l</td>\n",
       "      <td>1</td>\n",
       "    </tr>\n",
       "    <tr>\n",
       "      <th>3</th>\n",
       "      <td>2</td>\n",
       "      <td>2</td>\n",
       "      <td>classic_dlx_m</td>\n",
       "      <td>1</td>\n",
       "      <td>4</td>\n",
       "      <td>ital_supr_l</td>\n",
       "      <td>1</td>\n",
       "    </tr>\n",
       "    <tr>\n",
       "      <th>4</th>\n",
       "      <td>2</td>\n",
       "      <td>2</td>\n",
       "      <td>classic_dlx_m</td>\n",
       "      <td>1</td>\n",
       "      <td>5</td>\n",
       "      <td>mexicana_m</td>\n",
       "      <td>1</td>\n",
       "    </tr>\n",
       "  </tbody>\n",
       "</table>\n",
       "</div>"
      ],
      "text/plain": [
       "   order_details_id_x  order_id     pizza_id_x  quantity_x  \\\n",
       "0                   1         1     hawaiian_m           1   \n",
       "1                   2         2  classic_dlx_m           1   \n",
       "2                   2         2  classic_dlx_m           1   \n",
       "3                   2         2  classic_dlx_m           1   \n",
       "4                   2         2  classic_dlx_m           1   \n",
       "\n",
       "   order_details_id_y     pizza_id_y  quantity_y  \n",
       "0                   1     hawaiian_m           1  \n",
       "1                   2  classic_dlx_m           1  \n",
       "2                   3  five_cheese_l           1  \n",
       "3                   4    ital_supr_l           1  \n",
       "4                   5     mexicana_m           1  "
      ]
     },
     "execution_count": 12,
     "metadata": {},
     "output_type": "execute_result"
    }
   ],
   "source": [
    "#Combining order details and orders dataframe \n",
    "#Then using head just to see only top 5 records \n",
    "\n",
    "combine_df1 = df1.merge(df1, how = 'inner', on = ['order_id'])\n",
    "combine_df1.head()"
   ]
  },
  {
   "cell_type": "code",
   "execution_count": 13,
   "id": "7b4d135c",
   "metadata": {
    "execution": {
     "iopub.execute_input": "2024-01-27T19:35:43.538003Z",
     "iopub.status.busy": "2024-01-27T19:35:43.537336Z",
     "iopub.status.idle": "2024-01-27T19:35:43.591415Z",
     "shell.execute_reply": "2024-01-27T19:35:43.590066Z"
    },
    "papermill": {
     "duration": 0.076071,
     "end_time": "2024-01-27T19:35:43.594037",
     "exception": false,
     "start_time": "2024-01-27T19:35:43.517966",
     "status": "completed"
    },
    "tags": []
   },
   "outputs": [
    {
     "name": "stdout",
     "output_type": "stream",
     "text": [
      "<class 'pandas.core.frame.DataFrame'>\n",
      "RangeIndex: 172836 entries, 0 to 172835\n",
      "Data columns (total 7 columns):\n",
      " #   Column              Non-Null Count   Dtype \n",
      "---  ------              --------------   ----- \n",
      " 0   order_details_id_x  172836 non-null  int64 \n",
      " 1   order_id            172836 non-null  int64 \n",
      " 2   pizza_id_x          172836 non-null  object\n",
      " 3   quantity_x          172836 non-null  int64 \n",
      " 4   order_details_id_y  172836 non-null  int64 \n",
      " 5   pizza_id_y          172836 non-null  object\n",
      " 6   quantity_y          172836 non-null  int64 \n",
      "dtypes: int64(5), object(2)\n",
      "memory usage: 9.2+ MB\n"
     ]
    }
   ],
   "source": [
    "#Getting info of combine_df\n",
    "\n",
    "combine_df1.info()"
   ]
  },
  {
   "cell_type": "code",
   "execution_count": 14,
   "id": "d9ce8a0b",
   "metadata": {
    "execution": {
     "iopub.execute_input": "2024-01-27T19:35:43.731402Z",
     "iopub.status.busy": "2024-01-27T19:35:43.730336Z",
     "iopub.status.idle": "2024-01-27T19:35:43.759399Z",
     "shell.execute_reply": "2024-01-27T19:35:43.758051Z"
    },
    "papermill": {
     "duration": 0.051987,
     "end_time": "2024-01-27T19:35:43.762415",
     "exception": false,
     "start_time": "2024-01-27T19:35:43.710428",
     "status": "completed"
    },
    "tags": []
   },
   "outputs": [
    {
     "data": {
      "text/html": [
       "<div>\n",
       "<style scoped>\n",
       "    .dataframe tbody tr th:only-of-type {\n",
       "        vertical-align: middle;\n",
       "    }\n",
       "\n",
       "    .dataframe tbody tr th {\n",
       "        vertical-align: top;\n",
       "    }\n",
       "\n",
       "    .dataframe thead th {\n",
       "        text-align: right;\n",
       "    }\n",
       "</style>\n",
       "<table border=\"1\" class=\"dataframe\">\n",
       "  <thead>\n",
       "    <tr style=\"text-align: right;\">\n",
       "      <th></th>\n",
       "      <th>pizza_id</th>\n",
       "      <th>pizza_type_id</th>\n",
       "      <th>size</th>\n",
       "      <th>price</th>\n",
       "      <th>name</th>\n",
       "      <th>category</th>\n",
       "      <th>ingredients</th>\n",
       "    </tr>\n",
       "  </thead>\n",
       "  <tbody>\n",
       "    <tr>\n",
       "      <th>0</th>\n",
       "      <td>bbq_ckn_s</td>\n",
       "      <td>bbq_ckn</td>\n",
       "      <td>S</td>\n",
       "      <td>12.75</td>\n",
       "      <td>The Barbecue Chicken Pizza</td>\n",
       "      <td>Chicken</td>\n",
       "      <td>Barbecued Chicken, Red Peppers, Green Peppers,...</td>\n",
       "    </tr>\n",
       "    <tr>\n",
       "      <th>1</th>\n",
       "      <td>bbq_ckn_m</td>\n",
       "      <td>bbq_ckn</td>\n",
       "      <td>M</td>\n",
       "      <td>16.75</td>\n",
       "      <td>The Barbecue Chicken Pizza</td>\n",
       "      <td>Chicken</td>\n",
       "      <td>Barbecued Chicken, Red Peppers, Green Peppers,...</td>\n",
       "    </tr>\n",
       "    <tr>\n",
       "      <th>2</th>\n",
       "      <td>bbq_ckn_l</td>\n",
       "      <td>bbq_ckn</td>\n",
       "      <td>L</td>\n",
       "      <td>20.75</td>\n",
       "      <td>The Barbecue Chicken Pizza</td>\n",
       "      <td>Chicken</td>\n",
       "      <td>Barbecued Chicken, Red Peppers, Green Peppers,...</td>\n",
       "    </tr>\n",
       "    <tr>\n",
       "      <th>3</th>\n",
       "      <td>cali_ckn_s</td>\n",
       "      <td>cali_ckn</td>\n",
       "      <td>S</td>\n",
       "      <td>12.75</td>\n",
       "      <td>The California Chicken Pizza</td>\n",
       "      <td>Chicken</td>\n",
       "      <td>Chicken, Artichoke, Spinach, Garlic, Jalapeno ...</td>\n",
       "    </tr>\n",
       "    <tr>\n",
       "      <th>4</th>\n",
       "      <td>cali_ckn_m</td>\n",
       "      <td>cali_ckn</td>\n",
       "      <td>M</td>\n",
       "      <td>16.75</td>\n",
       "      <td>The California Chicken Pizza</td>\n",
       "      <td>Chicken</td>\n",
       "      <td>Chicken, Artichoke, Spinach, Garlic, Jalapeno ...</td>\n",
       "    </tr>\n",
       "    <tr>\n",
       "      <th>...</th>\n",
       "      <td>...</td>\n",
       "      <td>...</td>\n",
       "      <td>...</td>\n",
       "      <td>...</td>\n",
       "      <td>...</td>\n",
       "      <td>...</td>\n",
       "      <td>...</td>\n",
       "    </tr>\n",
       "    <tr>\n",
       "      <th>91</th>\n",
       "      <td>spinach_fet_m</td>\n",
       "      <td>spinach_fet</td>\n",
       "      <td>M</td>\n",
       "      <td>16.00</td>\n",
       "      <td>The Spinach and Feta Pizza</td>\n",
       "      <td>Veggie</td>\n",
       "      <td>Spinach, Mushrooms, Red Onions, Feta Cheese, G...</td>\n",
       "    </tr>\n",
       "    <tr>\n",
       "      <th>92</th>\n",
       "      <td>spinach_fet_l</td>\n",
       "      <td>spinach_fet</td>\n",
       "      <td>L</td>\n",
       "      <td>20.25</td>\n",
       "      <td>The Spinach and Feta Pizza</td>\n",
       "      <td>Veggie</td>\n",
       "      <td>Spinach, Mushrooms, Red Onions, Feta Cheese, G...</td>\n",
       "    </tr>\n",
       "    <tr>\n",
       "      <th>93</th>\n",
       "      <td>veggie_veg_s</td>\n",
       "      <td>veggie_veg</td>\n",
       "      <td>S</td>\n",
       "      <td>12.00</td>\n",
       "      <td>The Vegetables + Vegetables Pizza</td>\n",
       "      <td>Veggie</td>\n",
       "      <td>Mushrooms, Tomatoes, Red Peppers, Green Pepper...</td>\n",
       "    </tr>\n",
       "    <tr>\n",
       "      <th>94</th>\n",
       "      <td>veggie_veg_m</td>\n",
       "      <td>veggie_veg</td>\n",
       "      <td>M</td>\n",
       "      <td>16.00</td>\n",
       "      <td>The Vegetables + Vegetables Pizza</td>\n",
       "      <td>Veggie</td>\n",
       "      <td>Mushrooms, Tomatoes, Red Peppers, Green Pepper...</td>\n",
       "    </tr>\n",
       "    <tr>\n",
       "      <th>95</th>\n",
       "      <td>veggie_veg_l</td>\n",
       "      <td>veggie_veg</td>\n",
       "      <td>L</td>\n",
       "      <td>20.25</td>\n",
       "      <td>The Vegetables + Vegetables Pizza</td>\n",
       "      <td>Veggie</td>\n",
       "      <td>Mushrooms, Tomatoes, Red Peppers, Green Pepper...</td>\n",
       "    </tr>\n",
       "  </tbody>\n",
       "</table>\n",
       "<p>96 rows × 7 columns</p>\n",
       "</div>"
      ],
      "text/plain": [
       "         pizza_id pizza_type_id size  price  \\\n",
       "0       bbq_ckn_s       bbq_ckn    S  12.75   \n",
       "1       bbq_ckn_m       bbq_ckn    M  16.75   \n",
       "2       bbq_ckn_l       bbq_ckn    L  20.75   \n",
       "3      cali_ckn_s      cali_ckn    S  12.75   \n",
       "4      cali_ckn_m      cali_ckn    M  16.75   \n",
       "..            ...           ...  ...    ...   \n",
       "91  spinach_fet_m   spinach_fet    M  16.00   \n",
       "92  spinach_fet_l   spinach_fet    L  20.25   \n",
       "93   veggie_veg_s    veggie_veg    S  12.00   \n",
       "94   veggie_veg_m    veggie_veg    M  16.00   \n",
       "95   veggie_veg_l    veggie_veg    L  20.25   \n",
       "\n",
       "                                 name category  \\\n",
       "0          The Barbecue Chicken Pizza  Chicken   \n",
       "1          The Barbecue Chicken Pizza  Chicken   \n",
       "2          The Barbecue Chicken Pizza  Chicken   \n",
       "3        The California Chicken Pizza  Chicken   \n",
       "4        The California Chicken Pizza  Chicken   \n",
       "..                                ...      ...   \n",
       "91         The Spinach and Feta Pizza   Veggie   \n",
       "92         The Spinach and Feta Pizza   Veggie   \n",
       "93  The Vegetables + Vegetables Pizza   Veggie   \n",
       "94  The Vegetables + Vegetables Pizza   Veggie   \n",
       "95  The Vegetables + Vegetables Pizza   Veggie   \n",
       "\n",
       "                                          ingredients  \n",
       "0   Barbecued Chicken, Red Peppers, Green Peppers,...  \n",
       "1   Barbecued Chicken, Red Peppers, Green Peppers,...  \n",
       "2   Barbecued Chicken, Red Peppers, Green Peppers,...  \n",
       "3   Chicken, Artichoke, Spinach, Garlic, Jalapeno ...  \n",
       "4   Chicken, Artichoke, Spinach, Garlic, Jalapeno ...  \n",
       "..                                                ...  \n",
       "91  Spinach, Mushrooms, Red Onions, Feta Cheese, G...  \n",
       "92  Spinach, Mushrooms, Red Onions, Feta Cheese, G...  \n",
       "93  Mushrooms, Tomatoes, Red Peppers, Green Pepper...  \n",
       "94  Mushrooms, Tomatoes, Red Peppers, Green Pepper...  \n",
       "95  Mushrooms, Tomatoes, Red Peppers, Green Pepper...  \n",
       "\n",
       "[96 rows x 7 columns]"
      ]
     },
     "execution_count": 14,
     "metadata": {},
     "output_type": "execute_result"
    }
   ],
   "source": [
    "#Creating combine_df2; combining df2 and df3\n",
    "\n",
    "combine_df2 = df2.merge(df3, how = \"inner\", on = [\"pizza_type_id\"])\n",
    "combine_df2"
   ]
  },
  {
   "cell_type": "code",
   "execution_count": 15,
   "id": "d9539535",
   "metadata": {
    "execution": {
     "iopub.execute_input": "2024-01-27T19:35:43.802070Z",
     "iopub.status.busy": "2024-01-27T19:35:43.801109Z",
     "iopub.status.idle": "2024-01-27T19:35:43.816836Z",
     "shell.execute_reply": "2024-01-27T19:35:43.815385Z"
    },
    "papermill": {
     "duration": 0.038946,
     "end_time": "2024-01-27T19:35:43.820102",
     "exception": false,
     "start_time": "2024-01-27T19:35:43.781156",
     "status": "completed"
    },
    "tags": []
   },
   "outputs": [
    {
     "name": "stdout",
     "output_type": "stream",
     "text": [
      "<class 'pandas.core.frame.DataFrame'>\n",
      "RangeIndex: 96 entries, 0 to 95\n",
      "Data columns (total 7 columns):\n",
      " #   Column         Non-Null Count  Dtype  \n",
      "---  ------         --------------  -----  \n",
      " 0   pizza_id       96 non-null     object \n",
      " 1   pizza_type_id  96 non-null     object \n",
      " 2   size           96 non-null     object \n",
      " 3   price          96 non-null     float64\n",
      " 4   name           96 non-null     object \n",
      " 5   category       96 non-null     object \n",
      " 6   ingredients    96 non-null     object \n",
      "dtypes: float64(1), object(6)\n",
      "memory usage: 5.4+ KB\n"
     ]
    }
   ],
   "source": [
    "#To get info \n",
    "\n",
    "combine_df2.info()"
   ]
  },
  {
   "cell_type": "code",
   "execution_count": 16,
   "id": "ddcbb1aa",
   "metadata": {
    "execution": {
     "iopub.execute_input": "2024-01-27T19:35:43.859023Z",
     "iopub.status.busy": "2024-01-27T19:35:43.857569Z",
     "iopub.status.idle": "2024-01-27T19:35:43.900157Z",
     "shell.execute_reply": "2024-01-27T19:35:43.898810Z"
    },
    "papermill": {
     "duration": 0.065374,
     "end_time": "2024-01-27T19:35:43.903367",
     "exception": false,
     "start_time": "2024-01-27T19:35:43.837993",
     "status": "completed"
    },
    "tags": []
   },
   "outputs": [
    {
     "data": {
      "text/html": [
       "<div>\n",
       "<style scoped>\n",
       "    .dataframe tbody tr th:only-of-type {\n",
       "        vertical-align: middle;\n",
       "    }\n",
       "\n",
       "    .dataframe tbody tr th {\n",
       "        vertical-align: top;\n",
       "    }\n",
       "\n",
       "    .dataframe thead th {\n",
       "        text-align: right;\n",
       "    }\n",
       "</style>\n",
       "<table border=\"1\" class=\"dataframe\">\n",
       "  <thead>\n",
       "    <tr style=\"text-align: right;\">\n",
       "      <th></th>\n",
       "      <th>order_details_id</th>\n",
       "      <th>order_id</th>\n",
       "      <th>pizza_id</th>\n",
       "      <th>quantity</th>\n",
       "      <th>pizza_type_id</th>\n",
       "      <th>size</th>\n",
       "      <th>price</th>\n",
       "    </tr>\n",
       "  </thead>\n",
       "  <tbody>\n",
       "    <tr>\n",
       "      <th>0</th>\n",
       "      <td>1</td>\n",
       "      <td>1</td>\n",
       "      <td>hawaiian_m</td>\n",
       "      <td>1</td>\n",
       "      <td>hawaiian</td>\n",
       "      <td>M</td>\n",
       "      <td>13.25</td>\n",
       "    </tr>\n",
       "    <tr>\n",
       "      <th>1</th>\n",
       "      <td>179</td>\n",
       "      <td>77</td>\n",
       "      <td>hawaiian_m</td>\n",
       "      <td>1</td>\n",
       "      <td>hawaiian</td>\n",
       "      <td>M</td>\n",
       "      <td>13.25</td>\n",
       "    </tr>\n",
       "    <tr>\n",
       "      <th>2</th>\n",
       "      <td>357</td>\n",
       "      <td>146</td>\n",
       "      <td>hawaiian_m</td>\n",
       "      <td>1</td>\n",
       "      <td>hawaiian</td>\n",
       "      <td>M</td>\n",
       "      <td>13.25</td>\n",
       "    </tr>\n",
       "    <tr>\n",
       "      <th>3</th>\n",
       "      <td>389</td>\n",
       "      <td>163</td>\n",
       "      <td>hawaiian_m</td>\n",
       "      <td>1</td>\n",
       "      <td>hawaiian</td>\n",
       "      <td>M</td>\n",
       "      <td>13.25</td>\n",
       "    </tr>\n",
       "    <tr>\n",
       "      <th>4</th>\n",
       "      <td>568</td>\n",
       "      <td>247</td>\n",
       "      <td>hawaiian_m</td>\n",
       "      <td>1</td>\n",
       "      <td>hawaiian</td>\n",
       "      <td>M</td>\n",
       "      <td>13.25</td>\n",
       "    </tr>\n",
       "    <tr>\n",
       "      <th>...</th>\n",
       "      <td>...</td>\n",
       "      <td>...</td>\n",
       "      <td>...</td>\n",
       "      <td>...</td>\n",
       "      <td>...</td>\n",
       "      <td>...</td>\n",
       "      <td>...</td>\n",
       "    </tr>\n",
       "    <tr>\n",
       "      <th>48615</th>\n",
       "      <td>39733</td>\n",
       "      <td>17492</td>\n",
       "      <td>the_greek_xxl</td>\n",
       "      <td>1</td>\n",
       "      <td>the_greek</td>\n",
       "      <td>XXL</td>\n",
       "      <td>35.95</td>\n",
       "    </tr>\n",
       "    <tr>\n",
       "      <th>48616</th>\n",
       "      <td>41183</td>\n",
       "      <td>18139</td>\n",
       "      <td>the_greek_xxl</td>\n",
       "      <td>1</td>\n",
       "      <td>the_greek</td>\n",
       "      <td>XXL</td>\n",
       "      <td>35.95</td>\n",
       "    </tr>\n",
       "    <tr>\n",
       "      <th>48617</th>\n",
       "      <td>42718</td>\n",
       "      <td>18789</td>\n",
       "      <td>the_greek_xxl</td>\n",
       "      <td>1</td>\n",
       "      <td>the_greek</td>\n",
       "      <td>XXL</td>\n",
       "      <td>35.95</td>\n",
       "    </tr>\n",
       "    <tr>\n",
       "      <th>48618</th>\n",
       "      <td>43041</td>\n",
       "      <td>18919</td>\n",
       "      <td>the_greek_xxl</td>\n",
       "      <td>1</td>\n",
       "      <td>the_greek</td>\n",
       "      <td>XXL</td>\n",
       "      <td>35.95</td>\n",
       "    </tr>\n",
       "    <tr>\n",
       "      <th>48619</th>\n",
       "      <td>47490</td>\n",
       "      <td>20866</td>\n",
       "      <td>the_greek_xxl</td>\n",
       "      <td>1</td>\n",
       "      <td>the_greek</td>\n",
       "      <td>XXL</td>\n",
       "      <td>35.95</td>\n",
       "    </tr>\n",
       "  </tbody>\n",
       "</table>\n",
       "<p>48620 rows × 7 columns</p>\n",
       "</div>"
      ],
      "text/plain": [
       "       order_details_id  order_id       pizza_id  quantity pizza_type_id size  \\\n",
       "0                     1         1     hawaiian_m         1      hawaiian    M   \n",
       "1                   179        77     hawaiian_m         1      hawaiian    M   \n",
       "2                   357       146     hawaiian_m         1      hawaiian    M   \n",
       "3                   389       163     hawaiian_m         1      hawaiian    M   \n",
       "4                   568       247     hawaiian_m         1      hawaiian    M   \n",
       "...                 ...       ...            ...       ...           ...  ...   \n",
       "48615             39733     17492  the_greek_xxl         1     the_greek  XXL   \n",
       "48616             41183     18139  the_greek_xxl         1     the_greek  XXL   \n",
       "48617             42718     18789  the_greek_xxl         1     the_greek  XXL   \n",
       "48618             43041     18919  the_greek_xxl         1     the_greek  XXL   \n",
       "48619             47490     20866  the_greek_xxl         1     the_greek  XXL   \n",
       "\n",
       "       price  \n",
       "0      13.25  \n",
       "1      13.25  \n",
       "2      13.25  \n",
       "3      13.25  \n",
       "4      13.25  \n",
       "...      ...  \n",
       "48615  35.95  \n",
       "48616  35.95  \n",
       "48617  35.95  \n",
       "48618  35.95  \n",
       "48619  35.95  \n",
       "\n",
       "[48620 rows x 7 columns]"
      ]
     },
     "execution_count": 16,
     "metadata": {},
     "output_type": "execute_result"
    }
   ],
   "source": [
    "#Creating combine_df3; combining df1 and df2\n",
    "\n",
    "combine_df3 = df1.merge(df2, how = \"inner\", on = [\"pizza_id\"])\n",
    "combine_df3  "
   ]
  },
  {
   "cell_type": "code",
   "execution_count": 17,
   "id": "9e266141",
   "metadata": {
    "execution": {
     "iopub.execute_input": "2024-01-27T19:35:43.941781Z",
     "iopub.status.busy": "2024-01-27T19:35:43.940918Z",
     "iopub.status.idle": "2024-01-27T19:35:43.972349Z",
     "shell.execute_reply": "2024-01-27T19:35:43.971068Z"
    },
    "papermill": {
     "duration": 0.053881,
     "end_time": "2024-01-27T19:35:43.975322",
     "exception": false,
     "start_time": "2024-01-27T19:35:43.921441",
     "status": "completed"
    },
    "tags": []
   },
   "outputs": [
    {
     "name": "stdout",
     "output_type": "stream",
     "text": [
      "<class 'pandas.core.frame.DataFrame'>\n",
      "RangeIndex: 48620 entries, 0 to 48619\n",
      "Data columns (total 7 columns):\n",
      " #   Column            Non-Null Count  Dtype  \n",
      "---  ------            --------------  -----  \n",
      " 0   order_details_id  48620 non-null  int64  \n",
      " 1   order_id          48620 non-null  int64  \n",
      " 2   pizza_id          48620 non-null  object \n",
      " 3   quantity          48620 non-null  int64  \n",
      " 4   pizza_type_id     48620 non-null  object \n",
      " 5   size              48620 non-null  object \n",
      " 6   price             48620 non-null  float64\n",
      "dtypes: float64(1), int64(3), object(3)\n",
      "memory usage: 2.6+ MB\n"
     ]
    }
   ],
   "source": [
    "#To get info \n",
    "\n",
    "combine_df3.info()"
   ]
  },
  {
   "cell_type": "code",
   "execution_count": 18,
   "id": "ecac4422",
   "metadata": {
    "execution": {
     "iopub.execute_input": "2024-01-27T19:35:44.016526Z",
     "iopub.status.busy": "2024-01-27T19:35:44.015115Z",
     "iopub.status.idle": "2024-01-27T19:35:44.049722Z",
     "shell.execute_reply": "2024-01-27T19:35:44.048399Z"
    },
    "papermill": {
     "duration": 0.057636,
     "end_time": "2024-01-27T19:35:44.052822",
     "exception": false,
     "start_time": "2024-01-27T19:35:43.995186",
     "status": "completed"
    },
    "tags": []
   },
   "outputs": [
    {
     "data": {
      "text/html": [
       "<div>\n",
       "<style scoped>\n",
       "    .dataframe tbody tr th:only-of-type {\n",
       "        vertical-align: middle;\n",
       "    }\n",
       "\n",
       "    .dataframe tbody tr th {\n",
       "        vertical-align: top;\n",
       "    }\n",
       "\n",
       "    .dataframe thead th {\n",
       "        text-align: right;\n",
       "    }\n",
       "</style>\n",
       "<table border=\"1\" class=\"dataframe\">\n",
       "  <thead>\n",
       "    <tr style=\"text-align: right;\">\n",
       "      <th></th>\n",
       "      <th>order_details_id</th>\n",
       "      <th>order_id</th>\n",
       "      <th>pizza_id</th>\n",
       "      <th>quantity</th>\n",
       "      <th>pizza_type_id</th>\n",
       "      <th>size</th>\n",
       "      <th>price</th>\n",
       "    </tr>\n",
       "  </thead>\n",
       "  <tbody>\n",
       "    <tr>\n",
       "      <th>0</th>\n",
       "      <td>1</td>\n",
       "      <td>1</td>\n",
       "      <td>hawaiian_m</td>\n",
       "      <td>1</td>\n",
       "      <td>hawaiian</td>\n",
       "      <td>M</td>\n",
       "      <td>13.25</td>\n",
       "    </tr>\n",
       "    <tr>\n",
       "      <th>473</th>\n",
       "      <td>2</td>\n",
       "      <td>2</td>\n",
       "      <td>classic_dlx_m</td>\n",
       "      <td>1</td>\n",
       "      <td>classic_dlx</td>\n",
       "      <td>M</td>\n",
       "      <td>16.00</td>\n",
       "    </tr>\n",
       "    <tr>\n",
       "      <th>1632</th>\n",
       "      <td>3</td>\n",
       "      <td>2</td>\n",
       "      <td>five_cheese_l</td>\n",
       "      <td>1</td>\n",
       "      <td>five_cheese</td>\n",
       "      <td>L</td>\n",
       "      <td>18.50</td>\n",
       "    </tr>\n",
       "    <tr>\n",
       "      <th>2991</th>\n",
       "      <td>4</td>\n",
       "      <td>2</td>\n",
       "      <td>ital_supr_l</td>\n",
       "      <td>1</td>\n",
       "      <td>ital_supr</td>\n",
       "      <td>L</td>\n",
       "      <td>20.75</td>\n",
       "    </tr>\n",
       "    <tr>\n",
       "      <th>3726</th>\n",
       "      <td>5</td>\n",
       "      <td>2</td>\n",
       "      <td>mexicana_m</td>\n",
       "      <td>1</td>\n",
       "      <td>mexicana</td>\n",
       "      <td>M</td>\n",
       "      <td>16.00</td>\n",
       "    </tr>\n",
       "    <tr>\n",
       "      <th>...</th>\n",
       "      <td>...</td>\n",
       "      <td>...</td>\n",
       "      <td>...</td>\n",
       "      <td>...</td>\n",
       "      <td>...</td>\n",
       "      <td>...</td>\n",
       "      <td>...</td>\n",
       "    </tr>\n",
       "    <tr>\n",
       "      <th>33849</th>\n",
       "      <td>48616</td>\n",
       "      <td>21348</td>\n",
       "      <td>ckn_alfredo_m</td>\n",
       "      <td>1</td>\n",
       "      <td>ckn_alfredo</td>\n",
       "      <td>M</td>\n",
       "      <td>16.75</td>\n",
       "    </tr>\n",
       "    <tr>\n",
       "      <th>22025</th>\n",
       "      <td>48617</td>\n",
       "      <td>21348</td>\n",
       "      <td>four_cheese_l</td>\n",
       "      <td>1</td>\n",
       "      <td>four_cheese</td>\n",
       "      <td>L</td>\n",
       "      <td>17.95</td>\n",
       "    </tr>\n",
       "    <tr>\n",
       "      <th>22493</th>\n",
       "      <td>48618</td>\n",
       "      <td>21348</td>\n",
       "      <td>napolitana_s</td>\n",
       "      <td>1</td>\n",
       "      <td>napolitana</td>\n",
       "      <td>S</td>\n",
       "      <td>12.00</td>\n",
       "    </tr>\n",
       "    <tr>\n",
       "      <th>13174</th>\n",
       "      <td>48619</td>\n",
       "      <td>21349</td>\n",
       "      <td>mexicana_l</td>\n",
       "      <td>1</td>\n",
       "      <td>mexicana</td>\n",
       "      <td>L</td>\n",
       "      <td>20.25</td>\n",
       "    </tr>\n",
       "    <tr>\n",
       "      <th>7364</th>\n",
       "      <td>48620</td>\n",
       "      <td>21350</td>\n",
       "      <td>bbq_ckn_s</td>\n",
       "      <td>1</td>\n",
       "      <td>bbq_ckn</td>\n",
       "      <td>S</td>\n",
       "      <td>12.75</td>\n",
       "    </tr>\n",
       "  </tbody>\n",
       "</table>\n",
       "<p>48620 rows × 7 columns</p>\n",
       "</div>"
      ],
      "text/plain": [
       "       order_details_id  order_id       pizza_id  quantity pizza_type_id size  \\\n",
       "0                     1         1     hawaiian_m         1      hawaiian    M   \n",
       "473                   2         2  classic_dlx_m         1   classic_dlx    M   \n",
       "1632                  3         2  five_cheese_l         1   five_cheese    L   \n",
       "2991                  4         2    ital_supr_l         1     ital_supr    L   \n",
       "3726                  5         2     mexicana_m         1      mexicana    M   \n",
       "...                 ...       ...            ...       ...           ...  ...   \n",
       "33849             48616     21348  ckn_alfredo_m         1   ckn_alfredo    M   \n",
       "22025             48617     21348  four_cheese_l         1   four_cheese    L   \n",
       "22493             48618     21348   napolitana_s         1    napolitana    S   \n",
       "13174             48619     21349     mexicana_l         1      mexicana    L   \n",
       "7364              48620     21350      bbq_ckn_s         1       bbq_ckn    S   \n",
       "\n",
       "       price  \n",
       "0      13.25  \n",
       "473    16.00  \n",
       "1632   18.50  \n",
       "2991   20.75  \n",
       "3726   16.00  \n",
       "...      ...  \n",
       "33849  16.75  \n",
       "22025  17.95  \n",
       "22493  12.00  \n",
       "13174  20.25  \n",
       "7364   12.75  \n",
       "\n",
       "[48620 rows x 7 columns]"
      ]
     },
     "execution_count": 18,
     "metadata": {},
     "output_type": "execute_result"
    }
   ],
   "source": [
    "#Creating final_df2\n",
    "\n",
    "final_df2 = combine_df3.sort_values(by = [\"order_details_id\"])\n",
    "final_df2"
   ]
  },
  {
   "cell_type": "code",
   "execution_count": 19,
   "id": "05961698",
   "metadata": {
    "execution": {
     "iopub.execute_input": "2024-01-27T19:35:44.092722Z",
     "iopub.status.busy": "2024-01-27T19:35:44.092067Z",
     "iopub.status.idle": "2024-01-27T19:35:44.121528Z",
     "shell.execute_reply": "2024-01-27T19:35:44.120310Z"
    },
    "papermill": {
     "duration": 0.053191,
     "end_time": "2024-01-27T19:35:44.124827",
     "exception": false,
     "start_time": "2024-01-27T19:35:44.071636",
     "status": "completed"
    },
    "tags": []
   },
   "outputs": [
    {
     "data": {
      "text/html": [
       "<div>\n",
       "<style scoped>\n",
       "    .dataframe tbody tr th:only-of-type {\n",
       "        vertical-align: middle;\n",
       "    }\n",
       "\n",
       "    .dataframe tbody tr th {\n",
       "        vertical-align: top;\n",
       "    }\n",
       "\n",
       "    .dataframe thead th {\n",
       "        text-align: right;\n",
       "    }\n",
       "</style>\n",
       "<table border=\"1\" class=\"dataframe\">\n",
       "  <thead>\n",
       "    <tr style=\"text-align: right;\">\n",
       "      <th></th>\n",
       "      <th>order_id</th>\n",
       "      <th>pizza_id</th>\n",
       "      <th>quantity</th>\n",
       "      <th>pizza_type_id</th>\n",
       "      <th>size</th>\n",
       "      <th>price</th>\n",
       "    </tr>\n",
       "    <tr>\n",
       "      <th>order_details_id</th>\n",
       "      <th></th>\n",
       "      <th></th>\n",
       "      <th></th>\n",
       "      <th></th>\n",
       "      <th></th>\n",
       "      <th></th>\n",
       "    </tr>\n",
       "  </thead>\n",
       "  <tbody>\n",
       "    <tr>\n",
       "      <th>1</th>\n",
       "      <td>1</td>\n",
       "      <td>hawaiian_m</td>\n",
       "      <td>1</td>\n",
       "      <td>hawaiian</td>\n",
       "      <td>M</td>\n",
       "      <td>13.25</td>\n",
       "    </tr>\n",
       "    <tr>\n",
       "      <th>2</th>\n",
       "      <td>2</td>\n",
       "      <td>classic_dlx_m</td>\n",
       "      <td>1</td>\n",
       "      <td>classic_dlx</td>\n",
       "      <td>M</td>\n",
       "      <td>16.00</td>\n",
       "    </tr>\n",
       "    <tr>\n",
       "      <th>3</th>\n",
       "      <td>2</td>\n",
       "      <td>five_cheese_l</td>\n",
       "      <td>1</td>\n",
       "      <td>five_cheese</td>\n",
       "      <td>L</td>\n",
       "      <td>18.50</td>\n",
       "    </tr>\n",
       "    <tr>\n",
       "      <th>4</th>\n",
       "      <td>2</td>\n",
       "      <td>ital_supr_l</td>\n",
       "      <td>1</td>\n",
       "      <td>ital_supr</td>\n",
       "      <td>L</td>\n",
       "      <td>20.75</td>\n",
       "    </tr>\n",
       "    <tr>\n",
       "      <th>5</th>\n",
       "      <td>2</td>\n",
       "      <td>mexicana_m</td>\n",
       "      <td>1</td>\n",
       "      <td>mexicana</td>\n",
       "      <td>M</td>\n",
       "      <td>16.00</td>\n",
       "    </tr>\n",
       "    <tr>\n",
       "      <th>...</th>\n",
       "      <td>...</td>\n",
       "      <td>...</td>\n",
       "      <td>...</td>\n",
       "      <td>...</td>\n",
       "      <td>...</td>\n",
       "      <td>...</td>\n",
       "    </tr>\n",
       "    <tr>\n",
       "      <th>48616</th>\n",
       "      <td>21348</td>\n",
       "      <td>ckn_alfredo_m</td>\n",
       "      <td>1</td>\n",
       "      <td>ckn_alfredo</td>\n",
       "      <td>M</td>\n",
       "      <td>16.75</td>\n",
       "    </tr>\n",
       "    <tr>\n",
       "      <th>48617</th>\n",
       "      <td>21348</td>\n",
       "      <td>four_cheese_l</td>\n",
       "      <td>1</td>\n",
       "      <td>four_cheese</td>\n",
       "      <td>L</td>\n",
       "      <td>17.95</td>\n",
       "    </tr>\n",
       "    <tr>\n",
       "      <th>48618</th>\n",
       "      <td>21348</td>\n",
       "      <td>napolitana_s</td>\n",
       "      <td>1</td>\n",
       "      <td>napolitana</td>\n",
       "      <td>S</td>\n",
       "      <td>12.00</td>\n",
       "    </tr>\n",
       "    <tr>\n",
       "      <th>48619</th>\n",
       "      <td>21349</td>\n",
       "      <td>mexicana_l</td>\n",
       "      <td>1</td>\n",
       "      <td>mexicana</td>\n",
       "      <td>L</td>\n",
       "      <td>20.25</td>\n",
       "    </tr>\n",
       "    <tr>\n",
       "      <th>48620</th>\n",
       "      <td>21350</td>\n",
       "      <td>bbq_ckn_s</td>\n",
       "      <td>1</td>\n",
       "      <td>bbq_ckn</td>\n",
       "      <td>S</td>\n",
       "      <td>12.75</td>\n",
       "    </tr>\n",
       "  </tbody>\n",
       "</table>\n",
       "<p>48620 rows × 6 columns</p>\n",
       "</div>"
      ],
      "text/plain": [
       "                  order_id       pizza_id  quantity pizza_type_id size  price\n",
       "order_details_id                                                             \n",
       "1                        1     hawaiian_m         1      hawaiian    M  13.25\n",
       "2                        2  classic_dlx_m         1   classic_dlx    M  16.00\n",
       "3                        2  five_cheese_l         1   five_cheese    L  18.50\n",
       "4                        2    ital_supr_l         1     ital_supr    L  20.75\n",
       "5                        2     mexicana_m         1      mexicana    M  16.00\n",
       "...                    ...            ...       ...           ...  ...    ...\n",
       "48616                21348  ckn_alfredo_m         1   ckn_alfredo    M  16.75\n",
       "48617                21348  four_cheese_l         1   four_cheese    L  17.95\n",
       "48618                21348   napolitana_s         1    napolitana    S  12.00\n",
       "48619                21349     mexicana_l         1      mexicana    L  20.25\n",
       "48620                21350      bbq_ckn_s         1       bbq_ckn    S  12.75\n",
       "\n",
       "[48620 rows x 6 columns]"
      ]
     },
     "execution_count": 19,
     "metadata": {},
     "output_type": "execute_result"
    }
   ],
   "source": [
    "#Setting order_details_id as index\n",
    "\n",
    "final_df2.set_index(['order_details_id'])"
   ]
  },
  {
   "cell_type": "code",
   "execution_count": 20,
   "id": "dc59720f",
   "metadata": {
    "execution": {
     "iopub.execute_input": "2024-01-27T19:35:44.167176Z",
     "iopub.status.busy": "2024-01-27T19:35:44.166668Z",
     "iopub.status.idle": "2024-01-27T19:35:44.184659Z",
     "shell.execute_reply": "2024-01-27T19:35:44.183158Z"
    },
    "papermill": {
     "duration": 0.042241,
     "end_time": "2024-01-27T19:35:44.187445",
     "exception": false,
     "start_time": "2024-01-27T19:35:44.145204",
     "status": "completed"
    },
    "tags": []
   },
   "outputs": [
    {
     "data": {
      "text/plain": [
       "size\n",
       "L      18526\n",
       "M      15385\n",
       "S      14137\n",
       "XL       544\n",
       "XXL       28\n",
       "Name: count, dtype: int64"
      ]
     },
     "execution_count": 20,
     "metadata": {},
     "output_type": "execute_result"
    }
   ],
   "source": [
    "#To get count of size of pizzas\n",
    "\n",
    "final_df2['size'].value_counts()"
   ]
  },
  {
   "cell_type": "code",
   "execution_count": 21,
   "id": "ae846a9b",
   "metadata": {
    "execution": {
     "iopub.execute_input": "2024-01-27T19:35:44.232251Z",
     "iopub.status.busy": "2024-01-27T19:35:44.231782Z",
     "iopub.status.idle": "2024-01-27T19:35:44.250201Z",
     "shell.execute_reply": "2024-01-27T19:35:44.249228Z"
    },
    "papermill": {
     "duration": 0.0441,
     "end_time": "2024-01-27T19:35:44.252719",
     "exception": false,
     "start_time": "2024-01-27T19:35:44.208619",
     "status": "completed"
    },
    "tags": []
   },
   "outputs": [
    {
     "data": {
      "text/plain": [
       "pizza_id\n",
       "thai_ckn_l        28323.75\n",
       "five_cheese_l     25141.50\n",
       "four_cheese_l     22850.35\n",
       "spicy_ital_l      22576.00\n",
       "big_meat_s        21732.00\n",
       "                    ...   \n",
       "mexicana_s         1920.00\n",
       "green_garden_l     1903.50\n",
       "ckn_alfredo_s      1224.00\n",
       "calabrese_s        1212.75\n",
       "the_greek_xxl      1006.60\n",
       "Name: price, Length: 91, dtype: float64"
      ]
     },
     "execution_count": 21,
     "metadata": {},
     "output_type": "execute_result"
    }
   ],
   "source": [
    "pizza_sales = final_df2.groupby(['pizza_id'])['price'].sum().sort_values(ascending = False)\n",
    "pizza_sales"
   ]
  },
  {
   "cell_type": "code",
   "execution_count": 22,
   "id": "b5af02e5",
   "metadata": {
    "execution": {
     "iopub.execute_input": "2024-01-27T19:35:44.293708Z",
     "iopub.status.busy": "2024-01-27T19:35:44.293168Z",
     "iopub.status.idle": "2024-01-27T19:35:45.557581Z",
     "shell.execute_reply": "2024-01-27T19:35:45.556222Z"
    },
    "papermill": {
     "duration": 1.288511,
     "end_time": "2024-01-27T19:35:45.560621",
     "exception": false,
     "start_time": "2024-01-27T19:35:44.272110",
     "status": "completed"
    },
    "tags": []
   },
   "outputs": [
    {
     "name": "stderr",
     "output_type": "stream",
     "text": [
      "/tmp/ipykernel_18/3347663007.py:1: UserWarning: The argument 'infer_datetime_format' is deprecated and will be removed in a future version. A strict version of it is now the default, see https://pandas.pydata.org/pdeps/0004-consistent-to-datetime-parsing.html. You can safely remove this argument.\n",
      "  df4['hour'] = pd.to_datetime(df4['time'], infer_datetime_format=True).dt.hour\n",
      "/tmp/ipykernel_18/3347663007.py:1: UserWarning: Could not infer format, so each element will be parsed individually, falling back to `dateutil`. To ensure parsing is consistent and as-expected, please specify a format.\n",
      "  df4['hour'] = pd.to_datetime(df4['time'], infer_datetime_format=True).dt.hour\n"
     ]
    },
    {
     "name": "stdout",
     "output_type": "stream",
     "text": [
      "<class 'pandas.core.frame.DataFrame'>\n",
      "RangeIndex: 21350 entries, 0 to 21349\n",
      "Data columns (total 4 columns):\n",
      " #   Column    Non-Null Count  Dtype \n",
      "---  ------    --------------  ----- \n",
      " 0   order_id  21350 non-null  int64 \n",
      " 1   date      21350 non-null  object\n",
      " 2   time      21350 non-null  object\n",
      " 3   hour      21350 non-null  int32 \n",
      "dtypes: int32(1), int64(1), object(2)\n",
      "memory usage: 583.9+ KB\n"
     ]
    }
   ],
   "source": [
    "df4['hour'] = pd.to_datetime(df4['time'], infer_datetime_format=True).dt.hour\n",
    "df4.info()"
   ]
  },
  {
   "cell_type": "code",
   "execution_count": 23,
   "id": "d48cda0e",
   "metadata": {
    "execution": {
     "iopub.execute_input": "2024-01-27T19:35:45.602594Z",
     "iopub.status.busy": "2024-01-27T19:35:45.602112Z",
     "iopub.status.idle": "2024-01-27T19:35:45.633370Z",
     "shell.execute_reply": "2024-01-27T19:35:45.632276Z"
    },
    "papermill": {
     "duration": 0.057582,
     "end_time": "2024-01-27T19:35:45.637671",
     "exception": false,
     "start_time": "2024-01-27T19:35:45.580089",
     "status": "completed"
    },
    "tags": []
   },
   "outputs": [
    {
     "name": "stdout",
     "output_type": "stream",
     "text": [
      "<class 'pandas.core.frame.DataFrame'>\n",
      "RangeIndex: 21350 entries, 0 to 21349\n",
      "Data columns (total 5 columns):\n",
      " #   Column    Non-Null Count  Dtype \n",
      "---  ------    --------------  ----- \n",
      " 0   order_id  21350 non-null  int64 \n",
      " 1   date      21350 non-null  object\n",
      " 2   time      21350 non-null  object\n",
      " 3   hour      21350 non-null  int32 \n",
      " 4   Months    21350 non-null  int32 \n",
      "dtypes: int32(2), int64(1), object(2)\n",
      "memory usage: 667.3+ KB\n"
     ]
    },
    {
     "name": "stderr",
     "output_type": "stream",
     "text": [
      "/tmp/ipykernel_18/1168305652.py:1: UserWarning: The argument 'infer_datetime_format' is deprecated and will be removed in a future version. A strict version of it is now the default, see https://pandas.pydata.org/pdeps/0004-consistent-to-datetime-parsing.html. You can safely remove this argument.\n",
      "  df4['Months'] = pd.to_datetime(df4['date'], infer_datetime_format = True).dt.month\n"
     ]
    }
   ],
   "source": [
    "df4['Months'] = pd.to_datetime(df4['date'], infer_datetime_format = True).dt.month\n",
    "df4.info()"
   ]
  },
  {
   "cell_type": "markdown",
   "id": "bf003381",
   "metadata": {
    "papermill": {
     "duration": 0.019141,
     "end_time": "2024-01-27T19:35:45.677187",
     "exception": false,
     "start_time": "2024-01-27T19:35:45.658046",
     "status": "completed"
    },
    "tags": []
   },
   "source": [
    "# 1. How many customers do we have each day? Are there any peak hours?"
   ]
  },
  {
   "cell_type": "code",
   "execution_count": 24,
   "id": "1630f00b",
   "metadata": {
    "execution": {
     "iopub.execute_input": "2024-01-27T19:35:45.719478Z",
     "iopub.status.busy": "2024-01-27T19:35:45.718683Z",
     "iopub.status.idle": "2024-01-27T19:35:45.731841Z",
     "shell.execute_reply": "2024-01-27T19:35:45.730634Z"
    },
    "papermill": {
     "duration": 0.037339,
     "end_time": "2024-01-27T19:35:45.734685",
     "exception": false,
     "start_time": "2024-01-27T19:35:45.697346",
     "status": "completed"
    },
    "tags": []
   },
   "outputs": [
    {
     "data": {
      "text/plain": [
       "date\n",
       "2015-11-27    115\n",
       "2015-11-26    113\n",
       "2015-10-15    107\n",
       "2015-07-04    105\n",
       "2015-05-15     94\n",
       "             ... \n",
       "2015-03-22     37\n",
       "2015-02-22     37\n",
       "2015-12-27     35\n",
       "2015-12-30     32\n",
       "2015-12-29     27\n",
       "Name: count, Length: 358, dtype: int64"
      ]
     },
     "execution_count": 24,
     "metadata": {},
     "output_type": "execute_result"
    }
   ],
   "source": [
    "#By this we can see the no. of customers on each day \n",
    "\n",
    "sales_times = df4['date'].value_counts()\n",
    "sales_times"
   ]
  },
  {
   "cell_type": "code",
   "execution_count": 25,
   "id": "66e487c6",
   "metadata": {
    "execution": {
     "iopub.execute_input": "2024-01-27T19:35:45.776832Z",
     "iopub.status.busy": "2024-01-27T19:35:45.776328Z",
     "iopub.status.idle": "2024-01-27T19:35:45.788974Z",
     "shell.execute_reply": "2024-01-27T19:35:45.787798Z"
    },
    "papermill": {
     "duration": 0.036859,
     "end_time": "2024-01-27T19:35:45.791596",
     "exception": false,
     "start_time": "2024-01-27T19:35:45.754737",
     "status": "completed"
    },
    "tags": []
   },
   "outputs": [
    {
     "data": {
      "text/plain": [
       "59.63687150837989"
      ]
     },
     "execution_count": 25,
     "metadata": {},
     "output_type": "execute_result"
    }
   ],
   "source": [
    "sales_average = df4['date'].value_counts().mean()\n",
    "sales_average"
   ]
  },
  {
   "cell_type": "code",
   "execution_count": 26,
   "id": "1d3eaabc",
   "metadata": {
    "execution": {
     "iopub.execute_input": "2024-01-27T19:35:45.839717Z",
     "iopub.status.busy": "2024-01-27T19:35:45.837972Z",
     "iopub.status.idle": "2024-01-27T19:35:45.852013Z",
     "shell.execute_reply": "2024-01-27T19:35:45.851186Z"
    },
    "papermill": {
     "duration": 0.043097,
     "end_time": "2024-01-27T19:35:45.854659",
     "exception": false,
     "start_time": "2024-01-27T19:35:45.811562",
     "status": "completed"
    },
    "tags": []
   },
   "outputs": [
    {
     "data": {
      "text/plain": [
       "hour\n",
       "12    2520\n",
       "13    2455\n",
       "18    2399\n",
       "17    2336\n",
       "19    2009\n",
       "16    1920\n",
       "20    1642\n",
       "14    1472\n",
       "15    1468\n",
       "11    1231\n",
       "21    1198\n",
       "22     663\n",
       "23      28\n",
       "10       8\n",
       "9        1\n",
       "Name: count, dtype: int64"
      ]
     },
     "execution_count": 26,
     "metadata": {},
     "output_type": "execute_result"
    }
   ],
   "source": [
    "#To find the peak hours\n",
    "\n",
    "sales_hours = df4['hour'].value_counts().sort_values(ascending=False)\n",
    "sales_hours"
   ]
  },
  {
   "cell_type": "code",
   "execution_count": 27,
   "id": "be89c66d",
   "metadata": {
    "execution": {
     "iopub.execute_input": "2024-01-27T19:35:45.908874Z",
     "iopub.status.busy": "2024-01-27T19:35:45.907861Z",
     "iopub.status.idle": "2024-01-27T19:35:46.433652Z",
     "shell.execute_reply": "2024-01-27T19:35:46.431901Z"
    },
    "papermill": {
     "duration": 0.555858,
     "end_time": "2024-01-27T19:35:46.437928",
     "exception": false,
     "start_time": "2024-01-27T19:35:45.882070",
     "status": "completed"
    },
    "tags": []
   },
   "outputs": [
    {
     "data": {
      "text/plain": [
       "Text(0.5, 1.0, 'Peak Time Chart')"
      ]
     },
     "execution_count": 27,
     "metadata": {},
     "output_type": "execute_result"
    },
    {
     "data": {
      "image/png": "[encoded data removed]",
      "text/plain": [
       "<Figure size 1500x700 with 1 Axes>"
      ]
     },
     "metadata": {},
     "output_type": "display_data"
    }
   ],
   "source": [
    "sales_hours.head(10).to_frame().plot(kind='bar',color='green',figsize=(15,7))\n",
    "plt.xlabel('Hours')\n",
    "plt.ylabel('Total Sales')\n",
    "plt.title('Peak Time Chart')"
   ]
  },
  {
   "cell_type": "markdown",
   "id": "a25fc0a9",
   "metadata": {
    "papermill": {
     "duration": 0.020411,
     "end_time": "2024-01-27T19:35:46.481577",
     "exception": false,
     "start_time": "2024-01-27T19:35:46.461166",
     "status": "completed"
    },
    "tags": []
   },
   "source": [
    "Hence, from above graph it can be said that the peak hours are 12 PM to 1 PM."
   ]
  },
  {
   "cell_type": "markdown",
   "id": "fb298bac",
   "metadata": {
    "papermill": {
     "duration": 0.024347,
     "end_time": "2024-01-27T19:35:46.526786",
     "exception": false,
     "start_time": "2024-01-27T19:35:46.502439",
     "status": "completed"
    },
    "tags": []
   },
   "source": [
    "# 2. How many pizzas are typically in order? Do we have any bestsellers?"
   ]
  },
  {
   "cell_type": "code",
   "execution_count": 28,
   "id": "fdc88f66",
   "metadata": {
    "execution": {
     "iopub.execute_input": "2024-01-27T19:35:46.572528Z",
     "iopub.status.busy": "2024-01-27T19:35:46.572070Z",
     "iopub.status.idle": "2024-01-27T19:35:46.597483Z",
     "shell.execute_reply": "2024-01-27T19:35:46.596193Z"
    },
    "papermill": {
     "duration": 0.051818,
     "end_time": "2024-01-27T19:35:46.600518",
     "exception": false,
     "start_time": "2024-01-27T19:35:46.548700",
     "status": "completed"
    },
    "tags": []
   },
   "outputs": [
    {
     "name": "stdout",
     "output_type": "stream",
     "text": [
      "Average pizzas per order: 2.2772833723653396\n"
     ]
    }
   ],
   "source": [
    "avg_pizzas_per_order = final_df2.groupby('order_id')['pizza_id'].nunique().mean()\n",
    "print(f\"Average pizzas per order: {avg_pizzas_per_order}\")"
   ]
  },
  {
   "cell_type": "code",
   "execution_count": 29,
   "id": "5a6d84ac",
   "metadata": {
    "execution": {
     "iopub.execute_input": "2024-01-27T19:35:46.645129Z",
     "iopub.status.busy": "2024-01-27T19:35:46.644678Z",
     "iopub.status.idle": "2024-01-27T19:35:46.979852Z",
     "shell.execute_reply": "2024-01-27T19:35:46.978620Z"
    },
    "papermill": {
     "duration": 0.361538,
     "end_time": "2024-01-27T19:35:46.982673",
     "exception": false,
     "start_time": "2024-01-27T19:35:46.621135",
     "status": "completed"
    },
    "tags": []
   },
   "outputs": [
    {
     "data": {
      "image/png": "[encoded data removed]",
      "text/plain": [
       "<Figure size 1000x700 with 1 Axes>"
      ]
     },
     "metadata": {},
     "output_type": "display_data"
    }
   ],
   "source": [
    "bestsellers = final_df2['pizza_id'].value_counts().head(5)\n",
    "plt.figure(figsize=(10,7))\n",
    "bestsellers.plot(kind='bar', title='Top 5 Bestsellers')\n",
    "plt.show()"
   ]
  },
  {
   "cell_type": "markdown",
   "id": "6ce74572",
   "metadata": {
    "papermill": {
     "duration": 0.021699,
     "end_time": "2024-01-27T19:35:47.026816",
     "exception": false,
     "start_time": "2024-01-27T19:35:47.005117",
     "status": "completed"
    },
    "tags": []
   },
   "source": [
    "Average number of pizzas per order is 2.2772833723653396. And graph is showing the data for top 5 best sellers."
   ]
  },
  {
   "cell_type": "markdown",
   "id": "3e925163",
   "metadata": {
    "papermill": {
     "duration": 0.023542,
     "end_time": "2024-01-27T19:35:47.072919",
     "exception": false,
     "start_time": "2024-01-27T19:35:47.049377",
     "status": "completed"
    },
    "tags": []
   },
   "source": [
    "# 3. How much money did we make this year? Can we identify any seasonality in the sales?"
   ]
  },
  {
   "cell_type": "code",
   "execution_count": 30,
   "id": "7b2b11e5",
   "metadata": {
    "execution": {
     "iopub.execute_input": "2024-01-27T19:35:47.122061Z",
     "iopub.status.busy": "2024-01-27T19:35:47.121589Z",
     "iopub.status.idle": "2024-01-27T19:35:47.132113Z",
     "shell.execute_reply": "2024-01-27T19:35:47.130537Z"
    },
    "papermill": {
     "duration": 0.039271,
     "end_time": "2024-01-27T19:35:47.135437",
     "exception": false,
     "start_time": "2024-01-27T19:35:47.096166",
     "status": "completed"
    },
    "tags": []
   },
   "outputs": [
    {
     "data": {
      "text/plain": [
       "801944.7000000001"
      ]
     },
     "execution_count": 30,
     "metadata": {},
     "output_type": "execute_result"
    }
   ],
   "source": [
    "final_df2['price'].sum()"
   ]
  },
  {
   "cell_type": "code",
   "execution_count": 31,
   "id": "0688b36f",
   "metadata": {
    "execution": {
     "iopub.execute_input": "2024-01-27T19:35:47.188401Z",
     "iopub.status.busy": "2024-01-27T19:35:47.187905Z",
     "iopub.status.idle": "2024-01-27T19:35:47.202899Z",
     "shell.execute_reply": "2024-01-27T19:35:47.201905Z"
    },
    "papermill": {
     "duration": 0.046709,
     "end_time": "2024-01-27T19:35:47.205182",
     "exception": false,
     "start_time": "2024-01-27T19:35:47.158473",
     "status": "completed"
    },
    "tags": []
   },
   "outputs": [
    {
     "data": {
      "text/plain": [
       "date\n",
       "2015-11-27    115\n",
       "2015-11-26    113\n",
       "2015-10-15    107\n",
       "2015-07-04    105\n",
       "2015-05-15     94\n",
       "             ... \n",
       "2015-03-22     37\n",
       "2015-02-22     37\n",
       "2015-12-27     35\n",
       "2015-12-30     32\n",
       "2015-12-29     27\n",
       "Name: count, Length: 358, dtype: int64"
      ]
     },
     "execution_count": 31,
     "metadata": {},
     "output_type": "execute_result"
    }
   ],
   "source": [
    "df4['date'].value_counts().sort_values(ascending=False)"
   ]
  },
  {
   "cell_type": "code",
   "execution_count": 32,
   "id": "08904631",
   "metadata": {
    "execution": {
     "iopub.execute_input": "2024-01-27T19:35:47.253687Z",
     "iopub.status.busy": "2024-01-27T19:35:47.253158Z",
     "iopub.status.idle": "2024-01-27T19:35:47.264158Z",
     "shell.execute_reply": "2024-01-27T19:35:47.263144Z"
    },
    "papermill": {
     "duration": 0.038773,
     "end_time": "2024-01-27T19:35:47.266638",
     "exception": false,
     "start_time": "2024-01-27T19:35:47.227865",
     "status": "completed"
    },
    "tags": []
   },
   "outputs": [
    {
     "data": {
      "text/plain": [
       "Months\n",
       "7     1935\n",
       "5     1853\n",
       "1     1845\n",
       "8     1841\n",
       "3     1840\n",
       "4     1799\n",
       "11    1792\n",
       "6     1773\n",
       "2     1685\n",
       "12    1680\n",
       "9     1661\n",
       "10    1646\n",
       "Name: count, dtype: int64"
      ]
     },
     "execution_count": 32,
     "metadata": {},
     "output_type": "execute_result"
    }
   ],
   "source": [
    "df4['Months'].value_counts().sort_values(ascending=False)"
   ]
  },
  {
   "cell_type": "code",
   "execution_count": 33,
   "id": "6d40c4f8",
   "metadata": {
    "execution": {
     "iopub.execute_input": "2024-01-27T19:35:47.314625Z",
     "iopub.status.busy": "2024-01-27T19:35:47.313777Z",
     "iopub.status.idle": "2024-01-27T19:35:47.897563Z",
     "shell.execute_reply": "2024-01-27T19:35:47.896034Z"
    },
    "papermill": {
     "duration": 0.611497,
     "end_time": "2024-01-27T19:35:47.900732",
     "exception": false,
     "start_time": "2024-01-27T19:35:47.289235",
     "status": "completed"
    },
    "tags": []
   },
   "outputs": [
    {
     "data": {
      "text/plain": [
       "Text(0.5, 1.0, 'No. of pizzas sold per Month')"
      ]
     },
     "execution_count": 33,
     "metadata": {},
     "output_type": "execute_result"
    },
    {
     "data": {
      "image/png": "[encoded data removed]",
      "text/plain": [
       "<Figure size 1500x800 with 1 Axes>"
      ]
     },
     "metadata": {},
     "output_type": "display_data"
    }
   ],
   "source": [
    "df4.groupby('Months').agg('Months').count().to_frame().plot(kind='bar',figsize=(15,8))\n",
    "plt.ylabel('No. of pizzas orderd per Month')\n",
    "plt.title('No. of pizzas sold per Month')"
   ]
  },
  {
   "cell_type": "markdown",
   "id": "cd5ce614",
   "metadata": {
    "papermill": {
     "duration": 0.022623,
     "end_time": "2024-01-27T19:35:47.946341",
     "exception": false,
     "start_time": "2024-01-27T19:35:47.923718",
     "status": "completed"
    },
    "tags": []
   },
   "source": [
    "We made total money of 801944.70. And yes we can identify the seasonality sales as we can see that in month of July, highest number of pizza being sold."
   ]
  },
  {
   "cell_type": "markdown",
   "id": "90fea2cc",
   "metadata": {
    "papermill": {
     "duration": 0.0231,
     "end_time": "2024-01-27T19:35:47.992206",
     "exception": false,
     "start_time": "2024-01-27T19:35:47.969106",
     "status": "completed"
    },
    "tags": []
   },
   "source": [
    "# 4. Are there any pizzas we should take off the menu, or any promotions we could leverage?"
   ]
  },
  {
   "cell_type": "code",
   "execution_count": 34,
   "id": "13068a76",
   "metadata": {
    "execution": {
     "iopub.execute_input": "2024-01-27T19:35:48.042869Z",
     "iopub.status.busy": "2024-01-27T19:35:48.042393Z",
     "iopub.status.idle": "2024-01-27T19:35:48.060299Z",
     "shell.execute_reply": "2024-01-27T19:35:48.059344Z"
    },
    "papermill": {
     "duration": 0.046139,
     "end_time": "2024-01-27T19:35:48.063093",
     "exception": false,
     "start_time": "2024-01-27T19:35:48.016954",
     "status": "completed"
    },
    "tags": []
   },
   "outputs": [
    {
     "data": {
      "text/plain": [
       "pizza_id\n",
       "mexicana_s        160\n",
       "calabrese_s        99\n",
       "ckn_alfredo_s      96\n",
       "green_garden_l     94\n",
       "the_greek_xxl      28\n",
       "Name: count, dtype: int64"
      ]
     },
     "execution_count": 34,
     "metadata": {},
     "output_type": "execute_result"
    }
   ],
   "source": [
    "pizza_popularity = final_df2['pizza_id'].value_counts().tail(5)\n",
    "pizza_popularity"
   ]
  },
  {
   "cell_type": "code",
   "execution_count": 35,
   "id": "7b126a6a",
   "metadata": {
    "execution": {
     "iopub.execute_input": "2024-01-27T19:35:48.113483Z",
     "iopub.status.busy": "2024-01-27T19:35:48.112526Z",
     "iopub.status.idle": "2024-01-27T19:35:48.469613Z",
     "shell.execute_reply": "2024-01-27T19:35:48.468272Z"
    },
    "papermill": {
     "duration": 0.38601,
     "end_time": "2024-01-27T19:35:48.472901",
     "exception": false,
     "start_time": "2024-01-27T19:35:48.086891",
     "status": "completed"
    },
    "tags": []
   },
   "outputs": [
    {
     "data": {
      "image/png": "[encoded data removed]",
      "text/plain": [
       "<Figure size 1000x600 with 1 Axes>"
      ]
     },
     "metadata": {},
     "output_type": "display_data"
    }
   ],
   "source": [
    "plt.figure(figsize=(10,6))\n",
    "pizza_popularity.plot(kind='bar', title='Pizza Popularity')\n",
    "plt.ylabel('orders')\n",
    "plt.show()"
   ]
  },
  {
   "cell_type": "markdown",
   "id": "6eaf24e9",
   "metadata": {
    "papermill": {
     "duration": 0.026591,
     "end_time": "2024-01-27T19:35:48.523470",
     "exception": false,
     "start_time": "2024-01-27T19:35:48.496879",
     "status": "completed"
    },
    "tags": []
   },
   "source": [
    "This above chart shows the least popular pizzas. Either these should be removed from our menu or we may go for promotional offers."
   ]
  }
 ],
 "metadata": {
  "kaggle": {
   "accelerator": "none",
   "dataSources": [
    {
     "datasetId": 2515860,
     "sourceId": 4269787,
     "sourceType": "datasetVersion"
    }
   ],
   "dockerImageVersionId": 30635,
   "isGpuEnabled": false,
   "isInternetEnabled": true,
   "language": "python",
   "sourceType": "notebook"
  },
  "kernelspec": {
   "display_name": "Python 3",
   "language": "python",
   "name": "python3"
  },
  "language_info": {
   "codemirror_mode": {
    "name": "ipython",
    "version": 3
   },
   "file_extension": ".py",
   "mimetype": "text/x-python",
   "name": "python",
   "nbconvert_exporter": "python",
   "pygments_lexer": "ipython3",
   "version": "3.10.12"
  },
  "papermill": {
   "default_parameters": {},
   "duration": 10.962973,
   "end_time": "2024-01-27T19:35:49.272086",
   "environment_variables": {},
   "exception": null,
   "input_path": "__notebook__.ipynb",
   "output_path": "__notebook__.ipynb",
   "parameters": {},
   "start_time": "2024-01-27T19:35:38.309113",
   "version": "2.4.0"
  }
 },
 "nbformat": 4,
 "nbformat_minor": 5
}
